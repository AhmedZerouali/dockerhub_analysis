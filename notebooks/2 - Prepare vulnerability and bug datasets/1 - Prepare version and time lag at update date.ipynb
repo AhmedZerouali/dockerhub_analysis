{
 "cells": [
  {
   "cell_type": "code",
   "execution_count": 2,
   "metadata": {},
   "outputs": [],
   "source": [
    "%matplotlib inline\n",
    "import seaborn as sns; \n",
    "import pandas as pd\n",
    "import matplotlib.pyplot as plt\n",
    "from matplotlib import style\n",
    "from matplotlib import gridspec\n",
    "import scipy\n",
    "style.use('ggplot')\n",
    "import datetime\n",
    "from io import StringIO\n",
    "import re\n",
    "import os\n",
    "import numpy as np\n",
    "from datetime import datetime\n",
    "import apt_pkg\n",
    "apt_pkg.init_system()"
   ]
  },
  {
   "cell_type": "markdown",
   "metadata": {},
   "source": [
    "# Load installed packages"
   ]
  },
  {
   "cell_type": "code",
   "execution_count": 3,
   "metadata": {},
   "outputs": [
    {
     "name": "stderr",
     "output_type": "stream",
     "text": [
      "/usr/local/lib/python3.6/dist-packages/IPython/core/interactiveshell.py:3020: DtypeWarning: Columns (1) have mixed types. Specify dtype option on import or set low_memory=False.\n",
      "  interactivity=interactivity, compiler=compiler, result=result)\n"
     ]
    }
   ],
   "source": [
    "packages = pd.read_csv('../../data/for_analysis/installed_packages.csv',\n",
    "                      usecols=['package','version','archive','last_updated','date'])"
   ]
  },
  {
   "cell_type": "code",
   "execution_count": 4,
   "metadata": {},
   "outputs": [],
   "source": [
    "packages.drop_duplicates(inplace=True)"
   ]
  },
  {
   "cell_type": "code",
   "execution_count": 5,
   "metadata": {},
   "outputs": [
    {
     "data": {
      "text/plain": [
       "(2303862, 5)"
      ]
     },
     "execution_count": 5,
     "metadata": {},
     "output_type": "execute_result"
    }
   ],
   "source": [
    "packages.shape"
   ]
  },
  {
   "cell_type": "code",
   "execution_count": 6,
   "metadata": {},
   "outputs": [
    {
     "data": {
      "text/plain": [
       "(2257988, 3)"
      ]
     },
     "execution_count": 6,
     "metadata": {},
     "output_type": "execute_result"
    }
   ],
   "source": [
    "packages[['package','version','last_updated']].drop_duplicates().shape"
   ]
  },
  {
   "cell_type": "code",
   "execution_count": 6,
   "metadata": {},
   "outputs": [],
   "source": [
    "for col in packages.columns:\n",
    "    packages[col] = packages[col].apply(str)"
   ]
  },
  {
   "cell_type": "code",
   "execution_count": 7,
   "metadata": {},
   "outputs": [
    {
     "data": {
      "text/html": [
       "<div>\n",
       "<style scoped>\n",
       "    .dataframe tbody tr th:only-of-type {\n",
       "        vertical-align: middle;\n",
       "    }\n",
       "\n",
       "    .dataframe tbody tr th {\n",
       "        vertical-align: top;\n",
       "    }\n",
       "\n",
       "    .dataframe thead th {\n",
       "        text-align: right;\n",
       "    }\n",
       "</style>\n",
       "<table border=\"1\" class=\"dataframe\">\n",
       "  <thead>\n",
       "    <tr style=\"text-align: right;\">\n",
       "      <th></th>\n",
       "      <th>package</th>\n",
       "      <th>version</th>\n",
       "      <th>last_updated</th>\n",
       "      <th>archive</th>\n",
       "      <th>date</th>\n",
       "    </tr>\n",
       "  </thead>\n",
       "  <tbody>\n",
       "    <tr>\n",
       "      <td>0</td>\n",
       "      <td>0ad</td>\n",
       "      <td>0.0.21-2</td>\n",
       "      <td>2018-12-10</td>\n",
       "      <td>stretch</td>\n",
       "      <td>2016-11-19</td>\n",
       "    </tr>\n",
       "    <tr>\n",
       "      <td>1</td>\n",
       "      <td>0ad-data</td>\n",
       "      <td>0.0.21-1</td>\n",
       "      <td>2018-12-10</td>\n",
       "      <td>stretch</td>\n",
       "      <td>2016-11-19</td>\n",
       "    </tr>\n",
       "  </tbody>\n",
       "</table>\n",
       "</div>"
      ],
      "text/plain": [
       "    package   version last_updated  archive        date\n",
       "0       0ad  0.0.21-2   2018-12-10  stretch  2016-11-19\n",
       "1  0ad-data  0.0.21-1   2018-12-10  stretch  2016-11-19"
      ]
     },
     "execution_count": 7,
     "metadata": {},
     "output_type": "execute_result"
    }
   ],
   "source": [
    "packages.head(2)"
   ]
  },
  {
   "cell_type": "markdown",
   "metadata": {},
   "source": [
    "# Load debian packages"
   ]
  },
  {
   "cell_type": "code",
   "execution_count": 6,
   "metadata": {},
   "outputs": [
    {
     "data": {
      "text/plain": [
       "(954495, 4)"
      ]
     },
     "execution_count": 6,
     "metadata": {},
     "output_type": "execute_result"
    }
   ],
   "source": [
    "debian_packages = pd.read_csv('../../data/prepared_data/debian_packages.csv',\n",
    "                             usecols=['package','version','archive','date'])\n",
    "debian_packages.drop_duplicates(inplace=True)\n",
    "debian_packages.shape"
   ]
  },
  {
   "cell_type": "code",
   "execution_count": 7,
   "metadata": {},
   "outputs": [],
   "source": [
    "for col in debian_packages.columns:\n",
    "    debian_packages[col] = debian_packages[col].apply(str)"
   ]
  },
  {
   "cell_type": "code",
   "execution_count": 10,
   "metadata": {},
   "outputs": [],
   "source": [
    "debian_packages.rename(columns={'version':'version_c','date':'date_c'}, inplace=True)"
   ]
  },
  {
   "cell_type": "code",
   "execution_count": 12,
   "metadata": {},
   "outputs": [
    {
     "data": {
      "text/html": [
       "<div>\n",
       "<style scoped>\n",
       "    .dataframe tbody tr th:only-of-type {\n",
       "        vertical-align: middle;\n",
       "    }\n",
       "\n",
       "    .dataframe tbody tr th {\n",
       "        vertical-align: top;\n",
       "    }\n",
       "\n",
       "    .dataframe thead th {\n",
       "        text-align: right;\n",
       "    }\n",
       "</style>\n",
       "<table border=\"1\" class=\"dataframe\">\n",
       "  <thead>\n",
       "    <tr style=\"text-align: right;\">\n",
       "      <th></th>\n",
       "      <th>package</th>\n",
       "      <th>version_c</th>\n",
       "      <th>archive</th>\n",
       "      <th>date_c</th>\n",
       "    </tr>\n",
       "  </thead>\n",
       "  <tbody>\n",
       "    <tr>\n",
       "      <td>954493</td>\n",
       "      <td>zzuf</td>\n",
       "      <td>0.15-1+b1</td>\n",
       "      <td>buster</td>\n",
       "      <td>2017-06-19</td>\n",
       "    </tr>\n",
       "    <tr>\n",
       "      <td>954494</td>\n",
       "      <td>zzuf</td>\n",
       "      <td>0.15-1+b1</td>\n",
       "      <td>stretch</td>\n",
       "      <td>2017-03-06</td>\n",
       "    </tr>\n",
       "  </tbody>\n",
       "</table>\n",
       "</div>"
      ],
      "text/plain": [
       "       package  version_c  archive      date_c\n",
       "954493    zzuf  0.15-1+b1   buster  2017-06-19\n",
       "954494    zzuf  0.15-1+b1  stretch  2017-03-06"
      ]
     },
     "execution_count": 12,
     "metadata": {},
     "output_type": "execute_result"
    }
   ],
   "source": [
    "debian_packages.tail(2)"
   ]
  },
  {
   "cell_type": "code",
   "execution_count": 11,
   "metadata": {},
   "outputs": [
    {
     "data": {
      "text/plain": [
       "(26614399, 7)"
      ]
     },
     "execution_count": 11,
     "metadata": {},
     "output_type": "execute_result"
    }
   ],
   "source": [
    "packages = (packages\n",
    "            .merge(debian_packages,\n",
    "                   on = ['package','archive'],\n",
    "                   how = 'left'\n",
    "                  )\n",
    "           )\n",
    "packages.shape"
   ]
  },
  {
   "cell_type": "code",
   "execution_count": 12,
   "metadata": {},
   "outputs": [
    {
     "data": {
      "text/plain": [
       "(24367357, 7)"
      ]
     },
     "execution_count": 12,
     "metadata": {},
     "output_type": "execute_result"
    }
   ],
   "source": [
    "# Remove package version that were created after the containers inspection\n",
    "packages = packages.query('last_updated>=date_c').copy()\n",
    "packages.shape"
   ]
  },
  {
   "cell_type": "code",
   "execution_count": 16,
   "metadata": {},
   "outputs": [
    {
     "data": {
      "text/html": [
       "<div>\n",
       "<style scoped>\n",
       "    .dataframe tbody tr th:only-of-type {\n",
       "        vertical-align: middle;\n",
       "    }\n",
       "\n",
       "    .dataframe tbody tr th {\n",
       "        vertical-align: top;\n",
       "    }\n",
       "\n",
       "    .dataframe thead th {\n",
       "        text-align: right;\n",
       "    }\n",
       "</style>\n",
       "<table border=\"1\" class=\"dataframe\">\n",
       "  <thead>\n",
       "    <tr style=\"text-align: right;\">\n",
       "      <th></th>\n",
       "      <th>package</th>\n",
       "      <th>version</th>\n",
       "      <th>last_updated</th>\n",
       "      <th>archive</th>\n",
       "      <th>date</th>\n",
       "      <th>version_c</th>\n",
       "      <th>date_c</th>\n",
       "    </tr>\n",
       "  </thead>\n",
       "  <tbody>\n",
       "    <tr>\n",
       "      <td>0</td>\n",
       "      <td>0ad</td>\n",
       "      <td>0.0.21-2</td>\n",
       "      <td>2018-12-10</td>\n",
       "      <td>stretch</td>\n",
       "      <td>2016-11-19</td>\n",
       "      <td>0.0.17-1</td>\n",
       "      <td>2015-04-26</td>\n",
       "    </tr>\n",
       "    <tr>\n",
       "      <td>1</td>\n",
       "      <td>0ad</td>\n",
       "      <td>0.0.21-2</td>\n",
       "      <td>2018-12-10</td>\n",
       "      <td>stretch</td>\n",
       "      <td>2016-11-19</td>\n",
       "      <td>0.0.18-1</td>\n",
       "      <td>2015-04-27</td>\n",
       "    </tr>\n",
       "  </tbody>\n",
       "</table>\n",
       "</div>"
      ],
      "text/plain": [
       "  package   version last_updated  archive        date version_c      date_c\n",
       "0     0ad  0.0.21-2   2018-12-10  stretch  2016-11-19  0.0.17-1  2015-04-26\n",
       "1     0ad  0.0.21-2   2018-12-10  stretch  2016-11-19  0.0.18-1  2015-04-27"
      ]
     },
     "execution_count": 16,
     "metadata": {},
     "output_type": "execute_result"
    }
   ],
   "source": [
    "packages.head(2)"
   ]
  },
  {
   "cell_type": "markdown",
   "metadata": {},
   "source": [
    "# Let's compute the Time lag using latest available release"
   ]
  },
  {
   "cell_type": "code",
   "execution_count": 14,
   "metadata": {},
   "outputs": [
    {
     "data": {
      "text/plain": [
       "(3038690, 7)"
      ]
     },
     "execution_count": 14,
     "metadata": {},
     "output_type": "execute_result"
    }
   ],
   "source": [
    "time_lag = packages.query('date_c >= date')\n",
    "time_lag.shape"
   ]
  },
  {
   "cell_type": "code",
   "execution_count": 15,
   "metadata": {},
   "outputs": [
    {
     "data": {
      "text/plain": [
       "(2262749, 7)"
      ]
     },
     "execution_count": 15,
     "metadata": {},
     "output_type": "execute_result"
    }
   ],
   "source": [
    "time_lag = (time_lag\n",
    "            .sort_values('date_c', ascending=False)\n",
    "            .groupby(['package','version','archive','last_updated'])\n",
    "            .first()\n",
    "            .reset_index()\n",
    "           )\n",
    "time_lag.shape"
   ]
  },
  {
   "cell_type": "code",
   "execution_count": 16,
   "metadata": {},
   "outputs": [],
   "source": [
    "time_lag['date'] = pd.to_datetime(time_lag['date'])\n",
    "time_lag['date_c'] = pd.to_datetime(time_lag['date_c'])"
   ]
  },
  {
   "cell_type": "code",
   "execution_count": 17,
   "metadata": {},
   "outputs": [],
   "source": [
    "time_lag['tlag']=time_lag.apply(lambda d: (d['date_c'] - d['date']).days, axis=1)"
   ]
  },
  {
   "cell_type": "code",
   "execution_count": 19,
   "metadata": {},
   "outputs": [],
   "source": [
    "time_lag.rename(columns={'version_c':'ideal'}, inplace=True)"
   ]
  },
  {
   "cell_type": "code",
   "execution_count": 20,
   "metadata": {},
   "outputs": [],
   "source": [
    "time_lag = time_lag[['package','version','archive','last_updated','ideal','tlag']]"
   ]
  },
  {
   "cell_type": "code",
   "execution_count": 22,
   "metadata": {},
   "outputs": [
    {
     "name": "stderr",
     "output_type": "stream",
     "text": [
      "/usr/local/lib/python3.6/dist-packages/ipykernel_launcher.py:1: SettingWithCopyWarning: \n",
      "A value is trying to be set on a copy of a slice from a DataFrame.\n",
      "Try using .loc[row_indexer,col_indexer] = value instead\n",
      "\n",
      "See the caveats in the documentation: http://pandas.pydata.org/pandas-docs/stable/user_guide/indexing.html#returning-a-view-versus-a-copy\n",
      "  \"\"\"Entry point for launching an IPython kernel.\n"
     ]
    }
   ],
   "source": [
    "time_lag['compare'] = time_lag.apply(lambda d: compare(d['version'], d['ideal']), axis=1)"
   ]
  },
  {
   "cell_type": "markdown",
   "metadata": {},
   "source": [
    "# Let's compute the Version lag using latest available release"
   ]
  },
  {
   "cell_type": "code",
   "execution_count": null,
   "metadata": {},
   "outputs": [],
   "source": [
    "def compare(version,compare_to):\n",
    "    return apt_pkg.version_compare(str(version), str(compare_to))\n",
    "    # 1 if version > compare_to\n",
    "        \n",
    "packages['compare'] = packages.apply(lambda d: compare(d['version'], d['version_c']), axis=1)\n",
    "packages.shape"
   ]
  },
  {
   "cell_type": "code",
   "execution_count": 26,
   "metadata": {},
   "outputs": [
    {
     "data": {
      "text/plain": [
       "array([   1,    0,    2,    3,    8,    4,    5,   -1,   -2,   -3,   -4,\n",
       "          6,   -5,    7,  303,  -16,   16, -303,  -17,   17,   -6,   -7,\n",
       "         -8,  300,    9,   82,  201,   98,  -98,  184,   11,   -9,  188,\n",
       "        199,  103,  104,  220, -114, -300,  114,  -14,   15,   14,   13,\n",
       "         12,   10,   21,   97,  200])"
      ]
     },
     "execution_count": 26,
     "metadata": {},
     "output_type": "execute_result"
    }
   ],
   "source": [
    "packages.compare.unique()"
   ]
  },
  {
   "cell_type": "code",
   "execution_count": 27,
   "metadata": {},
   "outputs": [
    {
     "data": {
      "text/plain": [
       "(783735, 8)"
      ]
     },
     "execution_count": 27,
     "metadata": {},
     "output_type": "execute_result"
    }
   ],
   "source": [
    "version_lag = packages.query('compare < 0')\n",
    "version_lag.shape"
   ]
  },
  {
   "cell_type": "code",
   "execution_count": 28,
   "metadata": {},
   "outputs": [
    {
     "data": {
      "text/plain": [
       "(374725, 5)"
      ]
     },
     "execution_count": 28,
     "metadata": {},
     "output_type": "execute_result"
    }
   ],
   "source": [
    "version_lag = (version_lag[['package','version','archive','last_updated','compare']]\n",
    "               .groupby(['package','version','archive','last_updated'])\n",
    "               .count()\n",
    "               .reset_index()\n",
    "               .rename(columns = {'compare':'vlag'})\n",
    "              )\n",
    "version_lag.shape"
   ]
  },
  {
   "cell_type": "markdown",
   "metadata": {},
   "source": [
    "# Merge vlag and tlag into one dataframe"
   ]
  },
  {
   "cell_type": "code",
   "execution_count": 33,
   "metadata": {},
   "outputs": [
    {
     "data": {
      "text/plain": [
       "(2262749, 7)"
      ]
     },
     "execution_count": 33,
     "metadata": {},
     "output_type": "execute_result"
    }
   ],
   "source": [
    "time_lag = (time_lag\n",
    "            .merge(version_lag,\n",
    "                  on =['package','version','archive','last_updated'],\n",
    "                   how = 'left'\n",
    "                  )\n",
    "           )\n",
    "time_lag.fillna(0, inplace=True)\n",
    "time_lag.shape"
   ]
  },
  {
   "cell_type": "code",
   "execution_count": 39,
   "metadata": {},
   "outputs": [],
   "source": [
    "time_lag = time_lag.query('vlag==tlag or vlag != 0')"
   ]
  },
  {
   "cell_type": "code",
   "execution_count": 40,
   "metadata": {},
   "outputs": [],
   "source": [
    "time_lag.to_csv('../../data/for_analysis/tv_lag_ideal.csv', index=False)"
   ]
  }
 ],
 "metadata": {
  "kernelspec": {
   "display_name": "Python 3",
   "language": "python",
   "name": "python3"
  },
  "language_info": {
   "codemirror_mode": {
    "name": "ipython",
    "version": 3
   },
   "file_extension": ".py",
   "mimetype": "text/x-python",
   "name": "python",
   "nbconvert_exporter": "python",
   "pygments_lexer": "ipython3",
   "version": "3.6.8"
  }
 },
 "nbformat": 4,
 "nbformat_minor": 2
}
