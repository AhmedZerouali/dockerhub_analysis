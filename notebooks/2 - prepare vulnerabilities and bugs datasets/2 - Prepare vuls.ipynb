{
 "cells": [
  {
   "cell_type": "code",
   "execution_count": 2,
   "metadata": {},
   "outputs": [],
   "source": [
    "%matplotlib inline\n",
    "import seaborn as sns; \n",
    "import pandas as pd\n",
    "import matplotlib.pyplot as plt\n",
    "from matplotlib import style\n",
    "from matplotlib import gridspec\n",
    "import scipy\n",
    "style.use('ggplot')\n",
    "import datetime\n",
    "from io import StringIO\n",
    "import re\n",
    "import os\n",
    "import numpy as np\n",
    "from datetime import datetime\n",
    "import apt_pkg\n",
    "apt_pkg.init_system()\n",
    "import json as js\n",
    "import codecs\n",
    "import psycopg2"
   ]
  },
  {
   "cell_type": "markdown",
   "metadata": {},
   "source": [
    "# Load installed source packages"
   ]
  },
  {
   "cell_type": "code",
   "execution_count": 42,
   "metadata": {},
   "outputs": [],
   "source": [
    "sources = pd.read_csv('../../data/for_analysis/installed_packages.csv',\n",
    "                      usecols=['source','source_version','archive','last_updated'], dtype=str)"
   ]
  },
  {
   "cell_type": "code",
   "execution_count": 43,
   "metadata": {},
   "outputs": [
    {
     "data": {
      "text/plain": [
       "(1223023, 4)"
      ]
     },
     "execution_count": 43,
     "metadata": {},
     "output_type": "execute_result"
    }
   ],
   "source": [
    "sources.drop_duplicates(inplace=True)\n",
    "sources.shape"
   ]
  },
  {
   "cell_type": "markdown",
   "metadata": {},
   "source": [
    "# Load Debian Packages"
   ]
  },
  {
   "cell_type": "code",
   "execution_count": 44,
   "metadata": {},
   "outputs": [],
   "source": [
    "debian_packages = pd.read_csv('../../data/prepared_data/debian_packages.csv', dtype=str)"
   ]
  },
  {
   "cell_type": "code",
   "execution_count": 45,
   "metadata": {},
   "outputs": [],
   "source": [
    "debian_packages = debian_packages[['source','source_version','date','archive']].drop_duplicates().copy()"
   ]
  },
  {
   "cell_type": "code",
   "execution_count": 46,
   "metadata": {},
   "outputs": [
    {
     "data": {
      "text/plain": [
       "(270292, 4)"
      ]
     },
     "execution_count": 46,
     "metadata": {},
     "output_type": "execute_result"
    }
   ],
   "source": [
    "debian_packages = (debian_packages\n",
    "                   .sort_values('date')\n",
    "                  .groupby(['source','source_version','archive'])\n",
    "                   .first()\n",
    "                   .reset_index()\n",
    "                  )\n",
    "debian_packages.shape"
   ]
  },
  {
   "cell_type": "markdown",
   "metadata": {},
   "source": [
    "# Identify the ideal source package at the image date"
   ]
  },
  {
   "cell_type": "code",
   "execution_count": 47,
   "metadata": {},
   "outputs": [
    {
     "data": {
      "text/plain": [
       "(9857884, 6)"
      ]
     },
     "execution_count": 47,
     "metadata": {},
     "output_type": "execute_result"
    }
   ],
   "source": [
    "sources = (sources\n",
    "            .merge(debian_packages\n",
    "                   .rename(columns={'source_version':'ideal_source'}),\n",
    "                   on = ['source','archive'],\n",
    "                   how = 'left'\n",
    "                  )\n",
    "           )\n",
    "sources.shape"
   ]
  },
  {
   "cell_type": "code",
   "execution_count": 48,
   "metadata": {},
   "outputs": [
    {
     "data": {
      "text/plain": [
       "(9077598, 6)"
      ]
     },
     "execution_count": 48,
     "metadata": {},
     "output_type": "execute_result"
    }
   ],
   "source": [
    "# Remove package version that were created after the containers inspection\n",
    "sources = sources.query('last_updated>=date').copy()\n",
    "sources.shape"
   ]
  },
  {
   "cell_type": "code",
   "execution_count": 49,
   "metadata": {},
   "outputs": [
    {
     "data": {
      "text/plain": [
       "(1222801, 6)"
      ]
     },
     "execution_count": 49,
     "metadata": {},
     "output_type": "execute_result"
    }
   ],
   "source": [
    "sources = (sources\n",
    "            .sort_values('date', ascending=False)\n",
    "            .groupby(['source','source_version','archive','last_updated'])\n",
    "            .first()\n",
    "            .reset_index()\n",
    "           )\n",
    "sources.shape"
   ]
  },
  {
   "cell_type": "code",
   "execution_count": 50,
   "metadata": {},
   "outputs": [],
   "source": [
    "def compare(version,ideal):\n",
    "    if apt_pkg.version_compare(str(version), str(ideal)) >=0:\n",
    "        return version\n",
    "    else:\n",
    "        return ideal\n",
    "    # 1 if version > compare_to"
   ]
  },
  {
   "cell_type": "code",
   "execution_count": 51,
   "metadata": {},
   "outputs": [],
   "source": [
    "sources['ideal_source'] = sources.apply(lambda d: compare(d['source_version'], d['ideal_source']), axis=1)"
   ]
  },
  {
   "cell_type": "code",
   "execution_count": 52,
   "metadata": {},
   "outputs": [],
   "source": [
    "sources.drop('date', axis=1, inplace=True)\n",
    "sources.drop_duplicates(inplace=True)"
   ]
  },
  {
   "cell_type": "code",
   "execution_count": 53,
   "metadata": {},
   "outputs": [
    {
     "data": {
      "text/plain": [
       "1222801"
      ]
     },
     "execution_count": 53,
     "metadata": {},
     "output_type": "execute_result"
    }
   ],
   "source": [
    "len(sources.drop_duplicates())"
   ]
  },
  {
   "cell_type": "code",
   "execution_count": 54,
   "metadata": {},
   "outputs": [],
   "source": [
    "sources.to_csv('../../../docker_emse/csv/for_analysis/sources_ideal.csv', index=False)"
   ]
  },
  {
   "cell_type": "markdown",
   "metadata": {},
   "source": [
    "# EXTRACT VULS"
   ]
  },
  {
   "cell_type": "code",
   "execution_count": 3,
   "metadata": {},
   "outputs": [],
   "source": [
    "sources = pd.read_csv('../../../docker_emse/csv/for_analysis/sources_ideal.csv', dtype=object)"
   ]
  },
  {
   "cell_type": "code",
   "execution_count": 6,
   "metadata": {},
   "outputs": [],
   "source": [
    "def parse_json_vuls():\n",
    "    vulnerabilities=js.load(codecs.open('../../data/prepared_data/vuls_extracted_20190830.json', 'r', 'utf-8'))\n",
    "    return vulnerabilities"
   ]
  },
  {
   "cell_type": "code",
   "execution_count": 7,
   "metadata": {},
   "outputs": [],
   "source": [
    "vulnerabilities = parse_json_vuls() \n",
    "\n",
    "fcsv = open('../../data/for_analysis/vulnerabilities.csv', 'w')\n",
    "fcsv.write('source,source_version,urgency,status,fixed_in,archive,debianbug,cve\\n')\n",
    "for row in sources[['source','source_version','archive']].drop_duplicates().iterrows():\n",
    "    source = row[1]['source']\n",
    "    source_version = row[1]['source_version']\n",
    "    release = row[1]['archive']\n",
    "    try:\n",
    "        vuls=vulnerabilities[source] ###### check if the source has any vulnerabilities\n",
    "    except:\n",
    "        continue\n",
    "    for cve in vuls:  ###### for each vulnerability\n",
    "        if not cve.startswith('CVE'):\n",
    "            continue\n",
    "        v=vulnerabilities[source][cve]\n",
    "        try:\n",
    "            status = v['releases'][release]['status']  # check only the release of source\n",
    "            urgency = v['releases'][release]['urgency']  # check only the release of source\n",
    "\n",
    "            try:\n",
    "                debianbug = str(v['debianbug'])\n",
    "            except:\n",
    "                debianbug = \"undefined\"\n",
    "            if status == \"open\" or status == \"undetermined\":  # if the vulnerability is still OPEN\n",
    "                fixed = \"undefined\"\n",
    "                \n",
    "            else: # if the vulnerability is RESOLVED and\n",
    "                fixed = v['releases'][release][\"fixed_version\"]\n",
    "                if apt_pkg.version_compare(source_version, fixed) >= 0:  # \n",
    "                    continue\n",
    "            fcsv.write(','.join([source, source_version, urgency, status, fixed, release, debianbug, cve]) + '\\n')\n",
    "\n",
    "        except:\n",
    "            pass\n",
    "fcsv.close()"
   ]
  },
  {
   "cell_type": "markdown",
   "metadata": {},
   "source": [
    "# Ectract vulnerabilities for the ideal"
   ]
  },
  {
   "cell_type": "code",
   "execution_count": 8,
   "metadata": {},
   "outputs": [],
   "source": [
    "vulnerabilities = parse_json_vuls() \n",
    "\n",
    "fcsv = open('../../data/for_analysis/last_vulnerabilities.csv', 'w')\n",
    "fcsv.write('source,source_version,urgency,status,fixed_in,archive,debianbug,cve\\n')\n",
    "for row in sources[['source','ideal_source','archive']].drop_duplicates().iterrows():\n",
    "    source = row[1]['source']\n",
    "    source_version = row[1]['ideal_source']\n",
    "    release = row[1]['archive']\n",
    "    try:\n",
    "        vuls=vulnerabilities[source] ###### check if the source has any vulnerabilities\n",
    "    except:\n",
    "        continue\n",
    "    for cve in vuls:  ###### for each vulnerability\n",
    "        if not cve.startswith('CVE'):\n",
    "            continue\n",
    "        v=vulnerabilities[source][cve]\n",
    "        try:\n",
    "            status = v['releases'][release]['status']  # check only the release of source\n",
    "            urgency = v['releases'][release]['urgency']  # check only the release of source\n",
    "\n",
    "            try:\n",
    "                debianbug = str(v['debianbug'])\n",
    "            except:\n",
    "                debianbug = \"undefined\"\n",
    "            if status == \"open\" or status == \"undetermined\":  # if the vulnerability is still OPEN\n",
    "                fixed = \"undefined\"\n",
    "                \n",
    "            else: # if the vulnerability is RESOLVED and\n",
    "                fixed = v['releases'][release][\"fixed_version\"]\n",
    "                if apt_pkg.version_compare(source_version, fixed) >= 0:  # \n",
    "                    continue\n",
    "            fcsv.write(','.join([source, source_version, urgency, status, fixed, release, debianbug, cve]) + '\\n')\n",
    "\n",
    "        except:\n",
    "            pass\n",
    "fcsv.close()"
   ]
  },
  {
   "cell_type": "markdown",
   "metadata": {},
   "source": [
    "# Merge between two datasets"
   ]
  },
  {
   "cell_type": "code",
   "execution_count": 9,
   "metadata": {},
   "outputs": [
    {
     "data": {
      "text/html": [
       "<div>\n",
       "<style scoped>\n",
       "    .dataframe tbody tr th:only-of-type {\n",
       "        vertical-align: middle;\n",
       "    }\n",
       "\n",
       "    .dataframe tbody tr th {\n",
       "        vertical-align: top;\n",
       "    }\n",
       "\n",
       "    .dataframe thead th {\n",
       "        text-align: right;\n",
       "    }\n",
       "</style>\n",
       "<table border=\"1\" class=\"dataframe\">\n",
       "  <thead>\n",
       "    <tr style=\"text-align: right;\">\n",
       "      <th></th>\n",
       "      <th>source</th>\n",
       "      <th>source_version</th>\n",
       "      <th>urgency</th>\n",
       "      <th>status</th>\n",
       "      <th>fixed_in</th>\n",
       "      <th>archive</th>\n",
       "      <th>debianbug</th>\n",
       "      <th>cve</th>\n",
       "    </tr>\n",
       "  </thead>\n",
       "  <tbody>\n",
       "    <tr>\n",
       "      <td>0</td>\n",
       "      <td>abiword</td>\n",
       "      <td>3.0.2-2+deb9u2</td>\n",
       "      <td>unimportant</td>\n",
       "      <td>open</td>\n",
       "      <td>undefined</td>\n",
       "      <td>stretch</td>\n",
       "      <td>884923</td>\n",
       "      <td>CVE-2017-17529</td>\n",
       "    </tr>\n",
       "    <tr>\n",
       "      <td>1</td>\n",
       "      <td>accountsservice</td>\n",
       "      <td>0.6.43-1</td>\n",
       "      <td>low</td>\n",
       "      <td>open</td>\n",
       "      <td>undefined</td>\n",
       "      <td>stretch</td>\n",
       "      <td>757912</td>\n",
       "      <td>CVE-2012-6655</td>\n",
       "    </tr>\n",
       "  </tbody>\n",
       "</table>\n",
       "</div>"
      ],
      "text/plain": [
       "            source  source_version      urgency status   fixed_in  archive  \\\n",
       "0          abiword  3.0.2-2+deb9u2  unimportant   open  undefined  stretch   \n",
       "1  accountsservice        0.6.43-1          low   open  undefined  stretch   \n",
       "\n",
       "  debianbug             cve  \n",
       "0    884923  CVE-2017-17529  \n",
       "1    757912   CVE-2012-6655  "
      ]
     },
     "execution_count": 9,
     "metadata": {},
     "output_type": "execute_result"
    }
   ],
   "source": [
    "vuls = pd.read_csv('../../data/for_analysis/vulnerabilities.csv', dtype=object)\n",
    "vuls.head(2)"
   ]
  },
  {
   "cell_type": "code",
   "execution_count": 10,
   "metadata": {},
   "outputs": [
    {
     "data": {
      "text/html": [
       "<div>\n",
       "<style scoped>\n",
       "    .dataframe tbody tr th:only-of-type {\n",
       "        vertical-align: middle;\n",
       "    }\n",
       "\n",
       "    .dataframe tbody tr th {\n",
       "        vertical-align: top;\n",
       "    }\n",
       "\n",
       "    .dataframe thead th {\n",
       "        text-align: right;\n",
       "    }\n",
       "</style>\n",
       "<table border=\"1\" class=\"dataframe\">\n",
       "  <thead>\n",
       "    <tr style=\"text-align: right;\">\n",
       "      <th></th>\n",
       "      <th>source</th>\n",
       "      <th>source_version</th>\n",
       "      <th>urgency</th>\n",
       "      <th>status</th>\n",
       "      <th>fixed_in</th>\n",
       "      <th>archive</th>\n",
       "      <th>debianbug</th>\n",
       "      <th>cve</th>\n",
       "    </tr>\n",
       "  </thead>\n",
       "  <tbody>\n",
       "    <tr>\n",
       "      <td>0</td>\n",
       "      <td>abiword</td>\n",
       "      <td>3.0.2-2+deb9u2</td>\n",
       "      <td>unimportant</td>\n",
       "      <td>open</td>\n",
       "      <td>undefined</td>\n",
       "      <td>stretch</td>\n",
       "      <td>884923</td>\n",
       "      <td>CVE-2017-17529</td>\n",
       "    </tr>\n",
       "    <tr>\n",
       "      <td>1</td>\n",
       "      <td>accountsservice</td>\n",
       "      <td>0.6.43-1</td>\n",
       "      <td>low</td>\n",
       "      <td>open</td>\n",
       "      <td>undefined</td>\n",
       "      <td>stretch</td>\n",
       "      <td>757912</td>\n",
       "      <td>CVE-2012-6655</td>\n",
       "    </tr>\n",
       "  </tbody>\n",
       "</table>\n",
       "</div>"
      ],
      "text/plain": [
       "            source  source_version      urgency status   fixed_in  archive  \\\n",
       "0          abiword  3.0.2-2+deb9u2  unimportant   open  undefined  stretch   \n",
       "1  accountsservice        0.6.43-1          low   open  undefined  stretch   \n",
       "\n",
       "  debianbug             cve  \n",
       "0    884923  CVE-2017-17529  \n",
       "1    757912   CVE-2012-6655  "
      ]
     },
     "execution_count": 10,
     "metadata": {},
     "output_type": "execute_result"
    }
   ],
   "source": [
    "last_vuls = pd.read_csv('../../data/for_analysis/last_vulnerabilities.csv', dtype=object)\n",
    "last_vuls.head(2)"
   ]
  },
  {
   "cell_type": "code",
   "execution_count": 11,
   "metadata": {},
   "outputs": [],
   "source": [
    "vuls = pd.concat([vuls, last_vuls])\n",
    "vuls.drop_duplicates(inplace=True)"
   ]
  },
  {
   "cell_type": "code",
   "execution_count": 14,
   "metadata": {},
   "outputs": [],
   "source": [
    "vuls.to_csv('../../data/for_analysis/vulnerabilities.csv', index=False)\n",
    "! rm ../../data/for_analysis/last_vulnerabilities.csv"
   ]
  }
 ],
 "metadata": {
  "kernelspec": {
   "display_name": "Python 3",
   "language": "python",
   "name": "python3"
  },
  "language_info": {
   "codemirror_mode": {
    "name": "ipython",
    "version": 3
   },
   "file_extension": ".py",
   "mimetype": "text/x-python",
   "name": "python",
   "nbconvert_exporter": "python",
   "pygments_lexer": "ipython3",
   "version": "3.6.8"
  }
 },
 "nbformat": 4,
 "nbformat_minor": 2
}
