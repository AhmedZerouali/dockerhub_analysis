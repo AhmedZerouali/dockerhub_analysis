{
 "cells": [
  {
   "cell_type": "code",
   "execution_count": 2,
   "metadata": {},
   "outputs": [],
   "source": [
    "%matplotlib inline\n",
    "import seaborn as sns; \n",
    "import pandas as pd\n",
    "import matplotlib.pyplot as plt\n",
    "from matplotlib import style\n",
    "from matplotlib import gridspec\n",
    "import scipy\n",
    "style.use('ggplot')\n",
    "import datetime\n",
    "from io import StringIO\n",
    "import re\n",
    "import os\n",
    "import numpy as np\n",
    "from datetime import datetime, timedelta\n",
    "import apt_pkg\n",
    "apt_pkg.init_system()\n",
    "import json as js\n",
    "import codecs\n",
    "import psycopg2"
   ]
  },
  {
   "cell_type": "markdown",
   "metadata": {},
   "source": [
    "# Load Debian packages"
   ]
  },
  {
   "cell_type": "code",
   "execution_count": 3,
   "metadata": {},
   "outputs": [
    {
     "data": {
      "text/plain": [
       "(270292, 4)"
      ]
     },
     "execution_count": 3,
     "metadata": {},
     "output_type": "execute_result"
    }
   ],
   "source": [
    "debian_packages = pd.read_csv('../../data/prepared_data/debian_packages.csv',\n",
    "                      usecols=['source','source_version','archive','date'], dtype=object)\n",
    "\n",
    "debian_packages = debian_packages[['source','source_version','date','archive']].drop_duplicates().copy()\n",
    "\n",
    "debian_packages = (debian_packages\n",
    "                   .sort_values('date')\n",
    "                  .groupby(['source','source_version','archive'])\n",
    "                   .first()\n",
    "                   .reset_index()\n",
    "                  )\n",
    "debian_packages['date'] = pd.to_datetime(debian_packages['date'])\n",
    "debian_packages.shape"
   ]
  },
  {
   "cell_type": "markdown",
   "metadata": {},
   "source": [
    "# EXTRACT BUGS"
   ]
  },
  {
   "cell_type": "markdown",
   "metadata": {},
   "source": [
    "#### done extraction, check script *get_bugs.py*"
   ]
  },
  {
   "cell_type": "code",
   "execution_count": 4,
   "metadata": {},
   "outputs": [],
   "source": [
    "bugs = pd.read_csv('../../data/prepared_data/bugs_extracted_20190830.csv', dtype=object)"
   ]
  },
  {
   "cell_type": "code",
   "execution_count": 5,
   "metadata": {},
   "outputs": [],
   "source": [
    "bugs['arrival'] = pd.to_datetime(bugs['arrival'].apply(lambda x: x.split()[0]))\n",
    "bugs['last_modified'] = pd.to_datetime(bugs['last_modified'].apply(lambda x: x.split()[0]))"
   ]
  },
  {
   "cell_type": "code",
   "execution_count": 6,
   "metadata": {},
   "outputs": [],
   "source": [
    "bugs['fixed_in'] = bugs['fixed_in'].apply(lambda x: str(x).split('/')[-1])\n",
    "bugs['found_in'] = bugs['found_in'].apply(lambda x: str(x).split('/')[-1])"
   ]
  },
  {
   "cell_type": "code",
   "execution_count": 7,
   "metadata": {},
   "outputs": [],
   "source": [
    "bugs = bugs.query('status != \"fixed\" and status != \"pending-fixed\"').copy()\n",
    "bugs = bugs.query('severity != \"fixed\" and severity != \"wishlist\"').copy()"
   ]
  },
  {
   "cell_type": "code",
   "execution_count": 8,
   "metadata": {},
   "outputs": [],
   "source": [
    "def sub_date(date, genre):\n",
    "    if genre ==\"archive\":\n",
    "        return date - timedelta(days=28)\n",
    "    else:\n",
    "        return date\n",
    "bugs['last_modified'] = bugs.apply(lambda d: sub_date(d['last_modified'], d['type']), axis=1)"
   ]
  },
  {
   "cell_type": "markdown",
   "metadata": {},
   "source": [
    "# Load installed packages\n",
    "### Get this dataset from the \"Prepare vuls\" notebook"
   ]
  },
  {
   "cell_type": "code",
   "execution_count": 9,
   "metadata": {
    "scrolled": true
   },
   "outputs": [],
   "source": [
    "sources = pd.read_csv('../../data/for_analysis/sources_ideal.csv', dtype=object)"
   ]
  },
  {
   "cell_type": "markdown",
   "metadata": {},
   "source": [
    "### Get source_version date"
   ]
  },
  {
   "cell_type": "code",
   "execution_count": 10,
   "metadata": {},
   "outputs": [
    {
     "data": {
      "text/plain": [
       "(1222801, 6)"
      ]
     },
     "execution_count": 10,
     "metadata": {},
     "output_type": "execute_result"
    }
   ],
   "source": [
    "sources = (sources\n",
    "        .merge(debian_packages,\n",
    "               on = ['source','source_version','archive'],\n",
    "               how='left')\n",
    "        )\n",
    "sources.shape"
   ]
  },
  {
   "cell_type": "markdown",
   "metadata": {},
   "source": [
    "# Identify bugs of installed source packages"
   ]
  },
  {
   "cell_type": "code",
   "execution_count": 11,
   "metadata": {},
   "outputs": [
    {
     "data": {
      "text/plain": [
       "(2901790, 11)"
      ]
     },
     "execution_count": 11,
     "metadata": {},
     "output_type": "execute_result"
    }
   ],
   "source": [
    "bugs = (sources[['source','source_version','date']]\n",
    "        .drop_duplicates()\n",
    "        .merge(bugs,\n",
    "               on = 'source',\n",
    "               how='left')\n",
    "        )\n",
    "bugs = bugs.dropna(subset=['last_modified'])\n",
    "bugs.shape"
   ]
  },
  {
   "cell_type": "code",
   "execution_count": 12,
   "metadata": {},
   "outputs": [],
   "source": [
    "def handle_bugs(source_version, status, fixed_in, found_in, last_modified, date ):\n",
    "    first_check = apt_pkg.version_compare(str(found_in), str(source_version)) <= 0\n",
    "    if status != \"done\" and fixed_in==\"nan\":\n",
    "        return first_check\n",
    "    else:\n",
    "        if fixed_in != 'nan':\n",
    "            return (first_check and apt_pkg.version_compare(str(source_version), str(fixed_in)) < 0)\n",
    "        else:\n",
    "            return (first_check and str(last_modified) > str(date))"
   ]
  },
  {
   "cell_type": "code",
   "execution_count": 13,
   "metadata": {},
   "outputs": [],
   "source": [
    "bugs['filtre'] = bugs.apply(lambda d: handle_bugs(d['source_version'],\n",
    "                                                 d['status'],\n",
    "                                                 d['fixed_in'],\n",
    "                                                 d['found_in'],\n",
    "                                                 d['last_modified'],\n",
    "                                                 d['date']), axis=1)"
   ]
  },
  {
   "cell_type": "code",
   "execution_count": 14,
   "metadata": {},
   "outputs": [
    {
     "data": {
      "text/plain": [
       "(359200, 10)"
      ]
     },
     "execution_count": 14,
     "metadata": {},
     "output_type": "execute_result"
    }
   ],
   "source": [
    "bugs = (bugs\n",
    " .query('filtre == True')\n",
    " .drop(['date','filtre'], axis=1)\n",
    " .groupby(['debianbug', 'source','source_version'])\n",
    " .first()\n",
    " .reset_index()\n",
    ")\n",
    "bugs['debianbug'] = bugs['debianbug'].apply(int)\n",
    "bugs.shape"
   ]
  },
  {
   "cell_type": "code",
   "execution_count": 15,
   "metadata": {},
   "outputs": [],
   "source": [
    "bugs.to_csv('../../data/for_analysis/bugs.csv',index=False)"
   ]
  },
  {
   "cell_type": "markdown",
   "metadata": {},
   "source": [
    "# Let's get bugs for the last updates"
   ]
  },
  {
   "cell_type": "code",
   "execution_count": 16,
   "metadata": {},
   "outputs": [],
   "source": [
    "bugs = pd.read_csv('../../data/prepared_data/bugs_extracted_20190830.csv')\n",
    "bugs['arrival'] = pd.to_datetime(bugs['arrival'].apply(lambda x: x.split()[0]))\n",
    "bugs['last_modified'] = pd.to_datetime(bugs['last_modified'].apply(lambda x: x.split()[0]))\n",
    "bugs['fixed_in'] = bugs['fixed_in'].apply(lambda x: str(x).split('/')[-1])\n",
    "bugs['found_in'] = bugs['found_in'].apply(lambda x: str(x).split('/')[-1])\n",
    "bugs = bugs.query('status != \"fixed\" and status != \"pending-fixed\"').copy()\n",
    "bugs = bugs.query('severity != \"fixed\" and severity != \"wishlist\"').copy()"
   ]
  },
  {
   "cell_type": "code",
   "execution_count": 17,
   "metadata": {},
   "outputs": [],
   "source": [
    "def sub_date(date, genre):\n",
    "    if genre ==\"archive\":\n",
    "        return date - timedelta(days=28)\n",
    "    else:\n",
    "        return date\n",
    "bugs['last_modified'] = bugs.apply(lambda d: sub_date(d['last_modified'], d['type']), axis=1)"
   ]
  },
  {
   "cell_type": "markdown",
   "metadata": {},
   "source": [
    "### Get date of ideal source version"
   ]
  },
  {
   "cell_type": "code",
   "execution_count": 18,
   "metadata": {},
   "outputs": [
    {
     "data": {
      "text/plain": [
       "(15320, 4)"
      ]
     },
     "execution_count": 18,
     "metadata": {},
     "output_type": "execute_result"
    }
   ],
   "source": [
    "sources = (sources[['source','ideal_source','archive']]\n",
    "           .drop_duplicates()\n",
    "           .rename(columns={'ideal_source':'source_version'})\n",
    "        .merge(debian_packages,\n",
    "               on = ['source','source_version','archive'],\n",
    "               how='left')\n",
    "        )\n",
    "sources.shape"
   ]
  },
  {
   "cell_type": "code",
   "execution_count": 19,
   "metadata": {},
   "outputs": [
    {
     "data": {
      "text/plain": [
       "(2892954, 11)"
      ]
     },
     "execution_count": 19,
     "metadata": {},
     "output_type": "execute_result"
    }
   ],
   "source": [
    "bugs = (sources[['source','source_version','date']]\n",
    "        .drop_duplicates()\n",
    "        .merge(bugs,\n",
    "               on = 'source',\n",
    "               how='left')\n",
    "        )\n",
    "bugs = bugs.dropna(subset=['last_modified'])\n",
    "bugs.shape"
   ]
  },
  {
   "cell_type": "code",
   "execution_count": 20,
   "metadata": {},
   "outputs": [],
   "source": [
    "bugs['filtre'] = bugs.apply(lambda d: handle_bugs(d['source_version'],\n",
    "                                                 d['status'],\n",
    "                                                 d['fixed_in'],\n",
    "                                                 d['found_in'],\n",
    "                                                 d['last_modified'],\n",
    "                                                 d['date']), axis=1)"
   ]
  },
  {
   "cell_type": "code",
   "execution_count": 21,
   "metadata": {},
   "outputs": [
    {
     "data": {
      "text/plain": [
       "(364553, 10)"
      ]
     },
     "execution_count": 21,
     "metadata": {},
     "output_type": "execute_result"
    }
   ],
   "source": [
    "bugs = (bugs\n",
    " .query('filtre == True')\n",
    " .drop(['date','filtre'], axis=1)\n",
    " .groupby(['debianbug', 'source','source_version'])\n",
    " .first()\n",
    " .reset_index()\n",
    ")\n",
    "bugs['debianbug'] = bugs['debianbug'].apply(int)\n",
    "bugs.shape"
   ]
  },
  {
   "cell_type": "markdown",
   "metadata": {},
   "source": [
    "# Merge between two datasets"
   ]
  },
  {
   "cell_type": "code",
   "execution_count": 24,
   "metadata": {},
   "outputs": [
    {
     "data": {
      "text/html": [
       "<div>\n",
       "<style scoped>\n",
       "    .dataframe tbody tr th:only-of-type {\n",
       "        vertical-align: middle;\n",
       "    }\n",
       "\n",
       "    .dataframe tbody tr th {\n",
       "        vertical-align: top;\n",
       "    }\n",
       "\n",
       "    .dataframe thead th {\n",
       "        text-align: right;\n",
       "    }\n",
       "</style>\n",
       "<table border=\"1\" class=\"dataframe\">\n",
       "  <thead>\n",
       "    <tr style=\"text-align: right;\">\n",
       "      <th></th>\n",
       "      <th>debianbug</th>\n",
       "      <th>source</th>\n",
       "      <th>source_version</th>\n",
       "      <th>status</th>\n",
       "      <th>severity</th>\n",
       "      <th>arrival</th>\n",
       "      <th>last_modified</th>\n",
       "      <th>found_in</th>\n",
       "      <th>fixed_in</th>\n",
       "      <th>type</th>\n",
       "    </tr>\n",
       "  </thead>\n",
       "  <tbody>\n",
       "    <tr>\n",
       "      <td>0</td>\n",
       "      <td>100028</td>\n",
       "      <td>ppp</td>\n",
       "      <td>2.4.6-3.1</td>\n",
       "      <td>pending</td>\n",
       "      <td>normal</td>\n",
       "      <td>2001-06-08</td>\n",
       "      <td>2008-06-30</td>\n",
       "      <td>2.4.1-1</td>\n",
       "      <td>NaN</td>\n",
       "      <td>normal</td>\n",
       "    </tr>\n",
       "    <tr>\n",
       "      <td>1</td>\n",
       "      <td>100028</td>\n",
       "      <td>ppp</td>\n",
       "      <td>2.4.7-1+4</td>\n",
       "      <td>pending</td>\n",
       "      <td>normal</td>\n",
       "      <td>2001-06-08</td>\n",
       "      <td>2008-06-30</td>\n",
       "      <td>2.4.1-1</td>\n",
       "      <td>NaN</td>\n",
       "      <td>normal</td>\n",
       "    </tr>\n",
       "  </tbody>\n",
       "</table>\n",
       "</div>"
      ],
      "text/plain": [
       "  debianbug source source_version   status severity     arrival last_modified  \\\n",
       "0    100028    ppp      2.4.6-3.1  pending   normal  2001-06-08    2008-06-30   \n",
       "1    100028    ppp      2.4.7-1+4  pending   normal  2001-06-08    2008-06-30   \n",
       "\n",
       "  found_in fixed_in    type  \n",
       "0  2.4.1-1      NaN  normal  \n",
       "1  2.4.1-1      NaN  normal  "
      ]
     },
     "execution_count": 24,
     "metadata": {},
     "output_type": "execute_result"
    }
   ],
   "source": [
    "bugs_all = pd.read_csv('../../data/for_analysis/bugs.csv', dtype=object)\n",
    "bugs_all.head(2)"
   ]
  },
  {
   "cell_type": "code",
   "execution_count": 26,
   "metadata": {},
   "outputs": [],
   "source": [
    "bugs = pd.concat([bugs, bugs_all])\n",
    "bugs.drop_duplicates(inplace=True)"
   ]
  },
  {
   "cell_type": "code",
   "execution_count": 28,
   "metadata": {},
   "outputs": [],
   "source": [
    "bugs.to_csv('../../data/for_analysis/bugs.csv', index=False)"
   ]
  }
 ],
 "metadata": {
  "kernelspec": {
   "display_name": "Python 3",
   "language": "python",
   "name": "python3"
  },
  "language_info": {
   "codemirror_mode": {
    "name": "ipython",
    "version": 3
   },
   "file_extension": ".py",
   "mimetype": "text/x-python",
   "name": "python",
   "nbconvert_exporter": "python",
   "pygments_lexer": "ipython3",
   "version": "3.6.8"
  }
 },
 "nbformat": 4,
 "nbformat_minor": 2
}
