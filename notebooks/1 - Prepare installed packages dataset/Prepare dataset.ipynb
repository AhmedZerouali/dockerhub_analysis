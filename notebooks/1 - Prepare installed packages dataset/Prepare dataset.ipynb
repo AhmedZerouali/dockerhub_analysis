{
 "cells": [
  {
   "cell_type": "code",
   "execution_count": 1,
   "metadata": {},
   "outputs": [],
   "source": [
    "%matplotlib inline\n",
    "import seaborn as sns; \n",
    "import pandas as pd\n",
    "import matplotlib.pyplot as plt\n",
    "from matplotlib import style\n",
    "from matplotlib import gridspec\n",
    "import scipy\n",
    "style.use('ggplot')\n",
    "import datetime\n",
    "from io import StringIO\n",
    "import re\n",
    "import os\n",
    "import numpy as np\n",
    "from datetime import datetime"
   ]
  },
  {
   "cell_type": "markdown",
   "metadata": {},
   "source": [
    "# Images build date"
   ]
  },
  {
   "cell_type": "code",
   "execution_count": 2,
   "metadata": {},
   "outputs": [
    {
     "data": {
      "text/plain": [
       "(141068, 2)"
      ]
     },
     "execution_count": 2,
     "metadata": {},
     "output_type": "execute_result"
    }
   ],
   "source": [
    "build_date = pd.concat([pd.read_csv('../../data/prepared_data/'+file+'.csv') \n",
    "                        for file in ['build_date_official','build_date_community']])\n",
    "build_date.shape"
   ]
  },
  {
   "cell_type": "code",
   "execution_count": 3,
   "metadata": {},
   "outputs": [],
   "source": [
    "# add \"library/\" to official images\n",
    "def add_library(s):\n",
    "    if len(s.split(':'))==2:\n",
    "        return 'library:'+s\n",
    "    return s\n",
    "build_date['image'] = build_date['image'].apply(lambda x: add_library(x))"
   ]
  },
  {
   "cell_type": "markdown",
   "metadata": {},
   "source": [
    "# Images popularity"
   ]
  },
  {
   "cell_type": "code",
   "execution_count": 4,
   "metadata": {},
   "outputs": [
    {
     "data": {
      "text/plain": [
       "(2188015, 2)"
      ]
     },
     "execution_count": 4,
     "metadata": {},
     "output_type": "execute_result"
    }
   ],
   "source": [
    "images = pd.concat([pd.read_csv('../../data/images_tags/'+file+'.zip', usecols=['slug','popularity']) \n",
    "                        for file in ['official_images','community_images']])\n",
    "images.shape"
   ]
  },
  {
   "cell_type": "code",
   "execution_count": 5,
   "metadata": {},
   "outputs": [],
   "source": [
    "# add \"library/\" to official images\n",
    "def add_library(s):\n",
    "    if len(s.split('/'))==1:\n",
    "        return 'library/'+s\n",
    "    return s\n",
    "images['slug'] = images['slug'].apply(lambda x: add_library(x))"
   ]
  },
  {
   "cell_type": "code",
   "execution_count": 6,
   "metadata": {},
   "outputs": [
    {
     "data": {
      "text/plain": [
       "count       2188015.000000\n",
       "mean          45035.516850\n",
       "std         5129680.538336\n",
       "min               0.000000\n",
       "25%               5.000000\n",
       "50%              21.000000\n",
       "75%              80.000000\n",
       "max      2146530870.000000\n",
       "Name: popularity, dtype: object"
      ]
     },
     "execution_count": 6,
     "metadata": {},
     "output_type": "execute_result"
    }
   ],
   "source": [
    "images.popularity.describe().apply(lambda x: format(x, 'f'))"
   ]
  },
  {
   "cell_type": "code",
   "execution_count": 7,
   "metadata": {},
   "outputs": [],
   "source": [
    "# get slug from inspected images\n",
    "def split_slug(s):\n",
    "    s = s.split(':')\n",
    "    return s[0]+'/'+s[1]\n",
    "build_date['slug'] = build_date['image'].apply(lambda x: split_slug(x))"
   ]
  },
  {
   "cell_type": "code",
   "execution_count": 8,
   "metadata": {},
   "outputs": [],
   "source": [
    "images['popularity'] = images['popularity'].apply(int)"
   ]
  },
  {
   "cell_type": "code",
   "execution_count": 9,
   "metadata": {},
   "outputs": [
    {
     "data": {
      "text/plain": [
       "count       2188015.000000\n",
       "mean          45035.516850\n",
       "std         5129680.538336\n",
       "min               0.000000\n",
       "25%               5.000000\n",
       "50%              21.000000\n",
       "75%              80.000000\n",
       "max      2146530870.000000\n",
       "Name: popularity, dtype: object"
      ]
     },
     "execution_count": 9,
     "metadata": {},
     "output_type": "execute_result"
    }
   ],
   "source": [
    "images.popularity.describe().apply(lambda x: format(x, 'f'))"
   ]
  },
  {
   "cell_type": "code",
   "execution_count": 13,
   "metadata": {},
   "outputs": [
    {
     "data": {
      "text/plain": [
       "(923969, 2)"
      ]
     },
     "execution_count": 13,
     "metadata": {},
     "output_type": "execute_result"
    }
   ],
   "source": [
    "images_debian = pd.read_csv('../../data/images_tags/community_debian_images.csv')\n",
    "images_debian.shape"
   ]
  },
  {
   "cell_type": "code",
   "execution_count": 14,
   "metadata": {},
   "outputs": [],
   "source": [
    "images_debian['slug'] = images_debian['image'].apply(lambda x: x.split(':')[0]+'/'+x.split(':')[1])"
   ]
  },
  {
   "cell_type": "code",
   "execution_count": 15,
   "metadata": {},
   "outputs": [
    {
     "data": {
      "text/html": [
       "<div>\n",
       "<style scoped>\n",
       "    .dataframe tbody tr th:only-of-type {\n",
       "        vertical-align: middle;\n",
       "    }\n",
       "\n",
       "    .dataframe tbody tr th {\n",
       "        vertical-align: top;\n",
       "    }\n",
       "\n",
       "    .dataframe thead th {\n",
       "        text-align: right;\n",
       "    }\n",
       "</style>\n",
       "<table border=\"1\" class=\"dataframe\">\n",
       "  <thead>\n",
       "    <tr style=\"text-align: right;\">\n",
       "      <th></th>\n",
       "      <th>index</th>\n",
       "      <th>image</th>\n",
       "      <th>slug</th>\n",
       "    </tr>\n",
       "  </thead>\n",
       "  <tbody>\n",
       "    <tr>\n",
       "      <td>0</td>\n",
       "      <td>0</td>\n",
       "      <td>010309:ams-go:0.1.0</td>\n",
       "      <td>010309/ams-go</td>\n",
       "    </tr>\n",
       "    <tr>\n",
       "      <td>1</td>\n",
       "      <td>1</td>\n",
       "      <td>010309:bia-excass:0.1.0</td>\n",
       "      <td>010309/bia-excass</td>\n",
       "    </tr>\n",
       "    <tr>\n",
       "      <td>2</td>\n",
       "      <td>2</td>\n",
       "      <td>010309:bia-mailsender:0.1.0</td>\n",
       "      <td>010309/bia-mailsender</td>\n",
       "    </tr>\n",
       "    <tr>\n",
       "      <td>3</td>\n",
       "      <td>3</td>\n",
       "      <td>010309:bia-query:0.1.0</td>\n",
       "      <td>010309/bia-query</td>\n",
       "    </tr>\n",
       "    <tr>\n",
       "      <td>4</td>\n",
       "      <td>4</td>\n",
       "      <td>010309:biaasteriskcdr:0.1.0</td>\n",
       "      <td>010309/biaasteriskcdr</td>\n",
       "    </tr>\n",
       "  </tbody>\n",
       "</table>\n",
       "</div>"
      ],
      "text/plain": [
       "   index                        image                   slug\n",
       "0      0          010309:ams-go:0.1.0          010309/ams-go\n",
       "1      1      010309:bia-excass:0.1.0      010309/bia-excass\n",
       "2      2  010309:bia-mailsender:0.1.0  010309/bia-mailsender\n",
       "3      3       010309:bia-query:0.1.0       010309/bia-query\n",
       "4      4  010309:biaasteriskcdr:0.1.0  010309/biaasteriskcdr"
      ]
     },
     "execution_count": 15,
     "metadata": {},
     "output_type": "execute_result"
    }
   ],
   "source": [
    "images_debian.head()"
   ]
  },
  {
   "cell_type": "code",
   "execution_count": 16,
   "metadata": {},
   "outputs": [],
   "source": [
    "# all Debian images\n",
    "mask = images.slug.isin(images_debian.slug)\n",
    "images2 = images[mask]"
   ]
  },
  {
   "cell_type": "code",
   "execution_count": 17,
   "metadata": {},
   "outputs": [
    {
     "data": {
      "text/plain": [
       "popularity    1880.0\n",
       "Name: 0.955, dtype: float64"
      ]
     },
     "execution_count": 17,
     "metadata": {},
     "output_type": "execute_result"
    }
   ],
   "source": [
    "images.quantile(0.955)"
   ]
  },
  {
   "cell_type": "code",
   "execution_count": 18,
   "metadata": {},
   "outputs": [
    {
     "data": {
      "text/plain": [
       "popularity    1983.824\n",
       "Name: 0.947, dtype: float64"
      ]
     },
     "execution_count": 18,
     "metadata": {},
     "output_type": "execute_result"
    }
   ],
   "source": [
    "images2.quantile(0.947)"
   ]
  },
  {
   "cell_type": "code",
   "execution_count": 19,
   "metadata": {},
   "outputs": [
    {
     "data": {
      "text/plain": [
       "count        400193.000000\n",
       "mean          28219.973598\n",
       "std         3940371.038902\n",
       "min               0.000000\n",
       "25%               6.000000\n",
       "50%              17.000000\n",
       "75%              70.000000\n",
       "max      2047714388.000000\n",
       "Name: popularity, dtype: object"
      ]
     },
     "execution_count": 19,
     "metadata": {},
     "output_type": "execute_result"
    }
   ],
   "source": [
    "images2.popularity.describe().apply(lambda x: format(x, 'f'))"
   ]
  },
  {
   "cell_type": "code",
   "execution_count": 20,
   "metadata": {},
   "outputs": [
    {
     "data": {
      "text/plain": [
       "count       2188015.000000\n",
       "mean          45035.516850\n",
       "std         5129680.538336\n",
       "min               0.000000\n",
       "25%               5.000000\n",
       "50%              21.000000\n",
       "75%              80.000000\n",
       "max      2146530870.000000\n",
       "Name: popularity, dtype: object"
      ]
     },
     "execution_count": 20,
     "metadata": {},
     "output_type": "execute_result"
    }
   ],
   "source": [
    "images.popularity.describe().apply(lambda x: format(x, 'f'))"
   ]
  },
  {
   "cell_type": "code",
   "execution_count": 22,
   "metadata": {},
   "outputs": [],
   "source": [
    "# only those we used\n",
    "mask = images.slug.isin(build_date.slug)\n",
    "images3 = images[mask]"
   ]
  },
  {
   "cell_type": "code",
   "execution_count": 29,
   "metadata": {},
   "outputs": [
    {
     "data": {
      "text/html": [
       "<div>\n",
       "<style scoped>\n",
       "    .dataframe tbody tr th:only-of-type {\n",
       "        vertical-align: middle;\n",
       "    }\n",
       "\n",
       "    .dataframe tbody tr th {\n",
       "        vertical-align: top;\n",
       "    }\n",
       "\n",
       "    .dataframe thead th {\n",
       "        text-align: right;\n",
       "    }\n",
       "</style>\n",
       "<table border=\"1\" class=\"dataframe\">\n",
       "  <thead>\n",
       "    <tr style=\"text-align: right;\">\n",
       "      <th></th>\n",
       "      <th>slug</th>\n",
       "      <th>popularity</th>\n",
       "    </tr>\n",
       "  </thead>\n",
       "  <tbody>\n",
       "    <tr>\n",
       "      <td>349</td>\n",
       "      <td>library/golang</td>\n",
       "      <td>511220212</td>\n",
       "    </tr>\n",
       "    <tr>\n",
       "      <td>381</td>\n",
       "      <td>library/mariadb</td>\n",
       "      <td>553694529</td>\n",
       "    </tr>\n",
       "    <tr>\n",
       "      <td>379</td>\n",
       "      <td>library/memcached</td>\n",
       "      <td>738063984</td>\n",
       "    </tr>\n",
       "    <tr>\n",
       "      <td>289</td>\n",
       "      <td>library/mysql</td>\n",
       "      <td>846275977</td>\n",
       "    </tr>\n",
       "    <tr>\n",
       "      <td>321</td>\n",
       "      <td>library/node</td>\n",
       "      <td>869742810</td>\n",
       "    </tr>\n",
       "    <tr>\n",
       "      <td>288</td>\n",
       "      <td>library/postgres</td>\n",
       "      <td>1016798085</td>\n",
       "    </tr>\n",
       "    <tr>\n",
       "      <td>378</td>\n",
       "      <td>library/httpd</td>\n",
       "      <td>1135282151</td>\n",
       "    </tr>\n",
       "    <tr>\n",
       "      <td>320</td>\n",
       "      <td>library/redis</td>\n",
       "      <td>1590340952</td>\n",
       "    </tr>\n",
       "    <tr>\n",
       "      <td>262</td>\n",
       "      <td>library/mongo</td>\n",
       "      <td>1760010241</td>\n",
       "    </tr>\n",
       "    <tr>\n",
       "      <td>261</td>\n",
       "      <td>library/nginx</td>\n",
       "      <td>1804165577</td>\n",
       "    </tr>\n",
       "  </tbody>\n",
       "</table>\n",
       "</div>"
      ],
      "text/plain": [
       "                  slug  popularity\n",
       "349     library/golang   511220212\n",
       "381    library/mariadb   553694529\n",
       "379  library/memcached   738063984\n",
       "289      library/mysql   846275977\n",
       "321       library/node   869742810\n",
       "288   library/postgres  1016798085\n",
       "378      library/httpd  1135282151\n",
       "320      library/redis  1590340952\n",
       "262      library/mongo  1760010241\n",
       "261      library/nginx  1804165577"
      ]
     },
     "execution_count": 29,
     "metadata": {},
     "output_type": "execute_result"
    }
   ],
   "source": [
    "images3[images3['slug'].str.startswith('library/')].sort_values('popularity').tail(10)"
   ]
  },
  {
   "cell_type": "code",
   "execution_count": 30,
   "metadata": {},
   "outputs": [
    {
     "data": {
      "text/html": [
       "<div>\n",
       "<style scoped>\n",
       "    .dataframe tbody tr th:only-of-type {\n",
       "        vertical-align: middle;\n",
       "    }\n",
       "\n",
       "    .dataframe tbody tr th {\n",
       "        vertical-align: top;\n",
       "    }\n",
       "\n",
       "    .dataframe thead th {\n",
       "        text-align: right;\n",
       "    }\n",
       "</style>\n",
       "<table border=\"1\" class=\"dataframe\">\n",
       "  <thead>\n",
       "    <tr style=\"text-align: right;\">\n",
       "      <th></th>\n",
       "      <th>slug</th>\n",
       "      <th>popularity</th>\n",
       "    </tr>\n",
       "  </thead>\n",
       "  <tbody>\n",
       "    <tr>\n",
       "      <td>163031</td>\n",
       "      <td>appsvc/node</td>\n",
       "      <td>74751359</td>\n",
       "    </tr>\n",
       "    <tr>\n",
       "      <td>370827</td>\n",
       "      <td>circleci/postgres</td>\n",
       "      <td>77022944</td>\n",
       "    </tr>\n",
       "    <tr>\n",
       "      <td>306409</td>\n",
       "      <td>buoyantio/linkerd</td>\n",
       "      <td>84358536</td>\n",
       "    </tr>\n",
       "    <tr>\n",
       "      <td>370819</td>\n",
       "      <td>circleci/node</td>\n",
       "      <td>89457273</td>\n",
       "    </tr>\n",
       "    <tr>\n",
       "      <td>2072940</td>\n",
       "      <td>whenlambomoon/secnodetracker</td>\n",
       "      <td>91997588</td>\n",
       "    </tr>\n",
       "    <tr>\n",
       "      <td>942624</td>\n",
       "      <td>jenkins/jenkins</td>\n",
       "      <td>99522070</td>\n",
       "    </tr>\n",
       "    <tr>\n",
       "      <td>57610</td>\n",
       "      <td>aequitas/http-api-resource</td>\n",
       "      <td>130646930</td>\n",
       "    </tr>\n",
       "    <tr>\n",
       "      <td>1873500</td>\n",
       "      <td>sysdig/agent</td>\n",
       "      <td>157178862</td>\n",
       "    </tr>\n",
       "    <tr>\n",
       "      <td>1416562</td>\n",
       "      <td>nulldriver/maven-resource</td>\n",
       "      <td>171307389</td>\n",
       "    </tr>\n",
       "    <tr>\n",
       "      <td>1506435</td>\n",
       "      <td>pivotalcf/pivnet-resource</td>\n",
       "      <td>2047714388</td>\n",
       "    </tr>\n",
       "  </tbody>\n",
       "</table>\n",
       "</div>"
      ],
      "text/plain": [
       "                                 slug  popularity\n",
       "163031                    appsvc/node    74751359\n",
       "370827              circleci/postgres    77022944\n",
       "306409              buoyantio/linkerd    84358536\n",
       "370819                  circleci/node    89457273\n",
       "2072940  whenlambomoon/secnodetracker    91997588\n",
       "942624                jenkins/jenkins    99522070\n",
       "57610      aequitas/http-api-resource   130646930\n",
       "1873500                  sysdig/agent   157178862\n",
       "1416562     nulldriver/maven-resource   171307389\n",
       "1506435     pivotalcf/pivnet-resource  2047714388"
      ]
     },
     "execution_count": 30,
     "metadata": {},
     "output_type": "execute_result"
    }
   ],
   "source": [
    "images3[~images3['slug'].str.startswith('library/')].sort_values('popularity').tail(10)"
   ]
  },
  {
   "cell_type": "code",
   "execution_count": 72,
   "metadata": {},
   "outputs": [
    {
     "data": {
      "text/plain": [
       "(141068, 4)"
      ]
     },
     "execution_count": 72,
     "metadata": {},
     "output_type": "execute_result"
    }
   ],
   "source": [
    "build_date = (build_date.merge(images,\n",
    "                              left_on = 'slug',\n",
    "                               right_on = 'slug',\n",
    "                               how='left'))\n",
    "build_date.shape"
   ]
  },
  {
   "cell_type": "markdown",
   "metadata": {},
   "source": [
    "# Images update date"
   ]
  },
  {
   "cell_type": "code",
   "execution_count": 105,
   "metadata": {},
   "outputs": [
    {
     "data": {
      "text/plain": [
       "(5870325, 3)"
      ]
     },
     "execution_count": 105,
     "metadata": {},
     "output_type": "execute_result"
    }
   ],
   "source": [
    "tags = pd.concat([pd.read_csv('../../data/images_tags/'+file+'.csv', usecols=['slug','tag','last_updated']) \n",
    "                        for file in ['official_tags','community_tags']])\n",
    "tags.shape"
   ]
  },
  {
   "cell_type": "code",
   "execution_count": 106,
   "metadata": {},
   "outputs": [
    {
     "data": {
      "text/plain": [
       "(5870325, 4)"
      ]
     },
     "execution_count": 106,
     "metadata": {},
     "output_type": "execute_result"
    }
   ],
   "source": [
    "def add_library(s):\n",
    "    if len(s.split('/'))==1:\n",
    "        return 'library/'+s\n",
    "    return s\n",
    "tags['slug'] = tags['slug'].apply(lambda x: add_library(x))\n",
    "tags['image'] = tags['slug']+':'+tags['tag']\n",
    "\n",
    "def split_slug(s):\n",
    "    s = s.split(':')\n",
    "    return s[0]+'/'+s[1]\n",
    "\n",
    "tags['image'] = tags['image'].apply(lambda x: str(x).replace('/',':'))\n",
    "tags.shape"
   ]
  },
  {
   "cell_type": "code",
   "execution_count": 107,
   "metadata": {},
   "outputs": [
    {
     "data": {
      "text/plain": [
       "(270591, 4)"
      ]
     },
     "execution_count": 107,
     "metadata": {},
     "output_type": "execute_result"
    }
   ],
   "source": [
    "mask = tags.slug.isin(build_date.slug)\n",
    "tags = tags[mask]\n",
    "tags.shape"
   ]
  },
  {
   "cell_type": "code",
   "execution_count": 108,
   "metadata": {},
   "outputs": [
    {
     "data": {
      "text/plain": [
       "(141068, 4)"
      ]
     },
     "execution_count": 108,
     "metadata": {},
     "output_type": "execute_result"
    }
   ],
   "source": [
    "mask = tags.image.isin(build_date.image)\n",
    "tags = tags[mask]\n",
    "tags = tags[['image','last_updated']]\n",
    "tags.shape"
   ]
  },
  {
   "cell_type": "code",
   "execution_count": 111,
   "metadata": {},
   "outputs": [
    {
     "data": {
      "text/plain": [
       "(141068, 5)"
      ]
     },
     "execution_count": 111,
     "metadata": {},
     "output_type": "execute_result"
    }
   ],
   "source": [
    "build_date = (build_date.merge(tags,\n",
    "                              left_on = 'image',\n",
    "                               right_on = 'image',\n",
    "                               how='left'))\n",
    "build_date.shape"
   ]
  },
  {
   "cell_type": "markdown",
   "metadata": {},
   "source": [
    "# Load image packages"
   ]
  },
  {
   "cell_type": "code",
   "execution_count": 2,
   "metadata": {},
   "outputs": [
    {
     "data": {
      "text/plain": [
       "(47094186, 3)"
      ]
     },
     "execution_count": 2,
     "metadata": {},
     "output_type": "execute_result"
    }
   ],
   "source": [
    "packages = pd.concat([pd.read_csv('../../data/prepared_data/list_pkgs_rels/'+file) \n",
    "                        for file in ['officila_packs.csv','community_packs.csv']])\n",
    "packages.rename(columns={'name':'image'}, inplace=True)\n",
    "packages['package'] = packages['package'].apply(lambda x: str(x).replace(':amd64',''))\n",
    "packages.shape"
   ]
  },
  {
   "cell_type": "code",
   "execution_count": 3,
   "metadata": {},
   "outputs": [
    {
     "data": {
      "text/plain": [
       "(141077, 2)"
      ]
     },
     "execution_count": 3,
     "metadata": {},
     "output_type": "execute_result"
    }
   ],
   "source": [
    "releases = pd.concat([pd.read_csv('../../data/prepared_data/list_pkgs_rels/'+file) \n",
    "                        for file in ['officila_releases.csv','community_releases.csv']])\n",
    "releases.rename(columns={'name':'image', 'release':'os'}, inplace=True)\n",
    "\n",
    "releases.shape"
   ]
  },
  {
   "cell_type": "code",
   "execution_count": 4,
   "metadata": {},
   "outputs": [],
   "source": [
    "def get_os(s):\n",
    "    try:\n",
    "        if float(s)>=8:\n",
    "            if float(s)<9:\n",
    "                return 'jessie'\n",
    "            elif float(s)<10:\n",
    "                return 'stretch'\n",
    "            else:\n",
    "                return 'buster'\n",
    "        else:\n",
    "            return 'other'\n",
    "    except:\n",
    "        if 'stretch' in s:\n",
    "            return 'stretch'\n",
    "        elif 'buster' in s:\n",
    "            return 'buster'\n",
    "#         elif 'bullseye' in s:\n",
    "#             return 'bullseye'\n",
    "#         elif 'parrot' in s:\n",
    "#             return 'parrot'\n",
    "        else:\n",
    "            return 'other'\n",
    "        \n",
    "releases['release'] = releases['os'].apply(lambda x: get_os(x))\n",
    "releases.drop('os', axis=1, inplace=True)"
   ]
  },
  {
   "cell_type": "code",
   "execution_count": 5,
   "metadata": {},
   "outputs": [
    {
     "data": {
      "text/html": [
       "<div>\n",
       "<style scoped>\n",
       "    .dataframe tbody tr th:only-of-type {\n",
       "        vertical-align: middle;\n",
       "    }\n",
       "\n",
       "    .dataframe tbody tr th {\n",
       "        vertical-align: top;\n",
       "    }\n",
       "\n",
       "    .dataframe thead th {\n",
       "        text-align: right;\n",
       "    }\n",
       "</style>\n",
       "<table border=\"1\" class=\"dataframe\">\n",
       "  <thead>\n",
       "    <tr style=\"text-align: right;\">\n",
       "      <th></th>\n",
       "      <th>image</th>\n",
       "    </tr>\n",
       "    <tr>\n",
       "      <th>release</th>\n",
       "      <th></th>\n",
       "    </tr>\n",
       "  </thead>\n",
       "  <tbody>\n",
       "    <tr>\n",
       "      <td>buster</td>\n",
       "      <td>3855</td>\n",
       "    </tr>\n",
       "    <tr>\n",
       "      <td>jessie</td>\n",
       "      <td>55611</td>\n",
       "    </tr>\n",
       "    <tr>\n",
       "      <td>other</td>\n",
       "      <td>551</td>\n",
       "    </tr>\n",
       "    <tr>\n",
       "      <td>stretch</td>\n",
       "      <td>81060</td>\n",
       "    </tr>\n",
       "  </tbody>\n",
       "</table>\n",
       "</div>"
      ],
      "text/plain": [
       "         image\n",
       "release       \n",
       "buster    3855\n",
       "jessie   55611\n",
       "other      551\n",
       "stretch  81060"
      ]
     },
     "execution_count": 5,
     "metadata": {},
     "output_type": "execute_result"
    }
   ],
   "source": [
    "releases.groupby('release').count()"
   ]
  },
  {
   "cell_type": "code",
   "execution_count": 6,
   "metadata": {},
   "outputs": [
    {
     "data": {
      "text/plain": [
       "(47094186, 4)"
      ]
     },
     "execution_count": 6,
     "metadata": {},
     "output_type": "execute_result"
    }
   ],
   "source": [
    "packages = (packages.merge(releases,\n",
    "                          left_on = 'image',\n",
    "                          right_on = 'image',\n",
    "                          how = 'left')\n",
    "           )\n",
    "packages.shape"
   ]
  },
  {
   "cell_type": "code",
   "execution_count": 7,
   "metadata": {},
   "outputs": [
    {
     "data": {
      "text/plain": [
       "(47088868, 4)"
      ]
     },
     "execution_count": 7,
     "metadata": {},
     "output_type": "execute_result"
    }
   ],
   "source": [
    "packages.dropna().shape"
   ]
  },
  {
   "cell_type": "code",
   "execution_count": 8,
   "metadata": {},
   "outputs": [],
   "source": [
    "packages.fillna('undefined', inplace=True)\n",
    "packages = packages.query('release != \"other\"').copy()"
   ]
  },
  {
   "cell_type": "code",
   "execution_count": 9,
   "metadata": {},
   "outputs": [
    {
     "data": {
      "text/plain": [
       "(46943669, 4)"
      ]
     },
     "execution_count": 9,
     "metadata": {},
     "output_type": "execute_result"
    }
   ],
   "source": [
    "packages.shape"
   ]
  },
  {
   "cell_type": "code",
   "execution_count": 10,
   "metadata": {},
   "outputs": [
    {
     "data": {
      "text/html": [
       "<div>\n",
       "<style scoped>\n",
       "    .dataframe tbody tr th:only-of-type {\n",
       "        vertical-align: middle;\n",
       "    }\n",
       "\n",
       "    .dataframe tbody tr th {\n",
       "        vertical-align: top;\n",
       "    }\n",
       "\n",
       "    .dataframe thead th {\n",
       "        text-align: right;\n",
       "    }\n",
       "</style>\n",
       "<table border=\"1\" class=\"dataframe\">\n",
       "  <thead>\n",
       "    <tr style=\"text-align: right;\">\n",
       "      <th></th>\n",
       "      <th>package</th>\n",
       "      <th>version</th>\n",
       "    </tr>\n",
       "    <tr>\n",
       "      <th>release</th>\n",
       "      <th></th>\n",
       "      <th></th>\n",
       "    </tr>\n",
       "  </thead>\n",
       "  <tbody>\n",
       "    <tr>\n",
       "      <td>buster</td>\n",
       "      <td>18111</td>\n",
       "      <td>18111</td>\n",
       "    </tr>\n",
       "    <tr>\n",
       "      <td>jessie</td>\n",
       "      <td>25510</td>\n",
       "      <td>25510</td>\n",
       "    </tr>\n",
       "    <tr>\n",
       "      <td>stretch</td>\n",
       "      <td>30238</td>\n",
       "      <td>30238</td>\n",
       "    </tr>\n",
       "    <tr>\n",
       "      <td>undefined</td>\n",
       "      <td>1969</td>\n",
       "      <td>1969</td>\n",
       "    </tr>\n",
       "  </tbody>\n",
       "</table>\n",
       "</div>"
      ],
      "text/plain": [
       "           package  version\n",
       "release                    \n",
       "buster       18111    18111\n",
       "jessie       25510    25510\n",
       "stretch      30238    30238\n",
       "undefined     1969     1969"
      ]
     },
     "execution_count": 10,
     "metadata": {},
     "output_type": "execute_result"
    }
   ],
   "source": [
    "packages[['package','version','release']].drop_duplicates().groupby('release').count()"
   ]
  },
  {
   "cell_type": "code",
   "execution_count": 11,
   "metadata": {},
   "outputs": [
    {
     "data": {
      "text/plain": [
       "(61807, 2)"
      ]
     },
     "execution_count": 11,
     "metadata": {},
     "output_type": "execute_result"
    }
   ],
   "source": [
    "packages[['package','version']].drop_duplicates().shape"
   ]
  },
  {
   "cell_type": "markdown",
   "metadata": {},
   "source": [
    "# Load packages from Debian"
   ]
  },
  {
   "cell_type": "code",
   "execution_count": 3,
   "metadata": {},
   "outputs": [
    {
     "data": {
      "text/plain": [
       "(804645, 5)"
      ]
     },
     "execution_count": 3,
     "metadata": {},
     "output_type": "execute_result"
    }
   ],
   "source": [
    "debian_packages = pd.read_csv('../../data/prepared_data/debian_packages.csv')\n",
    "debian_packages.shape"
   ]
  },
  {
   "cell_type": "code",
   "execution_count": 4,
   "metadata": {},
   "outputs": [
    {
     "data": {
      "text/html": [
       "<div>\n",
       "<style scoped>\n",
       "    .dataframe tbody tr th:only-of-type {\n",
       "        vertical-align: middle;\n",
       "    }\n",
       "\n",
       "    .dataframe tbody tr th {\n",
       "        vertical-align: top;\n",
       "    }\n",
       "\n",
       "    .dataframe thead th {\n",
       "        text-align: right;\n",
       "    }\n",
       "</style>\n",
       "<table border=\"1\" class=\"dataframe\">\n",
       "  <thead>\n",
       "    <tr style=\"text-align: right;\">\n",
       "      <th></th>\n",
       "      <th>package</th>\n",
       "      <th>version</th>\n",
       "      <th>archive</th>\n",
       "      <th>date</th>\n",
       "      <th>source</th>\n",
       "    </tr>\n",
       "  </thead>\n",
       "  <tbody>\n",
       "    <tr>\n",
       "      <td>0</td>\n",
       "      <td>0ad</td>\n",
       "      <td>0.0.13-1</td>\n",
       "      <td>jessie</td>\n",
       "      <td>20130506</td>\n",
       "      <td>0ad</td>\n",
       "    </tr>\n",
       "    <tr>\n",
       "      <td>1</td>\n",
       "      <td>0ad</td>\n",
       "      <td>0.0.13-2</td>\n",
       "      <td>jessie</td>\n",
       "      <td>20130604</td>\n",
       "      <td>0ad</td>\n",
       "    </tr>\n",
       "    <tr>\n",
       "      <td>2</td>\n",
       "      <td>0ad</td>\n",
       "      <td>0.0.13-2+b1</td>\n",
       "      <td>jessie</td>\n",
       "      <td>20130702</td>\n",
       "      <td>0ad (0.0.13-2)</td>\n",
       "    </tr>\n",
       "    <tr>\n",
       "      <td>3</td>\n",
       "      <td>0ad</td>\n",
       "      <td>0.0.13-2+b2</td>\n",
       "      <td>jessie</td>\n",
       "      <td>20130901</td>\n",
       "      <td>0ad (0.0.13-2)</td>\n",
       "    </tr>\n",
       "    <tr>\n",
       "      <td>4</td>\n",
       "      <td>0ad</td>\n",
       "      <td>0.0.14-2</td>\n",
       "      <td>jessie</td>\n",
       "      <td>20130917</td>\n",
       "      <td>0ad</td>\n",
       "    </tr>\n",
       "  </tbody>\n",
       "</table>\n",
       "</div>"
      ],
      "text/plain": [
       "  package      version archive      date          source\n",
       "0     0ad     0.0.13-1  jessie  20130506             0ad\n",
       "1     0ad     0.0.13-2  jessie  20130604             0ad\n",
       "2     0ad  0.0.13-2+b1  jessie  20130702  0ad (0.0.13-2)\n",
       "3     0ad  0.0.13-2+b2  jessie  20130901  0ad (0.0.13-2)\n",
       "4     0ad     0.0.14-2  jessie  20130917             0ad"
      ]
     },
     "execution_count": 4,
     "metadata": {},
     "output_type": "execute_result"
    }
   ],
   "source": [
    "debian_packages.query('version')"
   ]
  },
  {
   "cell_type": "code",
   "execution_count": 13,
   "metadata": {},
   "outputs": [
    {
     "data": {
      "text/plain": [
       "(78478, 5)"
      ]
     },
     "execution_count": 13,
     "metadata": {},
     "output_type": "execute_result"
    }
   ],
   "source": [
    "mask = debian_packages.package.isin(packages.package)\n",
    "debian_packages = debian_packages[mask]\n",
    "\n",
    "mask = debian_packages.version.isin(packages.version)\n",
    "debian_packages = debian_packages[mask]\n",
    "\n",
    "debian_packages.shape"
   ]
  },
  {
   "cell_type": "code",
   "execution_count": 14,
   "metadata": {},
   "outputs": [
    {
     "data": {
      "text/plain": [
       "(46943669, 4)"
      ]
     },
     "execution_count": 14,
     "metadata": {},
     "output_type": "execute_result"
    }
   ],
   "source": [
    "packages.shape"
   ]
  },
  {
   "cell_type": "code",
   "execution_count": 15,
   "metadata": {},
   "outputs": [
    {
     "data": {
      "text/plain": [
       "(46943669, 7)"
      ]
     },
     "execution_count": 15,
     "metadata": {},
     "output_type": "execute_result"
    }
   ],
   "source": [
    "packages = (packages\n",
    "            .set_index(['package','version'])\n",
    "            .merge(debian_packages\n",
    "                   .set_index(['package','version']),\n",
    "                   left_index = True,\n",
    "                   right_index = True,\n",
    "                   how = 'left')\n",
    "           )\n",
    "packages.reset_index(inplace=True)\n",
    "packages.shape"
   ]
  },
  {
   "cell_type": "code",
   "execution_count": 16,
   "metadata": {},
   "outputs": [],
   "source": [
    "packages.fillna('unknown', inplace=True)"
   ]
  },
  {
   "cell_type": "code",
   "execution_count": 17,
   "metadata": {},
   "outputs": [
    {
     "data": {
      "text/html": [
       "<div>\n",
       "<style scoped>\n",
       "    .dataframe tbody tr th:only-of-type {\n",
       "        vertical-align: middle;\n",
       "    }\n",
       "\n",
       "    .dataframe tbody tr th {\n",
       "        vertical-align: top;\n",
       "    }\n",
       "\n",
       "    .dataframe thead th {\n",
       "        text-align: right;\n",
       "    }\n",
       "</style>\n",
       "<table border=\"1\" class=\"dataframe\">\n",
       "  <thead>\n",
       "    <tr style=\"text-align: right;\">\n",
       "      <th></th>\n",
       "      <th>package</th>\n",
       "      <th>version</th>\n",
       "      <th>image</th>\n",
       "      <th>release</th>\n",
       "      <th>date</th>\n",
       "      <th>source</th>\n",
       "    </tr>\n",
       "    <tr>\n",
       "      <th>archive</th>\n",
       "      <th></th>\n",
       "      <th></th>\n",
       "      <th></th>\n",
       "      <th></th>\n",
       "      <th></th>\n",
       "      <th></th>\n",
       "    </tr>\n",
       "  </thead>\n",
       "  <tbody>\n",
       "    <tr>\n",
       "      <td>bullseye</td>\n",
       "      <td>0.005153</td>\n",
       "      <td>0.005153</td>\n",
       "      <td>0.005153</td>\n",
       "      <td>0.005153</td>\n",
       "      <td>0.005153</td>\n",
       "      <td>0.005153</td>\n",
       "    </tr>\n",
       "    <tr>\n",
       "      <td>buster</td>\n",
       "      <td>2.472900</td>\n",
       "      <td>2.472900</td>\n",
       "      <td>2.472900</td>\n",
       "      <td>2.472900</td>\n",
       "      <td>2.472900</td>\n",
       "      <td>2.472900</td>\n",
       "    </tr>\n",
       "    <tr>\n",
       "      <td>buster-security</td>\n",
       "      <td>0.000032</td>\n",
       "      <td>0.000032</td>\n",
       "      <td>0.000032</td>\n",
       "      <td>0.000032</td>\n",
       "      <td>0.000032</td>\n",
       "      <td>0.000032</td>\n",
       "    </tr>\n",
       "    <tr>\n",
       "      <td>jessie</td>\n",
       "      <td>31.035026</td>\n",
       "      <td>31.035026</td>\n",
       "      <td>31.035026</td>\n",
       "      <td>31.035026</td>\n",
       "      <td>31.035026</td>\n",
       "      <td>31.035026</td>\n",
       "    </tr>\n",
       "    <tr>\n",
       "      <td>jessie-security</td>\n",
       "      <td>10.101675</td>\n",
       "      <td>10.101675</td>\n",
       "      <td>10.101675</td>\n",
       "      <td>10.101675</td>\n",
       "      <td>10.101675</td>\n",
       "      <td>10.101675</td>\n",
       "    </tr>\n",
       "    <tr>\n",
       "      <td>stretch</td>\n",
       "      <td>44.083527</td>\n",
       "      <td>44.083527</td>\n",
       "      <td>44.083527</td>\n",
       "      <td>44.083527</td>\n",
       "      <td>44.083527</td>\n",
       "      <td>44.083527</td>\n",
       "    </tr>\n",
       "    <tr>\n",
       "      <td>stretch-security</td>\n",
       "      <td>11.480730</td>\n",
       "      <td>11.480730</td>\n",
       "      <td>11.480730</td>\n",
       "      <td>11.480730</td>\n",
       "      <td>11.480730</td>\n",
       "      <td>11.480730</td>\n",
       "    </tr>\n",
       "    <tr>\n",
       "      <td>unknown</td>\n",
       "      <td>0.820956</td>\n",
       "      <td>0.820956</td>\n",
       "      <td>0.820956</td>\n",
       "      <td>0.820956</td>\n",
       "      <td>0.820956</td>\n",
       "      <td>0.820956</td>\n",
       "    </tr>\n",
       "  </tbody>\n",
       "</table>\n",
       "</div>"
      ],
      "text/plain": [
       "                    package    version      image    release       date  \\\n",
       "archive                                                                   \n",
       "bullseye           0.005153   0.005153   0.005153   0.005153   0.005153   \n",
       "buster             2.472900   2.472900   2.472900   2.472900   2.472900   \n",
       "buster-security    0.000032   0.000032   0.000032   0.000032   0.000032   \n",
       "jessie            31.035026  31.035026  31.035026  31.035026  31.035026   \n",
       "jessie-security   10.101675  10.101675  10.101675  10.101675  10.101675   \n",
       "stretch           44.083527  44.083527  44.083527  44.083527  44.083527   \n",
       "stretch-security  11.480730  11.480730  11.480730  11.480730  11.480730   \n",
       "unknown            0.820956   0.820956   0.820956   0.820956   0.820956   \n",
       "\n",
       "                     source  \n",
       "archive                      \n",
       "bullseye           0.005153  \n",
       "buster             2.472900  \n",
       "buster-security    0.000032  \n",
       "jessie            31.035026  \n",
       "jessie-security   10.101675  \n",
       "stretch           44.083527  \n",
       "stretch-security  11.480730  \n",
       "unknown            0.820956  "
      ]
     },
     "execution_count": 17,
     "metadata": {},
     "output_type": "execute_result"
    }
   ],
   "source": [
    "packages.groupby('archive').count()*100/len(packages)"
   ]
  },
  {
   "cell_type": "code",
   "execution_count": 18,
   "metadata": {},
   "outputs": [
    {
     "data": {
      "text/html": [
       "<div>\n",
       "<style scoped>\n",
       "    .dataframe tbody tr th:only-of-type {\n",
       "        vertical-align: middle;\n",
       "    }\n",
       "\n",
       "    .dataframe tbody tr th {\n",
       "        vertical-align: top;\n",
       "    }\n",
       "\n",
       "    .dataframe thead th {\n",
       "        text-align: right;\n",
       "    }\n",
       "</style>\n",
       "<table border=\"1\" class=\"dataframe\">\n",
       "  <thead>\n",
       "    <tr style=\"text-align: right;\">\n",
       "      <th></th>\n",
       "      <th>package</th>\n",
       "      <th>version</th>\n",
       "      <th>image</th>\n",
       "      <th>release</th>\n",
       "      <th>archive</th>\n",
       "      <th>date</th>\n",
       "      <th>source</th>\n",
       "    </tr>\n",
       "  </thead>\n",
       "  <tbody>\n",
       "    <tr>\n",
       "      <td>0</td>\n",
       "      <td>0ad</td>\n",
       "      <td>0.0.21-2</td>\n",
       "      <td>roadmunk:largecontainer:latest</td>\n",
       "      <td>stretch</td>\n",
       "      <td>stretch</td>\n",
       "      <td>2.01611e+07</td>\n",
       "      <td>0ad</td>\n",
       "    </tr>\n",
       "    <tr>\n",
       "      <td>1</td>\n",
       "      <td>0ad-data</td>\n",
       "      <td>0.0.21-1</td>\n",
       "      <td>roadmunk:largecontainer:latest</td>\n",
       "      <td>stretch</td>\n",
       "      <td>stretch</td>\n",
       "      <td>2.01611e+07</td>\n",
       "      <td>0ad-data</td>\n",
       "    </tr>\n",
       "  </tbody>\n",
       "</table>\n",
       "</div>"
      ],
      "text/plain": [
       "    package   version                           image  release  archive  \\\n",
       "0       0ad  0.0.21-2  roadmunk:largecontainer:latest  stretch  stretch   \n",
       "1  0ad-data  0.0.21-1  roadmunk:largecontainer:latest  stretch  stretch   \n",
       "\n",
       "          date    source  \n",
       "0  2.01611e+07       0ad  \n",
       "1  2.01611e+07  0ad-data  "
      ]
     },
     "execution_count": 18,
     "metadata": {},
     "output_type": "execute_result"
    }
   ],
   "source": [
    "packages = packages.query('archive != \"unknown\"')\n",
    "packages.head(2)"
   ]
  },
  {
   "cell_type": "code",
   "execution_count": 19,
   "metadata": {},
   "outputs": [
    {
     "data": {
      "text/plain": [
       "(46558282, 7)"
      ]
     },
     "execution_count": 19,
     "metadata": {},
     "output_type": "execute_result"
    }
   ],
   "source": [
    "packages.shape"
   ]
  },
  {
   "cell_type": "code",
   "execution_count": 20,
   "metadata": {},
   "outputs": [],
   "source": [
    "# add \"library/\" to official images\n",
    "def add_library(s):\n",
    "    if len(s.split(':'))==2:\n",
    "        return 'library:'+s\n",
    "    return s\n",
    "packages['image'] = packages['image'].apply(lambda x: add_library(x))"
   ]
  },
  {
   "cell_type": "markdown",
   "metadata": {},
   "source": [
    "### Now we merge the build date with the packages DF"
   ]
  },
  {
   "cell_type": "code",
   "execution_count": 4,
   "metadata": {},
   "outputs": [
    {
     "data": {
      "text/plain": [
       "(46558282, 9)"
      ]
     },
     "execution_count": 4,
     "metadata": {},
     "output_type": "execute_result"
    }
   ],
   "source": [
    "packages = (packages\n",
    "            .merge(build_date,\n",
    "                   left_on = \"image\",\n",
    "                   right_on = \"image\",\n",
    "                   how = 'left')\n",
    "           )\n",
    "packages.shape"
   ]
  },
  {
   "cell_type": "code",
   "execution_count": 5,
   "metadata": {},
   "outputs": [],
   "source": [
    "def typo(s):\n",
    "    if s.startswith('library:'):\n",
    "        return 'o'\n",
    "    else:\n",
    "        return 'c'\n",
    "    \n",
    "packages['type'] = packages['image'].apply(lambda x: typo(x))"
   ]
  },
  {
   "cell_type": "code",
   "execution_count": 6,
   "metadata": {},
   "outputs": [
    {
     "data": {
      "text/plain": [
       "(46558282, 10)"
      ]
     },
     "execution_count": 6,
     "metadata": {},
     "output_type": "execute_result"
    }
   ],
   "source": [
    "packages.dropna().shape"
   ]
  },
  {
   "cell_type": "code",
   "execution_count": 7,
   "metadata": {},
   "outputs": [],
   "source": [
    "packages['last_updated'] = packages['last_updated'].apply(lambda x: x.split('T')[0])"
   ]
  },
  {
   "cell_type": "code",
   "execution_count": 9,
   "metadata": {},
   "outputs": [],
   "source": [
    "packages['date'] = packages['date'].apply(str)"
   ]
  },
  {
   "cell_type": "code",
   "execution_count": null,
   "metadata": {},
   "outputs": [],
   "source": [
    "packages['date'] = packages['date'].apply(lambda x: x[0:4]+'-'+x[4:6]+'-'+x[6:8])"
   ]
  },
  {
   "cell_type": "code",
   "execution_count": 8,
   "metadata": {},
   "outputs": [],
   "source": [
    "packages.to_csv('../../data/for_analysis/installed_packages.csv', index=False)"
   ]
  },
  {
   "cell_type": "code",
   "execution_count": null,
   "metadata": {},
   "outputs": [],
   "source": []
  }
 ],
 "metadata": {
  "kernelspec": {
   "display_name": "Python 3",
   "language": "python",
   "name": "python3"
  },
  "language_info": {
   "codemirror_mode": {
    "name": "ipython",
    "version": 3
   },
   "file_extension": ".py",
   "mimetype": "text/x-python",
   "name": "python",
   "nbconvert_exporter": "python",
   "pygments_lexer": "ipython3",
   "version": "3.6.8"
  }
 },
 "nbformat": 4,
 "nbformat_minor": 2
}
