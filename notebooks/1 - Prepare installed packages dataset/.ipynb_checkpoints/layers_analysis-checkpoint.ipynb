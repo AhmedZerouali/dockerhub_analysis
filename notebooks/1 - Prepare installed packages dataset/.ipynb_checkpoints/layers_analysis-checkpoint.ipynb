{
 "cells": [
  {
   "cell_type": "code",
   "execution_count": 2,
   "metadata": {},
   "outputs": [],
   "source": [
    "import pandas as pd"
   ]
  },
  {
   "cell_type": "markdown",
   "metadata": {},
   "source": [
    "# Official layers"
   ]
  },
  {
   "cell_type": "code",
   "execution_count": 2,
   "metadata": {},
   "outputs": [
    {
     "name": "stdout",
     "output_type": "stream",
     "text": [
      "199637\n"
     ]
    },
    {
     "data": {
      "text/html": [
       "<div>\n",
       "<style scoped>\n",
       "    .dataframe tbody tr th:only-of-type {\n",
       "        vertical-align: middle;\n",
       "    }\n",
       "\n",
       "    .dataframe tbody tr th {\n",
       "        vertical-align: top;\n",
       "    }\n",
       "\n",
       "    .dataframe thead th {\n",
       "        text-align: right;\n",
       "    }\n",
       "</style>\n",
       "<table border=\"1\" class=\"dataframe\">\n",
       "  <thead>\n",
       "    <tr style=\"text-align: right;\">\n",
       "      <th></th>\n",
       "      <th>image</th>\n",
       "      <th>layer</th>\n",
       "      <th>level</th>\n",
       "    </tr>\n",
       "  </thead>\n",
       "  <tbody>\n",
       "    <tr>\n",
       "      <th>0</th>\n",
       "      <td>library:php:7.2-rc-cli</td>\n",
       "      <td>sha256:bc95e04b23c06ba1b9bf092d07d1493177b218e...</td>\n",
       "      <td>0</td>\n",
       "    </tr>\n",
       "    <tr>\n",
       "      <th>1</th>\n",
       "      <td>library:php:7.2-rc-cli</td>\n",
       "      <td>sha256:6a2129b02a8d0ba0faf17a9cfd0faeecfc525cb...</td>\n",
       "      <td>1</td>\n",
       "    </tr>\n",
       "  </tbody>\n",
       "</table>\n",
       "</div>"
      ],
      "text/plain": [
       "                    image                                              layer  \\\n",
       "0  library:php:7.2-rc-cli  sha256:bc95e04b23c06ba1b9bf092d07d1493177b218e...   \n",
       "1  library:php:7.2-rc-cli  sha256:6a2129b02a8d0ba0faf17a9cfd0faeecfc525cb...   \n",
       "\n",
       "  level  \n",
       "0     0  \n",
       "1     1  "
      ]
     },
     "execution_count": 2,
     "metadata": {},
     "output_type": "execute_result"
    }
   ],
   "source": [
    "official_layers=pd.read_csv('/home/ahmed/docker_emse/csv/layers_official_may.csv', \n",
    "                            sep=',', \n",
    "                            dtype=object, \n",
    "                            index_col=None,\n",
    "                            error_bad_lines=False)\n",
    "print(len(official_layers))\n",
    "official_layers.head(2)"
   ]
  },
  {
   "cell_type": "code",
   "execution_count": 3,
   "metadata": {},
   "outputs": [
    {
     "name": "stdout",
     "output_type": "stream",
     "text": [
      "198735\n"
     ]
    }
   ],
   "source": [
    "exclude = \"sha256:a3ed95caeb02ffe68cdd9fd84406680ae93d633cb16422d00e8a7c22955b46d4\"\n",
    "official_layers = official_layers.query('layer !=\"'+exclude+'\"')\n",
    "print(len(official_layers))"
   ]
  },
  {
   "cell_type": "code",
   "execution_count": 4,
   "metadata": {},
   "outputs": [],
   "source": [
    "official_layers['level']=official_layers['level'].apply(int)\n",
    "official_layers.sort_values(['image','level'], inplace=True)\n",
    "official_layers['layer'] = official_layers['layer'].apply(lambda s: s.replace('sha256:','',1))"
   ]
  },
  {
   "cell_type": "code",
   "execution_count": 8,
   "metadata": {},
   "outputs": [
    {
     "data": {
      "text/plain": [
       "22760"
      ]
     },
     "execution_count": 8,
     "metadata": {},
     "output_type": "execute_result"
    }
   ],
   "source": [
    "official_layers_sum = (official_layers\n",
    "       .drop('level', axis=1)\n",
    "       .groupby(['image'])\n",
    "       .apply(lambda x: x['layer'].sum())\n",
    "       .reset_index()\n",
    "       .rename(columns={0:'layer'})\n",
    "      )\n",
    "len(official_layers_sum)"
   ]
  },
  {
   "cell_type": "code",
   "execution_count": 6,
   "metadata": {},
   "outputs": [
    {
     "data": {
      "text/plain": [
       "12427"
      ]
     },
     "execution_count": 6,
     "metadata": {},
     "output_type": "execute_result"
    }
   ],
   "source": [
    "official_layers_sum = official_layers_sum.set_index('image').drop_duplicates(keep='first').reset_index()\n",
    "len(official_layers_sum)"
   ]
  },
  {
   "cell_type": "code",
   "execution_count": 11,
   "metadata": {},
   "outputs": [
    {
     "data": {
      "text/plain": [
       "12427"
      ]
     },
     "execution_count": 11,
     "metadata": {},
     "output_type": "execute_result"
    }
   ],
   "source": [
    "len(official_layers_sum.groupby('layer').first().reset_index())"
   ]
  },
  {
   "cell_type": "code",
   "execution_count": 10,
   "metadata": {},
   "outputs": [
    {
     "data": {
      "text/html": [
       "<div>\n",
       "<style scoped>\n",
       "    .dataframe tbody tr th:only-of-type {\n",
       "        vertical-align: middle;\n",
       "    }\n",
       "\n",
       "    .dataframe tbody tr th {\n",
       "        vertical-align: top;\n",
       "    }\n",
       "\n",
       "    .dataframe thead th {\n",
       "        text-align: right;\n",
       "    }\n",
       "</style>\n",
       "<table border=\"1\" class=\"dataframe\">\n",
       "  <thead>\n",
       "    <tr style=\"text-align: right;\">\n",
       "      <th></th>\n",
       "      <th>image</th>\n",
       "      <th>layer</th>\n",
       "    </tr>\n",
       "  </thead>\n",
       "  <tbody>\n",
       "    <tr>\n",
       "      <th>0</th>\n",
       "      <td>library:adminer:4</td>\n",
       "      <td>e7c96db7181be991f19a9fb6975cdbbd73c65f4a268134...</td>\n",
       "    </tr>\n",
       "    <tr>\n",
       "      <th>1</th>\n",
       "      <td>library:adminer:4-fastcgi</td>\n",
       "      <td>e7c96db7181be991f19a9fb6975cdbbd73c65f4a268134...</td>\n",
       "    </tr>\n",
       "    <tr>\n",
       "      <th>2</th>\n",
       "      <td>library:adminer:4-standalone</td>\n",
       "      <td>e7c96db7181be991f19a9fb6975cdbbd73c65f4a268134...</td>\n",
       "    </tr>\n",
       "    <tr>\n",
       "      <th>3</th>\n",
       "      <td>library:adminer:4.2</td>\n",
       "      <td>7095154754192bfc2306f3b2b841ef82771b7ad3952653...</td>\n",
       "    </tr>\n",
       "    <tr>\n",
       "      <th>4</th>\n",
       "      <td>library:adminer:4.2-fastcgi</td>\n",
       "      <td>7095154754192bfc2306f3b2b841ef82771b7ad3952653...</td>\n",
       "    </tr>\n",
       "  </tbody>\n",
       "</table>\n",
       "</div>"
      ],
      "text/plain": [
       "                          image  \\\n",
       "0             library:adminer:4   \n",
       "1     library:adminer:4-fastcgi   \n",
       "2  library:adminer:4-standalone   \n",
       "3           library:adminer:4.2   \n",
       "4   library:adminer:4.2-fastcgi   \n",
       "\n",
       "                                               layer  \n",
       "0  e7c96db7181be991f19a9fb6975cdbbd73c65f4a268134...  \n",
       "1  e7c96db7181be991f19a9fb6975cdbbd73c65f4a268134...  \n",
       "2  e7c96db7181be991f19a9fb6975cdbbd73c65f4a268134...  \n",
       "3  7095154754192bfc2306f3b2b841ef82771b7ad3952653...  \n",
       "4  7095154754192bfc2306f3b2b841ef82771b7ad3952653...  "
      ]
     },
     "execution_count": 10,
     "metadata": {},
     "output_type": "execute_result"
    }
   ],
   "source": [
    "official_layers_sum.head()"
   ]
  },
  {
   "cell_type": "markdown",
   "metadata": {},
   "source": [
    "# This part about levels is to be merged with community images laters: please skip"
   ]
  },
  {
   "cell_type": "code",
   "execution_count": 7,
   "metadata": {},
   "outputs": [
    {
     "data": {
      "text/plain": [
       "12427"
      ]
     },
     "execution_count": 7,
     "metadata": {},
     "output_type": "execute_result"
    }
   ],
   "source": [
    "official_layers_levels = official_layers.groupby('image').count()[['level']].reset_index()\n",
    "official_layers_levels = official_layers_levels[\n",
    "    official_layers_levels.image.isin(official_layers_sum.image)\n",
    "]\n",
    "len(official_layers_levels)"
   ]
  },
  {
   "cell_type": "code",
   "execution_count": 8,
   "metadata": {},
   "outputs": [
    {
     "data": {
      "text/plain": [
       "12427"
      ]
     },
     "execution_count": 8,
     "metadata": {},
     "output_type": "execute_result"
    }
   ],
   "source": [
    "official_layers_levels = official_layers_levels.merge(official_layers_sum, on='image', how='left')\n",
    "official_layers_levels.sort_values('level', ascending=False, inplace=True)\n",
    "len(official_layers_levels)"
   ]
  },
  {
   "cell_type": "markdown",
   "metadata": {},
   "source": [
    "# Only Unique Debian images"
   ]
  },
  {
   "cell_type": "code",
   "execution_count": 9,
   "metadata": {},
   "outputs": [
    {
     "data": {
      "text/plain": [
       "324"
      ]
     },
     "execution_count": 9,
     "metadata": {},
     "output_type": "execute_result"
    }
   ],
   "source": [
    "# We should use sum of layers, so we can eliminate duplicated ones\n",
    "debian_layers = official_layers_sum[official_layers_sum.image.str.contains('library:debian')]\n",
    "debian_layers.image.drop_duplicates().size"
   ]
  },
  {
   "cell_type": "code",
   "execution_count": null,
   "metadata": {},
   "outputs": [],
   "source": [
    "debian_layers.image.drop_duplicates().to_csv('/home/ahmed/docker_emse/csv/debian_images.csv', index=False, sep=',')"
   ]
  },
  {
   "cell_type": "markdown",
   "metadata": {},
   "source": [
    "# Unique Official images that make use of Debian Layers"
   ]
  },
  {
   "cell_type": "code",
   "execution_count": 10,
   "metadata": {},
   "outputs": [
    {
     "data": {
      "text/plain": [
       "375"
      ]
     },
     "execution_count": 10,
     "metadata": {},
     "output_type": "execute_result"
    }
   ],
   "source": [
    "debian_layers = official_layers[official_layers.image.str.contains('library:debian')]\n",
    "debian_layers.image.drop_duplicates().size"
   ]
  },
  {
   "cell_type": "code",
   "execution_count": 11,
   "metadata": {},
   "outputs": [
    {
     "data": {
      "text/plain": [
       "9631"
      ]
     },
     "execution_count": 11,
     "metadata": {},
     "output_type": "execute_result"
    }
   ],
   "source": [
    "mask = official_layers.layer.isin(debian_layers.layer)\n",
    "official_debian = official_layers[mask]\n",
    "len(official_debian)"
   ]
  },
  {
   "cell_type": "code",
   "execution_count": 12,
   "metadata": {},
   "outputs": [
    {
     "data": {
      "text/plain": [
       "4824"
      ]
     },
     "execution_count": 12,
     "metadata": {},
     "output_type": "execute_result"
    }
   ],
   "source": [
    "mask = official_layers_sum.image.isin(official_debian.image)\n",
    "official_debian = official_layers_sum[mask]\n",
    "len(official_debian)"
   ]
  },
  {
   "cell_type": "code",
   "execution_count": null,
   "metadata": {},
   "outputs": [],
   "source": [
    "(official_debian\n",
    " .reset_index()[['image']]\n",
    " .to_csv('/home/ahmed/docker_emse/csv/official_debian_images.csv', index=True, sep=',')\n",
    ")"
   ]
  },
  {
   "cell_type": "markdown",
   "metadata": {},
   "source": [
    "# Community layers"
   ]
  },
  {
   "cell_type": "code",
   "execution_count": null,
   "metadata": {},
   "outputs": [],
   "source": [
    "community_layers=pd.read_csv('/home/ahmed/docker_emse/csv/layers_community.csv', \n",
    "                            sep=',', \n",
    "                            dtype=object, \n",
    "                            index_col=None,\n",
    "                            error_bad_lines=False)\n",
    "print(len(community_layers))\n",
    "community_layers.head(2)"
   ]
  },
  {
   "cell_type": "code",
   "execution_count": 6,
   "metadata": {},
   "outputs": [
    {
     "name": "stdout",
     "output_type": "stream",
     "text": [
      "62119218\n"
     ]
    }
   ],
   "source": [
    "exclude = \"sha256:a3ed95caeb02ffe68cdd9fd84406680ae93d633cb16422d00e8a7c22955b46d4\"\n",
    "community_layers = community_layers.query('layer !=\"'+exclude+'\"')\n",
    "print(len(community_layers))"
   ]
  },
  {
   "cell_type": "code",
   "execution_count": 7,
   "metadata": {},
   "outputs": [],
   "source": [
    "community_layers['level']=community_layers['level'].apply(int)\n",
    "community_layers.sort_values(['image','level'], inplace=True)\n",
    "community_layers['layer'] = community_layers['layer'].apply(lambda s: s.replace('sha256:','',1))"
   ]
  },
  {
   "cell_type": "code",
   "execution_count": 16,
   "metadata": {},
   "outputs": [
    {
     "data": {
      "text/plain": [
       "5718603"
      ]
     },
     "execution_count": 16,
     "metadata": {},
     "output_type": "execute_result"
    }
   ],
   "source": [
    "community_layers_sum = (community_layers\n",
    "       .drop('level', axis=1)\n",
    "       .groupby(['image'])\n",
    "       .apply(lambda x: x['layer'].sum())\n",
    "       .reset_index()\n",
    "       .rename(columns={0:'layer'})\n",
    "      )\n",
    "\n",
    "len(community_layers_sum)"
   ]
  },
  {
   "cell_type": "code",
   "execution_count": 17,
   "metadata": {},
   "outputs": [
    {
     "data": {
      "text/plain": [
       "4378728"
      ]
     },
     "execution_count": 17,
     "metadata": {},
     "output_type": "execute_result"
    }
   ],
   "source": [
    "community_layers_sum = community_layers_sum.set_index('image').drop_duplicates(keep='first').reset_index()\n",
    "len(community_layers_sum)"
   ]
  },
  {
   "cell_type": "markdown",
   "metadata": {},
   "source": [
    "# This part about levels is to be merged with official images laters in order to create the layers used to create images network: Please skip"
   ]
  },
  {
   "cell_type": "code",
   "execution_count": 24,
   "metadata": {},
   "outputs": [
    {
     "data": {
      "text/plain": [
       "4378728"
      ]
     },
     "execution_count": 24,
     "metadata": {},
     "output_type": "execute_result"
    }
   ],
   "source": [
    "community_layers_levels = community_layers.groupby('image').count()[['level']].reset_index()\n",
    "community_layers_levels = community_layers_levels[\n",
    "    community_layers_levels.image.isin(community_layers_sum.image)\n",
    "]\n",
    "len(community_layers_levels)"
   ]
  },
  {
   "cell_type": "code",
   "execution_count": 88,
   "metadata": {},
   "outputs": [
    {
     "data": {
      "text/plain": [
       "4378728"
      ]
     },
     "execution_count": 88,
     "metadata": {},
     "output_type": "execute_result"
    }
   ],
   "source": [
    "community_layers_levels = community_layers_levels.merge(community_layers_sum, on='image', how='left')\n",
    "community_layers_levels.sort_values('level', ascending=False, inplace=True)\n",
    "len(community_layers_levels)"
   ]
  },
  {
   "cell_type": "markdown",
   "metadata": {},
   "source": [
    "## 1 -> Here we merge them"
   ]
  },
  {
   "cell_type": "code",
   "execution_count": 68,
   "metadata": {},
   "outputs": [
    {
     "data": {
      "text/plain": [
       "4373041"
      ]
     },
     "execution_count": 68,
     "metadata": {},
     "output_type": "execute_result"
    }
   ],
   "source": [
    "# Which images are exactly official images\n",
    "mask = community_layers_sum.layer.isin(official_layers_sum.layer)\n",
    "community_layers_sum_2 = community_layers_sum[~mask]\n",
    "len(community_layers_sum_2)"
   ]
  },
  {
   "cell_type": "code",
   "execution_count": 77,
   "metadata": {},
   "outputs": [
    {
     "name": "stdout",
     "output_type": "stream",
     "text": [
      "Holy shit\n"
     ]
    }
   ],
   "source": [
    "if len(layers) - len(official_layers_sum) == len(community_layers_sum):\n",
    "    print('Holy shit: I have duplicated images. I should remove them to optimize the anal')\n"
   ]
  },
  {
   "cell_type": "code",
   "execution_count": 91,
   "metadata": {},
   "outputs": [
    {
     "data": {
      "text/plain": [
       "4391155"
      ]
     },
     "execution_count": 91,
     "metadata": {},
     "output_type": "execute_result"
    }
   ],
   "source": [
    "official_layers_levels.image.drop_duplicates().size + community_layers_levels.image.drop_duplicates().size"
   ]
  },
  {
   "cell_type": "code",
   "execution_count": 96,
   "metadata": {},
   "outputs": [],
   "source": [
    "mask1 = official_layers_levels.image.isin(official_layers_sum.image)"
   ]
  },
  {
   "cell_type": "code",
   "execution_count": 97,
   "metadata": {},
   "outputs": [],
   "source": [
    "mask2 = community_layers_levels.image.isin(community_layers_sum_2.image)"
   ]
  },
  {
   "cell_type": "code",
   "execution_count": 98,
   "metadata": {},
   "outputs": [],
   "source": [
    "layers2 = pd.concat([official_layers_levels[mask1],community_layers_levels[mask2]])"
   ]
  },
  {
   "cell_type": "code",
   "execution_count": null,
   "metadata": {},
   "outputs": [],
   "source": [
    "len(community_layers_sum_2) + len(official_layers_sum)"
   ]
  },
  {
   "cell_type": "code",
   "execution_count": null,
   "metadata": {},
   "outputs": [],
   "source": [
    "len(layers) - len(community_layers_sum_2) - len(official_layers_sum)"
   ]
  },
  {
   "cell_type": "code",
   "execution_count": 99,
   "metadata": {},
   "outputs": [
    {
     "data": {
      "text/plain": [
       "4385468"
      ]
     },
     "execution_count": 99,
     "metadata": {},
     "output_type": "execute_result"
    }
   ],
   "source": [
    "len(layers2)"
   ]
  },
  {
   "cell_type": "code",
   "execution_count": 114,
   "metadata": {},
   "outputs": [],
   "source": [
    "layers2.sort_values('level', inplace=True)"
   ]
  },
  {
   "cell_type": "code",
   "execution_count": 116,
   "metadata": {},
   "outputs": [],
   "source": [
    "layers2.to_csv('/home/ahmed/docker_emse/csv/all_layers_unique.csv', index=False, sep=',')"
   ]
  },
  {
   "cell_type": "markdown",
   "metadata": {},
   "source": [
    "## 2 -> an other merge between community and official images"
   ]
  },
  {
   "cell_type": "code",
   "execution_count": 12,
   "metadata": {},
   "outputs": [],
   "source": [
    "layers=pd.read_csv('/home/ahmed/docker_emse/csv/all_layers_unique.csv',\n",
    "                   sep=',',\n",
    "                   usecols=['image','level'],\n",
    "                   dtype=object,\n",
    "                   index_col=None)"
   ]
  },
  {
   "cell_type": "code",
   "execution_count": 47,
   "metadata": {},
   "outputs": [],
   "source": [
    "layers.rename(columns={'level':'depth'}, inplace=True)"
   ]
  },
  {
   "cell_type": "code",
   "execution_count": 36,
   "metadata": {},
   "outputs": [],
   "source": [
    "mask = official_layers.image.isin(layers.image)\n",
    "official_layers = official_layers[mask]"
   ]
  },
  {
   "cell_type": "code",
   "execution_count": 37,
   "metadata": {},
   "outputs": [],
   "source": [
    "mask = community_layers.image.isin(layers.image)\n",
    "community_layers = community_layers[mask]"
   ]
  },
  {
   "cell_type": "code",
   "execution_count": 46,
   "metadata": {},
   "outputs": [
    {
     "name": "stdout",
     "output_type": "stream",
     "text": [
      "12427 4373041\n"
     ]
    }
   ],
   "source": [
    "print(len(official_layers.image.drop_duplicates()) , len(community_layers.image.drop_duplicates()))"
   ]
  },
  {
   "cell_type": "code",
   "execution_count": 48,
   "metadata": {},
   "outputs": [
    {
     "data": {
      "text/plain": [
       "105774"
      ]
     },
     "execution_count": 48,
     "metadata": {},
     "output_type": "execute_result"
    }
   ],
   "source": [
    "official_layers = official_layers.merge(layers, on='image', how='left')\n",
    "official_layers.sort_values('depth', inplace=True)\n",
    "len(official_layers)"
   ]
  },
  {
   "cell_type": "code",
   "execution_count": 49,
   "metadata": {},
   "outputs": [
    {
     "data": {
      "text/plain": [
       "49190257"
      ]
     },
     "execution_count": 49,
     "metadata": {},
     "output_type": "execute_result"
    }
   ],
   "source": [
    "community_layers = community_layers.merge(layers, on='image', how='left')\n",
    "community_layers.sort_values('depth', inplace=True)\n",
    "len(community_layers)"
   ]
  },
  {
   "cell_type": "code",
   "execution_count": 52,
   "metadata": {},
   "outputs": [],
   "source": [
    "layers = pd.concat([official_layers, community_layers])"
   ]
  },
  {
   "cell_type": "code",
   "execution_count": 58,
   "metadata": {},
   "outputs": [],
   "source": [
    "layers_0 = (layers\n",
    " .query(\"level == 0\")\n",
    " .groupby(['layer'])\n",
    " .count()[['image']]\n",
    " .reset_index()\n",
    ")"
   ]
  },
  {
   "cell_type": "code",
   "execution_count": 61,
   "metadata": {},
   "outputs": [
    {
     "data": {
      "text/plain": [
       "18873"
      ]
     },
     "execution_count": 61,
     "metadata": {},
     "output_type": "execute_result"
    }
   ],
   "source": [
    "len(layers_0.query('image>1'))"
   ]
  },
  {
   "cell_type": "code",
   "execution_count": 70,
   "metadata": {},
   "outputs": [],
   "source": [
    "mask = layers.query(\"level == 0\").layer.isin(layers_0.query('image>1').layer)\n",
    "images_to_study = layers.query(\"level == 0\")[mask].image"
   ]
  },
  {
   "cell_type": "code",
   "execution_count": 75,
   "metadata": {},
   "outputs": [
    {
     "name": "stdout",
     "output_type": "stream",
     "text": [
      "4158954\n"
     ]
    }
   ],
   "source": [
    "if images_to_study.drop_duplicates().size == images_to_study.size:\n",
    "    print(images_to_study.size)"
   ]
  },
  {
   "cell_type": "code",
   "execution_count": 77,
   "metadata": {},
   "outputs": [
    {
     "data": {
      "text/plain": [
       "47330221"
      ]
     },
     "execution_count": 77,
     "metadata": {},
     "output_type": "execute_result"
    }
   ],
   "source": [
    "mask = layers.image.isin(images_to_study)\n",
    "layers = layers[mask]\n",
    "len(layers)"
   ]
  },
  {
   "cell_type": "code",
   "execution_count": 81,
   "metadata": {},
   "outputs": [
    {
     "data": {
      "text/plain": [
       "17464995"
      ]
     },
     "execution_count": 81,
     "metadata": {},
     "output_type": "execute_result"
    }
   ],
   "source": [
    "layers.layer.drop_duplicates().size"
   ]
  },
  {
   "cell_type": "code",
   "execution_count": 82,
   "metadata": {},
   "outputs": [],
   "source": [
    "import hashlib\n",
    "layers['layer_md5'] = layers['layer'].apply(lambda s: hashlib.md5(s.encode()).hexdigest())"
   ]
  },
  {
   "cell_type": "code",
   "execution_count": 85,
   "metadata": {},
   "outputs": [],
   "source": [
    "layers.drop('layer', axis=1, inplace=True)"
   ]
  },
  {
   "cell_type": "code",
   "execution_count": 86,
   "metadata": {},
   "outputs": [],
   "source": [
    "layers.to_csv('/home/ahmed/docker_emse/csv/network_layers_md5.csv', index=True, sep=',')\n"
   ]
  },
  {
   "cell_type": "markdown",
   "metadata": {},
   "source": [
    "# Community Images candidates that make use of Debian"
   ]
  },
  {
   "cell_type": "code",
   "execution_count": 69,
   "metadata": {},
   "outputs": [
    {
     "data": {
      "text/plain": [
       "375"
      ]
     },
     "execution_count": 69,
     "metadata": {},
     "output_type": "execute_result"
    }
   ],
   "source": [
    "debian_layers = official_layers[official_layers.image.str.contains('library:debian')]\n",
    "debian_layers.image.drop_duplicates().size"
   ]
  },
  {
   "cell_type": "code",
   "execution_count": 70,
   "metadata": {},
   "outputs": [
    {
     "data": {
      "text/plain": [
       "1081339"
      ]
     },
     "execution_count": 70,
     "metadata": {},
     "output_type": "execute_result"
    }
   ],
   "source": [
    "# Which images make use of Debian\n",
    "mask = community_layers.layer.isin(debian_layers.layer)\n",
    "community_debian_layers = community_layers[mask]\n",
    "len(community_debian_layers)"
   ]
  },
  {
   "cell_type": "code",
   "execution_count": 71,
   "metadata": {},
   "outputs": [
    {
     "data": {
      "text/plain": [
       "1081213"
      ]
     },
     "execution_count": 71,
     "metadata": {},
     "output_type": "execute_result"
    }
   ],
   "source": [
    "community_debian_layers.image.drop_duplicates().size"
   ]
  },
  {
   "cell_type": "code",
   "execution_count": 20,
   "metadata": {},
   "outputs": [
    {
     "data": {
      "text/plain": [
       "926276"
      ]
     },
     "execution_count": 20,
     "metadata": {},
     "output_type": "execute_result"
    }
   ],
   "source": [
    "# Remove duplicates\n",
    "mask = community_layers_sum.image.isin(community_debian_layers.image)\n",
    "community_debian_sum = community_layers_sum[mask]\n",
    "len(community_debian_sum)"
   ]
  },
  {
   "cell_type": "code",
   "execution_count": 22,
   "metadata": {},
   "outputs": [
    {
     "data": {
      "text/plain": [
       "923969"
      ]
     },
     "execution_count": 22,
     "metadata": {},
     "output_type": "execute_result"
    }
   ],
   "source": [
    "# Which images are exactly official images\n",
    "mask = community_debian_sum.layer.isin(official_layers_sum.layer)\n",
    "community_debian_sum = community_debian_sum[~mask]\n",
    "len(community_debian_sum)"
   ]
  },
  {
   "cell_type": "code",
   "execution_count": 25,
   "metadata": {},
   "outputs": [
    {
     "data": {
      "text/plain": [
       "923969"
      ]
     },
     "execution_count": 25,
     "metadata": {},
     "output_type": "execute_result"
    }
   ],
   "source": [
    "# sort them by number of layers\n",
    "mask = community_layers_levels.image.isin(community_debian_sum.image)\n",
    "community_debian_sum = community_layers_levels[mask]\n",
    "len(community_debian_sum)"
   ]
  },
  {
   "cell_type": "code",
   "execution_count": 33,
   "metadata": {},
   "outputs": [
    {
     "data": {
      "text/html": [
       "<div>\n",
       "<style scoped>\n",
       "    .dataframe tbody tr th:only-of-type {\n",
       "        vertical-align: middle;\n",
       "    }\n",
       "\n",
       "    .dataframe tbody tr th {\n",
       "        vertical-align: top;\n",
       "    }\n",
       "\n",
       "    .dataframe thead th {\n",
       "        text-align: right;\n",
       "    }\n",
       "</style>\n",
       "<table border=\"1\" class=\"dataframe\">\n",
       "  <thead>\n",
       "    <tr style=\"text-align: right;\">\n",
       "      <th></th>\n",
       "      <th>image</th>\n",
       "      <th>level</th>\n",
       "    </tr>\n",
       "  </thead>\n",
       "  <tbody>\n",
       "    <tr>\n",
       "      <th>505</th>\n",
       "      <td>010309:ams-go:0.1.0</td>\n",
       "      <td>2</td>\n",
       "    </tr>\n",
       "    <tr>\n",
       "      <th>519</th>\n",
       "      <td>010309:bia-excass:0.1.0</td>\n",
       "      <td>2</td>\n",
       "    </tr>\n",
       "    <tr>\n",
       "      <th>522</th>\n",
       "      <td>010309:bia-mailsender:0.1.0</td>\n",
       "      <td>2</td>\n",
       "    </tr>\n",
       "    <tr>\n",
       "      <th>527</th>\n",
       "      <td>010309:bia-query:0.1.0</td>\n",
       "      <td>2</td>\n",
       "    </tr>\n",
       "    <tr>\n",
       "      <th>534</th>\n",
       "      <td>010309:biaasteriskcdr:0.1.0</td>\n",
       "      <td>2</td>\n",
       "    </tr>\n",
       "  </tbody>\n",
       "</table>\n",
       "</div>"
      ],
      "text/plain": [
       "                           image  level\n",
       "505          010309:ams-go:0.1.0      2\n",
       "519      010309:bia-excass:0.1.0      2\n",
       "522  010309:bia-mailsender:0.1.0      2\n",
       "527       010309:bia-query:0.1.0      2\n",
       "534  010309:biaasteriskcdr:0.1.0      2"
      ]
     },
     "execution_count": 33,
     "metadata": {},
     "output_type": "execute_result"
    }
   ],
   "source": [
    "(community_debian_sum\n",
    " .sort_values(['level','image'])\n",
    " .head()\n",
    ")"
   ]
  },
  {
   "cell_type": "code",
   "execution_count": 34,
   "metadata": {},
   "outputs": [],
   "source": [
    "(community_debian_sum\n",
    " .sort_values(['level','image'])\n",
    " .reset_index()[['image']]\n",
    " .to_csv('/home/ahmed/docker_emse/csv/community_debian_images.csv', index=True, sep=',')\n",
    ")"
   ]
  },
  {
   "cell_type": "markdown",
   "metadata": {},
   "source": [
    "# Remove later"
   ]
  },
  {
   "cell_type": "code",
   "execution_count": null,
   "metadata": {},
   "outputs": [],
   "source": [
    "comm"
   ]
  }
 ],
 "metadata": {
  "kernelspec": {
   "display_name": "Python 3",
   "language": "python",
   "name": "python3"
  },
  "language_info": {
   "codemirror_mode": {
    "name": "ipython",
    "version": 3
   },
   "file_extension": ".py",
   "mimetype": "text/x-python",
   "name": "python",
   "nbconvert_exporter": "python",
   "pygments_lexer": "ipython3",
   "version": "3.6.8"
  }
 },
 "nbformat": 4,
 "nbformat_minor": 2
}
