{
 "cells": [
  {
   "cell_type": "code",
   "execution_count": 2,
   "metadata": {},
   "outputs": [],
   "source": [
    "import pandas as pd"
   ]
  },
  {
   "cell_type": "markdown",
   "metadata": {},
   "source": [
    "# COMMUNITY Tags"
   ]
  },
  {
   "cell_type": "code",
   "execution_count": 19,
   "metadata": {},
   "outputs": [
    {
     "data": {
      "text/plain": [
       "5842566"
      ]
     },
     "execution_count": 19,
     "metadata": {},
     "output_type": "execute_result"
    }
   ],
   "source": [
    "community_tags=pd.read_csv('/home/ahmed/docker_emse/csv/community_tags.csv', \n",
    "                            sep=',', \n",
    "                            dtype=object, \n",
    "                            index_col=None,\n",
    "                            error_bad_lines=False)\n",
    "len(community_tags)\n"
   ]
  },
  {
   "cell_type": "code",
   "execution_count": 23,
   "metadata": {},
   "outputs": [
    {
     "data": {
      "text/plain": [
       "1929427"
      ]
     },
     "execution_count": 23,
     "metadata": {},
     "output_type": "execute_result"
    }
   ],
   "source": [
    "community_tags.slug.drop_duplicates().size"
   ]
  },
  {
   "cell_type": "markdown",
   "metadata": {},
   "source": [
    "# OFFICIAL tags"
   ]
  },
  {
   "cell_type": "code",
   "execution_count": 20,
   "metadata": {},
   "outputs": [
    {
     "data": {
      "text/plain": [
       "27759"
      ]
     },
     "execution_count": 20,
     "metadata": {},
     "output_type": "execute_result"
    }
   ],
   "source": [
    "official_tags=pd.read_csv('/home/ahmed/docker_emse/csv/official_tags.csv', \n",
    "                            sep=',', \n",
    "                            dtype=object, \n",
    "                            index_col=None,\n",
    "                            error_bad_lines=False)\n",
    "len(official_tags)\n"
   ]
  },
  {
   "cell_type": "code",
   "execution_count": 18,
   "metadata": {},
   "outputs": [],
   "source": [
    "#official_tags.to_csv('/home/ahmed/docker_emse/csv/community_tags.csv', sep=',', index=False)"
   ]
  },
  {
   "cell_type": "markdown",
   "metadata": {},
   "source": [
    "##### Official Layers"
   ]
  },
  {
   "cell_type": "code",
   "execution_count": 4,
   "metadata": {},
   "outputs": [
    {
     "name": "stdout",
     "output_type": "stream",
     "text": [
      "199637\n"
     ]
    },
    {
     "data": {
      "text/html": [
       "<div>\n",
       "<style scoped>\n",
       "    .dataframe tbody tr th:only-of-type {\n",
       "        vertical-align: middle;\n",
       "    }\n",
       "\n",
       "    .dataframe tbody tr th {\n",
       "        vertical-align: top;\n",
       "    }\n",
       "\n",
       "    .dataframe thead th {\n",
       "        text-align: right;\n",
       "    }\n",
       "</style>\n",
       "<table border=\"1\" class=\"dataframe\">\n",
       "  <thead>\n",
       "    <tr style=\"text-align: right;\">\n",
       "      <th></th>\n",
       "      <th>image</th>\n",
       "      <th>layer</th>\n",
       "      <th>level</th>\n",
       "    </tr>\n",
       "  </thead>\n",
       "  <tbody>\n",
       "    <tr>\n",
       "      <th>0</th>\n",
       "      <td>library:php:7.2-rc-cli</td>\n",
       "      <td>sha256:bc95e04b23c06ba1b9bf092d07d1493177b218e...</td>\n",
       "      <td>0</td>\n",
       "    </tr>\n",
       "    <tr>\n",
       "      <th>1</th>\n",
       "      <td>library:php:7.2-rc-cli</td>\n",
       "      <td>sha256:6a2129b02a8d0ba0faf17a9cfd0faeecfc525cb...</td>\n",
       "      <td>1</td>\n",
       "    </tr>\n",
       "  </tbody>\n",
       "</table>\n",
       "</div>"
      ],
      "text/plain": [
       "                    image                                              layer  \\\n",
       "0  library:php:7.2-rc-cli  sha256:bc95e04b23c06ba1b9bf092d07d1493177b218e...   \n",
       "1  library:php:7.2-rc-cli  sha256:6a2129b02a8d0ba0faf17a9cfd0faeecfc525cb...   \n",
       "\n",
       "  level  \n",
       "0     0  \n",
       "1     1  "
      ]
     },
     "execution_count": 4,
     "metadata": {},
     "output_type": "execute_result"
    }
   ],
   "source": [
    "official_layers=pd.read_csv('/home/ahmed/docker_emse/csv/layers_official_may.csv', \n",
    "                            sep=',', \n",
    "                            dtype=object, \n",
    "                            index_col=None,\n",
    "                            error_bad_lines=False)\n",
    "print(len(official_layers))\n",
    "official_layers.head(2)"
   ]
  },
  {
   "cell_type": "code",
   "execution_count": 5,
   "metadata": {},
   "outputs": [
    {
     "data": {
      "text/plain": [
       "22760"
      ]
     },
     "execution_count": 5,
     "metadata": {},
     "output_type": "execute_result"
    }
   ],
   "source": [
    "official_layers.image.drop_duplicates().size"
   ]
  },
  {
   "cell_type": "code",
   "execution_count": 11,
   "metadata": {},
   "outputs": [],
   "source": [
    "def split_image(image):\n",
    "    image = image.split(':')\n",
    "    return str(image[1])\n",
    "\n",
    "official_layers['repo'] = official_layers['image'].apply(lambda x: split_image(x))"
   ]
  },
  {
   "cell_type": "markdown",
   "metadata": {},
   "source": [
    "##### Community Layers"
   ]
  },
  {
   "cell_type": "code",
   "execution_count": 6,
   "metadata": {},
   "outputs": [
    {
     "name": "stdout",
     "output_type": "stream",
     "text": [
      "53839141\n"
     ]
    },
    {
     "data": {
      "text/html": [
       "<div>\n",
       "<style scoped>\n",
       "    .dataframe tbody tr th:only-of-type {\n",
       "        vertical-align: middle;\n",
       "    }\n",
       "\n",
       "    .dataframe tbody tr th {\n",
       "        vertical-align: top;\n",
       "    }\n",
       "\n",
       "    .dataframe thead th {\n",
       "        text-align: right;\n",
       "    }\n",
       "</style>\n",
       "<table border=\"1\" class=\"dataframe\">\n",
       "  <thead>\n",
       "    <tr style=\"text-align: right;\">\n",
       "      <th></th>\n",
       "      <th>image</th>\n",
       "      <th>layer</th>\n",
       "      <th>level</th>\n",
       "    </tr>\n",
       "  </thead>\n",
       "  <tbody>\n",
       "    <tr>\n",
       "      <th>0</th>\n",
       "      <td>liginccojp:wordpress:1.3.0-php7.1-noinit-apache</td>\n",
       "      <td>sha256:be8881be8156e4068e611fe956aba2b9593ebd9...</td>\n",
       "      <td>0</td>\n",
       "    </tr>\n",
       "    <tr>\n",
       "      <th>1</th>\n",
       "      <td>liginccojp:wordpress:1.3.0-php7.1-noinit-apache</td>\n",
       "      <td>sha256:69a25f7e493029f541fc3c7ac66fdffdd5f8c4b...</td>\n",
       "      <td>1</td>\n",
       "    </tr>\n",
       "  </tbody>\n",
       "</table>\n",
       "</div>"
      ],
      "text/plain": [
       "                                             image  \\\n",
       "0  liginccojp:wordpress:1.3.0-php7.1-noinit-apache   \n",
       "1  liginccojp:wordpress:1.3.0-php7.1-noinit-apache   \n",
       "\n",
       "                                               layer level  \n",
       "0  sha256:be8881be8156e4068e611fe956aba2b9593ebd9...     0  \n",
       "1  sha256:69a25f7e493029f541fc3c7ac66fdffdd5f8c4b...     1  "
      ]
     },
     "execution_count": 6,
     "metadata": {},
     "output_type": "execute_result"
    }
   ],
   "source": [
    "community_layers=pd.read_csv('/home/ahmed/docker_emse/csv/layers_community.csv', \n",
    "                            sep=',', \n",
    "                            dtype=object, \n",
    "                            index_col=None,\n",
    "                            error_bad_lines=False)\n",
    "print(len(community_layers))\n",
    "community_layers.head(2)"
   ]
  },
  {
   "cell_type": "code",
   "execution_count": null,
   "metadata": {},
   "outputs": [],
   "source": [
    "def split_image(image):\n",
    "    image = image.split(':')\n",
    "    return str(image[0])+'/'+str(image[1])\n",
    "\n",
    "community_layers['repo'] = community_layers['image'].apply(lambda x: split_image(x))"
   ]
  },
  {
   "cell_type": "code",
   "execution_count": 26,
   "metadata": {},
   "outputs": [
    {
     "data": {
      "text/plain": [
       "1685897"
      ]
     },
     "execution_count": 26,
     "metadata": {},
     "output_type": "execute_result"
    }
   ],
   "source": [
    "community_layers.repo.drop_duplicates().size"
   ]
  },
  {
   "cell_type": "code",
   "execution_count": 21,
   "metadata": {},
   "outputs": [
    {
     "data": {
      "text/plain": [
       "5718715"
      ]
     },
     "execution_count": 21,
     "metadata": {},
     "output_type": "execute_result"
    }
   ],
   "source": [
    "community_layers_all.image.drop_duplicates().size"
   ]
  },
  {
   "cell_type": "code",
   "execution_count": null,
   "metadata": {},
   "outputs": [],
   "source": []
  }
 ],
 "metadata": {
  "kernelspec": {
   "display_name": "Python 3",
   "language": "python",
   "name": "python3"
  },
  "language_info": {
   "codemirror_mode": {
    "name": "ipython",
    "version": 3
   },
   "file_extension": ".py",
   "mimetype": "text/x-python",
   "name": "python",
   "nbconvert_exporter": "python",
   "pygments_lexer": "ipython3",
   "version": "3.6.8"
  }
 },
 "nbformat": 4,
 "nbformat_minor": 2
}
