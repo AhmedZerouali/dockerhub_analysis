{
 "cells": [
  {
   "cell_type": "code",
   "execution_count": 1,
   "metadata": {},
   "outputs": [],
   "source": [
    "%matplotlib inline\n",
    "import seaborn as sns; \n",
    "import pandas as pd\n",
    "import matplotlib.pyplot as plt\n",
    "from matplotlib import style\n",
    "style.use('ggplot')\n",
    "import datetime\n",
    "from io import StringIO\n",
    "import re\n",
    "import numpy as np\n",
    "from datetime import datetime\n",
    "import apt_pkg\n",
    "apt_pkg.init_system()\n",
    "from tqdm import tqdm_notebook as tqdm\n",
    "import warnings\n",
    "from pandas.core.common import SettingWithCopyWarning\n",
    "warnings.simplefilter(action=\"ignore\", category=SettingWithCopyWarning)"
   ]
  },
  {
   "cell_type": "code",
   "execution_count": 2,
   "metadata": {},
   "outputs": [],
   "source": [
    "sns.set_style('ticks',{'legend.frameon':True} )\n",
    "sns.set_palette('colorblind')\n",
    "FIG_SIZE = (12, 3)\n",
    "font = {'family' : 'Times New Roman',\n",
    "        'weight' : 'bold',\n",
    "        'size'   : 22}\n",
    "plt.rc('font', **font)\n",
    "plt.rcParams['pdf.fonttype'] = 42\n",
    "plt.rcParams['ps.fonttype'] = 42\n",
    "plt.rcParams['text.usetex'] = True\n",
    "\n",
    "plt.rcParams['xtick.labelsize'] = 22\n",
    "plt.rcParams['ytick.labelsize'] = 22\n",
    "plt.rcParams['axes.labelsize']= 22\n",
    "flatui = [sns.xkcd_rgb[\"medium green\"], \"orange\", sns.xkcd_rgb[\"medium purple\"], \"#e74c3c\", \"#34495e\", \"#2ecc71\"]"
   ]
  },
  {
   "cell_type": "markdown",
   "metadata": {},
   "source": [
    "# First, we check if the latest version == highest version of a packages"
   ]
  },
  {
   "cell_type": "markdown",
   "metadata": {},
   "source": [
    "# Load installed packages"
   ]
  },
  {
   "cell_type": "code",
   "execution_count": 3,
   "metadata": {},
   "outputs": [
    {
     "data": {
      "text/plain": [
       "(11149, 1)"
      ]
     },
     "execution_count": 3,
     "metadata": {},
     "output_type": "execute_result"
    }
   ],
   "source": [
    "packages = pd.read_csv('../../data/for_analysis/tv_lag_ideal.csv', usecols=['package'])\n",
    "packages.drop_duplicates(inplace=True)\n",
    "packages.shape"
   ]
  },
  {
   "cell_type": "markdown",
   "metadata": {},
   "source": [
    "# Load Debian Packages"
   ]
  },
  {
   "cell_type": "code",
   "execution_count": 4,
   "metadata": {},
   "outputs": [
    {
     "data": {
      "text/plain": [
       "(954495, 6)"
      ]
     },
     "execution_count": 4,
     "metadata": {},
     "output_type": "execute_result"
    }
   ],
   "source": [
    "debian_packages = pd.read_csv('../../data/prepared_data/debian_packages.csv')\n",
    "debian_packages.shape"
   ]
  },
  {
   "cell_type": "code",
   "execution_count": 5,
   "metadata": {},
   "outputs": [
    {
     "data": {
      "text/plain": [
       "202825"
      ]
     },
     "execution_count": 5,
     "metadata": {},
     "output_type": "execute_result"
    }
   ],
   "source": [
    "debian_packages = debian_packages[debian_packages.package.isin(packages.package)]\n",
    "len(debian_packages)"
   ]
  },
  {
   "cell_type": "code",
   "execution_count": 6,
   "metadata": {},
   "outputs": [
    {
     "data": {
      "text/plain": [
       "(11149,)"
      ]
     },
     "execution_count": 6,
     "metadata": {},
     "output_type": "execute_result"
    }
   ],
   "source": [
    "debian_packages.package.unique().shape"
   ]
  },
  {
   "cell_type": "code",
   "execution_count": 7,
   "metadata": {},
   "outputs": [],
   "source": [
    "debian_packages['archive'] = debian_packages['archive'].apply(lambda x: x.split('-')[0])"
   ]
  },
  {
   "cell_type": "code",
   "execution_count": 16,
   "metadata": {},
   "outputs": [
    {
     "data": {
      "text/plain": [
       "array(['jessie', 'stretch', 'buster', 'bullseye'], dtype=object)"
      ]
     },
     "execution_count": 16,
     "metadata": {},
     "output_type": "execute_result"
    }
   ],
   "source": [
    "debian_packages.archive.unique()"
   ]
  },
  {
   "cell_type": "code",
   "execution_count": 28,
   "metadata": {},
   "outputs": [
    {
     "data": {
      "application/vnd.jupyter.widget-view+json": {
       "model_id": "93b41cfca34b4463a355b28fc936c075",
       "version_major": 2,
       "version_minor": 0
      },
      "text/plain": [
       "HBox(children=(IntProgress(value=0, max=3410), HTML(value='')))"
      ]
     },
     "metadata": {},
     "output_type": "display_data"
    },
    {
     "name": "stdout",
     "output_type": "stream",
     "text": [
      "\n"
     ]
    }
   ],
   "source": [
    "### Here we sort using the debian function\n",
    "all_packages={}\n",
    "for package in tqdm(debian_packages.package.unique()):\n",
    "    all_packages[package]={}\n",
    "    for archive in debian_packages.archive.unique():\n",
    "        versions_all = debian_packages.query('package==\"'+package+'\" and archive==\"'+archive+'\"').version.unique()\n",
    "        all_packages[package][archive]=[]\n",
    "        a=[]\n",
    "        for x in versions_all:\n",
    "            ver=False\n",
    "            for index, y in enumerate(a):\n",
    "                if apt_pkg.version_compare(x,y) <0:\n",
    "                    a=a[:index] + [x] + a[index:]\n",
    "                    ver=True\n",
    "                    break\n",
    "            if not ver:\n",
    "                a=a+[x]\n",
    "        all_packages[package][archive]=a\n",
    "\n",
    "df_all=pd.DataFrame()\n",
    "for package in tqdm(debian_packages.package.unique()):\n",
    "    for archive in debian_packages.archive.unique():\n",
    "        temp=pd.DataFrame({'package':package, \n",
    "                           'archive':archive,\n",
    "                           'version':all_packages[package][archive], \n",
    "                           'order':[u for u in range(len(all_packages[package][archive]))]})\n",
    "        df_all=pd.concat([df_all,temp])"
   ]
  },
  {
   "cell_type": "code",
   "execution_count": 35,
   "metadata": {},
   "outputs": [
    {
     "data": {
      "text/plain": [
       "(93293, 93293)"
      ]
     },
     "execution_count": 35,
     "metadata": {},
     "output_type": "execute_result"
    }
   ],
   "source": [
    "len(df_all), len(debian_packages)"
   ]
  },
  {
   "cell_type": "code",
   "execution_count": 38,
   "metadata": {},
   "outputs": [],
   "source": [
    "a = (df_all\n",
    "          .merge(debian_packages, \n",
    "                on = ['package','version','archive'],\n",
    "                how = 'left')\n",
    "         )"
   ]
  },
  {
   "cell_type": "code",
   "execution_count": 60,
   "metadata": {},
   "outputs": [],
   "source": [
    "version = (a\n",
    "           .sort_values('order')\n",
    "           .groupby(['package','archive'])\n",
    "           .last()\n",
    "           .reset_index()\n",
    "           [['package','archive','version','order']]\n",
    "          )\n",
    "date = (a\n",
    "        .sort_values('date')\n",
    "        .groupby(['package','archive'])\n",
    "        .last()\n",
    "        .reset_index()\n",
    "        [['package','archive','version','date']]\n",
    "\n",
    "          )"
   ]
  },
  {
   "cell_type": "code",
   "execution_count": 68,
   "metadata": {},
   "outputs": [
    {
     "name": "stdout",
     "output_type": "stream",
     "text": [
      "latest = highest\n",
      "0.9995962043206138\n",
      "9902 9906\n"
     ]
    }
   ],
   "source": [
    "a = (version\n",
    "          .merge(date, \n",
    "                on = ['package','archive','version'],\n",
    "                how = 'left')\n",
    "         )\n",
    "if len(a.dropna())/len(a) > 0.95:\n",
    "    print('latest = highest')\n",
    "    print(len(a.dropna())/len(a))\n",
    "    print(len(a.dropna()), len(a))"
   ]
  },
  {
   "cell_type": "markdown",
   "metadata": {},
   "source": [
    "## It seems that 99.9% of packages have the latest version == the highest version "
   ]
  },
  {
   "cell_type": "markdown",
   "metadata": {},
   "source": [
    "# Let's check now if the package versions found installed in some specific distribution come from its corresponding archive (i.e. release == archive)"
   ]
  },
  {
   "cell_type": "code",
   "execution_count": 70,
   "metadata": {},
   "outputs": [
    {
     "data": {
      "text/plain": [
       "(46558282, 5)"
      ]
     },
     "execution_count": 70,
     "metadata": {},
     "output_type": "execute_result"
    }
   ],
   "source": [
    "packages = pd.read_csv('../../data/for_analysis/installed_packages.csv',\n",
    "                      usecols=['image','package','archive','release','last_updated'])\n",
    "packages.shape"
   ]
  },
  {
   "cell_type": "code",
   "execution_count": 73,
   "metadata": {},
   "outputs": [],
   "source": [
    "packages['archive'] = packages['archive'].apply(lambda x: x.split('-')[0])"
   ]
  },
  {
   "cell_type": "code",
   "execution_count": 85,
   "metadata": {},
   "outputs": [
    {
     "data": {
      "text/plain": [
       "array(['stretch', 'buster', 'jessie', 'undefined'], dtype=object)"
      ]
     },
     "execution_count": 85,
     "metadata": {},
     "output_type": "execute_result"
    }
   ],
   "source": [
    "packages.release.unique()"
   ]
  },
  {
   "cell_type": "code",
   "execution_count": 86,
   "metadata": {},
   "outputs": [],
   "source": [
    "archve_release = packages.query('archive != release and release != \"undefined\" and archive != \"bullseye\"')"
   ]
  },
  {
   "cell_type": "code",
   "execution_count": 87,
   "metadata": {},
   "outputs": [
    {
     "data": {
      "text/plain": [
       "1.3869605411986636"
      ]
     },
     "execution_count": 87,
     "metadata": {},
     "output_type": "execute_result"
    }
   ],
   "source": [
    "len(archve_release)*100/len(packages)"
   ]
  },
  {
   "cell_type": "code",
   "execution_count": 88,
   "metadata": {},
   "outputs": [
    {
     "data": {
      "text/plain": [
       "((140512,), (79893,))"
      ]
     },
     "execution_count": 88,
     "metadata": {},
     "output_type": "execute_result"
    }
   ],
   "source": [
    "packages.image.unique().shape, archve_release.image.unique().shape\n",
    "# 79893/140512 = 56.8%"
   ]
  },
  {
   "cell_type": "code",
   "execution_count": 89,
   "metadata": {},
   "outputs": [
    {
     "data": {
      "text/plain": [
       "(140498,)"
      ]
     },
     "execution_count": 89,
     "metadata": {},
     "output_type": "execute_result"
    }
   ],
   "source": [
    "packages.query('release != \"undefined\" and archive != \"bullseye\"').image.unique().shape"
   ]
  },
  {
   "cell_type": "markdown",
   "metadata": {},
   "source": [
    "### NUMBER OF USED IMAGES : 140,498"
   ]
  },
  {
   "cell_type": "markdown",
   "metadata": {},
   "source": [
    "# Let's check how much time does it take before a bug is fixed, using survival analysis"
   ]
  },
  {
   "cell_type": "code",
   "execution_count": 8,
   "metadata": {},
   "outputs": [],
   "source": [
    "def get_version(source, version):\n",
    "    if '(' in source:\n",
    "        return re.search(r'\\((.*?)\\)',source).group(1)\n",
    "    else:\n",
    "        return version"
   ]
  },
  {
   "cell_type": "code",
   "execution_count": 9,
   "metadata": {},
   "outputs": [],
   "source": [
    "debian_packages['source_version'] = debian_packages.apply(lambda d: get_version(d['source'],d['version']), axis=1)\n",
    "debian_packages['source'] = debian_packages['source'].apply(lambda x: x.split('(')[0].strip())\n",
    "for col in debian_packages.columns:\n",
    "    debian_packages[col] = debian_packages[col].apply(str)"
   ]
  },
  {
   "cell_type": "code",
   "execution_count": 10,
   "metadata": {},
   "outputs": [
    {
     "data": {
      "text/html": [
       "<div>\n",
       "<style scoped>\n",
       "    .dataframe tbody tr th:only-of-type {\n",
       "        vertical-align: middle;\n",
       "    }\n",
       "\n",
       "    .dataframe tbody tr th {\n",
       "        vertical-align: top;\n",
       "    }\n",
       "\n",
       "    .dataframe thead th {\n",
       "        text-align: right;\n",
       "    }\n",
       "</style>\n",
       "<table border=\"1\" class=\"dataframe\">\n",
       "  <thead>\n",
       "    <tr style=\"text-align: right;\">\n",
       "      <th></th>\n",
       "      <th>package</th>\n",
       "      <th>version</th>\n",
       "      <th>archive</th>\n",
       "      <th>date</th>\n",
       "      <th>source</th>\n",
       "      <th>source_version</th>\n",
       "    </tr>\n",
       "  </thead>\n",
       "  <tbody>\n",
       "    <tr>\n",
       "      <td>0</td>\n",
       "      <td>0ad</td>\n",
       "      <td>0.0.13-1</td>\n",
       "      <td>jessie</td>\n",
       "      <td>2013-05-06</td>\n",
       "      <td>0ad</td>\n",
       "      <td>0.0.13-1</td>\n",
       "    </tr>\n",
       "    <tr>\n",
       "      <td>1</td>\n",
       "      <td>0ad</td>\n",
       "      <td>0.0.13-2</td>\n",
       "      <td>jessie</td>\n",
       "      <td>2013-06-04</td>\n",
       "      <td>0ad</td>\n",
       "      <td>0.0.13-2</td>\n",
       "    </tr>\n",
       "  </tbody>\n",
       "</table>\n",
       "</div>"
      ],
      "text/plain": [
       "  package   version archive        date source source_version\n",
       "0     0ad  0.0.13-1  jessie  2013-05-06    0ad       0.0.13-1\n",
       "1     0ad  0.0.13-2  jessie  2013-06-04    0ad       0.0.13-2"
      ]
     },
     "execution_count": 10,
     "metadata": {},
     "output_type": "execute_result"
    }
   ],
   "source": [
    "debian_packages.head(2)"
   ]
  },
  {
   "cell_type": "code",
   "execution_count": 12,
   "metadata": {},
   "outputs": [
    {
     "data": {
      "text/plain": [
       "(312472, 9)"
      ]
     },
     "execution_count": 12,
     "metadata": {},
     "output_type": "execute_result"
    }
   ],
   "source": [
    "bugs = pd.read_csv('../../data/prepared_data/bugs_extracted_20190830.csv')\n",
    "bugs.shape"
   ]
  },
  {
   "cell_type": "code",
   "execution_count": 13,
   "metadata": {},
   "outputs": [],
   "source": [
    "bugs = bugs[['debianbug','source','found_in','arrival','status','severity','type']].drop_duplicates()"
   ]
  },
  {
   "cell_type": "code",
   "execution_count": 14,
   "metadata": {},
   "outputs": [],
   "source": [
    "bugs.rename(columns ={'found_in':'source_version'}, inplace=True)"
   ]
  },
  {
   "cell_type": "code",
   "execution_count": 15,
   "metadata": {},
   "outputs": [
    {
     "data": {
      "text/plain": [
       "(293756, 8)"
      ]
     },
     "execution_count": 15,
     "metadata": {},
     "output_type": "execute_result"
    }
   ],
   "source": [
    "bugs = (bugs\n",
    "       .merge(debian_packages[['source','source_version','date']].drop_duplicates(),\n",
    "              on = ['source','source_version'],\n",
    "              how = 'left'\n",
    "       ))\n",
    "bugs.shape"
   ]
  },
  {
   "cell_type": "code",
   "execution_count": 16,
   "metadata": {},
   "outputs": [
    {
     "data": {
      "text/plain": [
       "(2486, 8)"
      ]
     },
     "execution_count": 16,
     "metadata": {},
     "output_type": "execute_result"
    }
   ],
   "source": [
    "bugs = bugs.dropna()\n",
    "bugs.shape"
   ]
  },
  {
   "cell_type": "code",
   "execution_count": 17,
   "metadata": {},
   "outputs": [
    {
     "data": {
      "text/plain": [
       "(702, 1784)"
      ]
     },
     "execution_count": 17,
     "metadata": {},
     "output_type": "execute_result"
    }
   ],
   "source": [
    "arrival_before = bugs.query('arrival<date')\n",
    "arrival_after = bugs.query('arrival>=date')\n",
    "len(arrival_before), len(arrival_after)"
   ]
  },
  {
   "cell_type": "code",
   "execution_count": 18,
   "metadata": {},
   "outputs": [
    {
     "data": {
      "text/html": [
       "<div>\n",
       "<style scoped>\n",
       "    .dataframe tbody tr th:only-of-type {\n",
       "        vertical-align: middle;\n",
       "    }\n",
       "\n",
       "    .dataframe tbody tr th {\n",
       "        vertical-align: top;\n",
       "    }\n",
       "\n",
       "    .dataframe thead th {\n",
       "        text-align: right;\n",
       "    }\n",
       "</style>\n",
       "<table border=\"1\" class=\"dataframe\">\n",
       "  <thead>\n",
       "    <tr style=\"text-align: right;\">\n",
       "      <th></th>\n",
       "      <th>debianbug</th>\n",
       "      <th>source</th>\n",
       "      <th>source_version</th>\n",
       "      <th>arrival</th>\n",
       "      <th>status</th>\n",
       "      <th>severity</th>\n",
       "      <th>type</th>\n",
       "      <th>date</th>\n",
       "    </tr>\n",
       "  </thead>\n",
       "  <tbody>\n",
       "    <tr>\n",
       "      <td>80</td>\n",
       "      <td>939137</td>\n",
       "      <td>android-platform-system-core</td>\n",
       "      <td>1:8.1.0+r23-5</td>\n",
       "      <td>2019-09-01 14:00:02</td>\n",
       "      <td>pending</td>\n",
       "      <td>normal</td>\n",
       "      <td>normal</td>\n",
       "      <td>2019-07-07</td>\n",
       "    </tr>\n",
       "    <tr>\n",
       "      <td>81</td>\n",
       "      <td>939137</td>\n",
       "      <td>android-platform-system-core</td>\n",
       "      <td>1:8.1.0+r23-5</td>\n",
       "      <td>2019-09-01 14:00:02</td>\n",
       "      <td>pending</td>\n",
       "      <td>normal</td>\n",
       "      <td>normal</td>\n",
       "      <td>2019-03-30</td>\n",
       "    </tr>\n",
       "  </tbody>\n",
       "</table>\n",
       "</div>"
      ],
      "text/plain": [
       "    debianbug                        source source_version  \\\n",
       "80     939137  android-platform-system-core  1:8.1.0+r23-5   \n",
       "81     939137  android-platform-system-core  1:8.1.0+r23-5   \n",
       "\n",
       "                arrival   status severity    type        date  \n",
       "80  2019-09-01 14:00:02  pending   normal  normal  2019-07-07  \n",
       "81  2019-09-01 14:00:02  pending   normal  normal  2019-03-30  "
      ]
     },
     "execution_count": 18,
     "metadata": {},
     "output_type": "execute_result"
    }
   ],
   "source": [
    "arrival_after.head(2)"
   ]
  },
  {
   "cell_type": "code",
   "execution_count": 19,
   "metadata": {},
   "outputs": [],
   "source": [
    "arrival_after['severity']=arrival_after['severity'].apply(lambda x:\n",
    "                                                     'high' if x==\"grave\"\n",
    "                                                     else 'high' if x==\"serious\"\n",
    "                                                     else 'high' if x==\"critical\"\n",
    "                                                     else x)"
   ]
  },
  {
   "cell_type": "code",
   "execution_count": 20,
   "metadata": {},
   "outputs": [],
   "source": [
    "arrival_after['arrival']= pd.to_datetime(arrival_after['arrival'])\n",
    "arrival_after['date']=pd.to_datetime(arrival_after['date'])"
   ]
  },
  {
   "cell_type": "code",
   "execution_count": 21,
   "metadata": {},
   "outputs": [
    {
     "name": "stdout",
     "output_type": "stream",
     "text": [
      "normal 3.033333333333333\n",
      "minor 2.533333333333333\n",
      "wishlist 2.3\n",
      "high 3.466666666666667\n",
      "important 2.6\n"
     ]
    },
    {
     "name": "stderr",
     "output_type": "stream",
     "text": [
      "/home/neglectos/.local/lib/python3.6/site-packages/pandas/plotting/_matplotlib/core.py:652: MatplotlibDeprecationWarning: Saw kwargs ['c', 'color'] which are all aliases for 'color'.  Kept value from 'color'.  Passing multiple aliases for the same property will raise a TypeError in 3.3.\n",
      "  return ax.plot(*args, **kwds)\n"
     ]
    },
    {
     "data": {
      "text/plain": [
       "<matplotlib.legend.Legend at 0x7f5c6209f9e8>"
      ]
     },
     "execution_count": 21,
     "metadata": {},
     "output_type": "execute_result"
    },
    {
     "data": {
      "image/png": "[encoded data removed]",
      "text/plain": [
       "<Figure size 648x216 with 1 Axes>"
      ]
     },
     "metadata": {},
     "output_type": "display_data"
    }
   ],
   "source": [
    "import lifelines\n",
    "from lifelines.statistics import logrank_test\n",
    "fig, ax = plt.subplots()\n",
    "\n",
    "kmp_df = (\n",
    "    arrival_after[['debianbug', 'arrival','severity','date']]\n",
    "    .assign(duration=lambda d: (d['arrival'] - d['date']).dt.days / 30)\n",
    ")\n",
    "\n",
    "PALETTE = sns.color_palette(flatui)[:6] \n",
    "PALETTE_2 = sns.color_palette('Set3')[::-1]\n",
    "\n",
    "kmp = lifelines.KaplanMeierFitter()\n",
    "data = []\n",
    "for i, severity in enumerate(arrival_after.severity.unique().tolist()):\n",
    "#for i, severity in enumerate(['minor','high','important','normal']):\n",
    "\n",
    "    mask = kmp_df['severity'] == severity\n",
    "    kmp.fit(kmp_df[mask]['duration'], label=severity)\n",
    "    print(severity, kmp.median_)\n",
    "    kmp.plot(ax=ax, ci_show=False, color=PALETTE[i])\n",
    "\n",
    "ax.set(\n",
    "    xlim=(0, 80),\n",
    "    xlabel='delay (in months)',\n",
    "    ylim=(0, 1),\n",
    "    ylabel='survival probability',\n",
    ")\n",
    "ax.figure.set_size_inches(9,3)\n",
    "ax.legend(loc='upper right', bbox_to_anchor=(1, 1.04), fontsize=15.5, fancybox=True, shadow=True,ncol=2)\n"
   ]
  },
  {
   "cell_type": "code",
   "execution_count": 155,
   "metadata": {},
   "outputs": [
    {
     "name": "stdout",
     "output_type": "stream",
     "text": [
      "minor 4.0\n",
      "serious 8.0\n",
      "grave 17.0\n",
      "critical 3.9\n",
      "important 3.4\n",
      "normal 3.466666666666667\n"
     ]
    },
    {
     "data": {
      "text/plain": [
       "<matplotlib.legend.Legend at 0x7fe4421bd630>"
      ]
     },
     "execution_count": 155,
     "metadata": {},
     "output_type": "execute_result"
    },
    {
     "data": {
      "image/png": "[encoded data removed]",
      "text/plain": [
       "<Figure size 648x216 with 1 Axes>"
      ]
     },
     "metadata": {},
     "output_type": "display_data"
    }
   ],
   "source": [
    "# Older figure, when considering all severities\n",
    "import lifelines\n",
    "from lifelines.statistics import logrank_test\n",
    "fig, ax = plt.subplots()\n",
    "\n",
    "kmp_df = (\n",
    "    arrival_after[['debianbug', 'arrival','severity','date']]\n",
    "    .assign(duration=lambda d: (d['arrival'] - d['date']).dt.days / 30)\n",
    ")\n",
    "\n",
    "PALETTE = sns.color_palette(flatui)[:6] \n",
    "PALETTE_2 = sns.color_palette('Set3')[::-1]\n",
    "\n",
    "kmp = lifelines.KaplanMeierFitter()\n",
    "data = []\n",
    "for i, severity in enumerate(['minor','serious','grave','critical','important','normal']):\n",
    "#for i, severity in enumerate(['minor','high','important','normal']):\n",
    "\n",
    "    mask = kmp_df['severity'] == severity\n",
    "    kmp.fit(kmp_df[mask]['duration'], label=severity)\n",
    "    print(severity, kmp.median_)\n",
    "    kmp.plot(ax=ax, ci_show=False, color=PALETTE[i])\n",
    "\n",
    "ax.set(\n",
    "    xlim=(0, 80),\n",
    "    xlabel='delay (in months)',\n",
    "    ylim=(0, 1),\n",
    "    ylabel='survival probability',\n",
    ")\n",
    "ax.figure.set_size_inches(9,3)\n",
    "ax.legend(loc='upper right', bbox_to_anchor=(1, 1.04), fontsize=15.5, fancybox=True, shadow=True,ncol=2)\n"
   ]
  },
  {
   "cell_type": "code",
   "execution_count": null,
   "metadata": {},
   "outputs": [],
   "source": []
  }
 ],
 "metadata": {
  "kernelspec": {
   "display_name": "Python 3",
   "language": "python",
   "name": "python3"
  },
  "language_info": {
   "codemirror_mode": {
    "name": "ipython",
    "version": 3
   },
   "file_extension": ".py",
   "mimetype": "text/x-python",
   "name": "python",
   "nbconvert_exporter": "python",
   "pygments_lexer": "ipython3",
   "version": "3.6.9"
  }
 },
 "nbformat": 4,
 "nbformat_minor": 2
}
