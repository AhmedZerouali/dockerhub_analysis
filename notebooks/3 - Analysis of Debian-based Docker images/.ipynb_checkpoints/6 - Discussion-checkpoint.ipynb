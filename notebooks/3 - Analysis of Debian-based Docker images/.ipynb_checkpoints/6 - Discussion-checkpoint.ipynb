{
 "cells": [
  {
   "cell_type": "code",
   "execution_count": 1,
   "metadata": {},
   "outputs": [],
   "source": [
    "%matplotlib inline\n",
    "from imports import *"
   ]
  },
  {
   "cell_type": "markdown",
   "metadata": {},
   "source": [
    "## Discussion materials"
   ]
  },
  {
   "cell_type": "markdown",
   "metadata": {},
   "source": [
    "### Load Debian packages"
   ]
  },
  {
   "cell_type": "code",
   "execution_count": 4,
   "metadata": {},
   "outputs": [
    {
     "data": {
      "text/plain": [
       "(954495, 4)"
      ]
     },
     "execution_count": 4,
     "metadata": {},
     "output_type": "execute_result"
    }
   ],
   "source": [
    "debian_packages = pd.read_csv('../../data/prepared_data/debian_packages.csv',\n",
    "                             usecols=['package','version','archive','date'])\n",
    "debian_packages.drop_duplicates(inplace=True)\n",
    "for col in debian_packages.columns:\n",
    "    debian_packages[col] = debian_packages[col].apply(str)\n",
    "debian_packages.shape"
   ]
  },
  {
   "cell_type": "code",
   "execution_count": 5,
   "metadata": {},
   "outputs": [
    {
     "data": {
      "text/plain": [
       "(46272487, 1)"
      ]
     },
     "execution_count": 5,
     "metadata": {},
     "output_type": "execute_result"
    }
   ],
   "source": [
    "packages = pd.read_csv('../../data/for_analysis/installed_packages.csv',\n",
    "                      usecols=['package'], dtype=object)\n",
    "packages.shape"
   ]
  },
  {
   "cell_type": "code",
   "execution_count": 6,
   "metadata": {},
   "outputs": [
    {
     "data": {
      "text/plain": [
       "(203808, 4)"
      ]
     },
     "execution_count": 6,
     "metadata": {},
     "output_type": "execute_result"
    }
   ],
   "source": [
    "mask = debian_packages.package.isin(packages.package)\n",
    "debian_packages = debian_packages[mask]\n",
    "debian_packages.shape"
   ]
  },
  {
   "cell_type": "code",
   "execution_count": 7,
   "metadata": {},
   "outputs": [],
   "source": [
    "debian_packages = debian_packages.query('archive != \"bullseye\"').copy()\n",
    "release_map={'jessie':'Oldstable',\n",
    "             'stretch':'Stable',\n",
    "             'buster':'Testing'}\n",
    "type_map={'o':'official',\n",
    "          'c':'community'}\n",
    "debian_packages = debian_packages.replace({'archive': release_map})"
   ]
  },
  {
   "cell_type": "code",
   "execution_count": null,
   "metadata": {},
   "outputs": [],
   "source": [
    "debian_packages.sort_values('date', inplace=True)"
   ]
  },
  {
   "cell_type": "markdown",
   "metadata": {},
   "source": [
    "## We check the time needed before a new package version is released"
   ]
  },
  {
   "cell_type": "code",
   "execution_count": 9,
   "metadata": {},
   "outputs": [],
   "source": [
    "df_new = (debian_packages\n",
    "          .drop('version', axis=1)\n",
    "          .rename(columns={'date':'latest',})\n",
    "          .groupby(['package','archive',])\n",
    "          .last()\n",
    "          .merge(debian_packages\n",
    "                 .drop('version', axis=1)\n",
    "                 .rename(columns={'date':'first'})\n",
    "                 .groupby(['package','archive'])\n",
    "                 .first(),\n",
    "                left_index=True,\n",
    "                right_index = True,\n",
    "                how='left')\n",
    "          .merge(debian_packages\n",
    "                 .drop('date', axis=1)\n",
    "                 .groupby(['package','archive'])\n",
    "                 .count(),\n",
    "                left_index=True,\n",
    "                right_index = True,\n",
    "                how='left')\n",
    "          .reset_index()\n",
    "         )"
   ]
  },
  {
   "cell_type": "code",
   "execution_count": 10,
   "metadata": {},
   "outputs": [],
   "source": [
    "for x in ['first','latest']:\n",
    "    df_new[x] = pd.to_datetime(df_new[x])"
   ]
  },
  {
   "cell_type": "code",
   "execution_count": 11,
   "metadata": {},
   "outputs": [],
   "source": [
    "df_new['days'] = df_new.apply(lambda d: (d['latest'] - d['first']).days, axis=1)"
   ]
  },
  {
   "cell_type": "code",
   "execution_count": 12,
   "metadata": {},
   "outputs": [],
   "source": [
    "df_new['frequence'] = df_new['days']/df_new['version']"
   ]
  },
  {
   "cell_type": "code",
   "execution_count": 13,
   "metadata": {},
   "outputs": [
    {
     "data": {
      "text/plain": [
       "([<matplotlib.axis.YTick at 0x7fece0f51400>,\n",
       "  <matplotlib.axis.YTick at 0x7fece0f51f60>,\n",
       "  <matplotlib.axis.YTick at 0x7fece0f639b0>,\n",
       "  <matplotlib.axis.YTick at 0x7fece0fa29e8>,\n",
       "  <matplotlib.axis.YTick at 0x7fece0fa24a8>,\n",
       "  <matplotlib.axis.YTick at 0x7fece0f9f6a0>],\n",
       " <a list of 6 Text yticklabel objects>)"
      ]
     },
     "execution_count": 13,
     "metadata": {},
     "output_type": "execute_result"
    },
    {
     "data": {
      "image/png": "[encoded data removed]",
      "text/plain": [
       "<Figure size 648x216 with 1 Axes>"
      ]
     },
     "metadata": {},
     "output_type": "display_data"
    }
   ],
   "source": [
    "fig, axes = plt.subplots(1, 1, sharex=True, sharey=True)\n",
    "fig.set_size_inches(9,3)\n",
    "order = ['Oldstable','Stable','Testing']\n",
    "ax = sns.boxplot(x=\"archive\", \n",
    "                 y=\"frequence\", \n",
    "                 order = order,\n",
    "                 data=df_new, \n",
    "                 palette=[colors[r] for r in order] , \n",
    "                 linewidth=1,\n",
    "                 showfliers= False)\n",
    "ax.set(\n",
    "    xlabel='Debian distribution',\n",
    "    ylabel='frequency in days',\n",
    "    ylim=(0,299)\n",
    ")\n",
    "plt.yticks(pd.np.arange(0, 300, 50))"
   ]
  },
  {
   "cell_type": "markdown",
   "metadata": {},
   "source": [
    "## We check when \"latest\" package version were released"
   ]
  },
  {
   "cell_type": "code",
   "execution_count": 14,
   "metadata": {},
   "outputs": [
    {
     "data": {
      "text/plain": [
       "(954495, 4)"
      ]
     },
     "execution_count": 14,
     "metadata": {},
     "output_type": "execute_result"
    }
   ],
   "source": [
    "debian_packages = pd.read_csv('../../data/prepared_data/debian_packages.csv',\n",
    "                             usecols=['package','version','archive','date'])\n",
    "debian_packages.drop_duplicates(inplace=True)\n",
    "for col in debian_packages.columns:\n",
    "    debian_packages[col] = debian_packages[col].apply(str)\n",
    "debian_packages.shape"
   ]
  },
  {
   "cell_type": "code",
   "execution_count": 15,
   "metadata": {},
   "outputs": [],
   "source": [
    "\n",
    "debian_packages = debian_packages.query('archive != \"bullseye\"').copy()\n",
    "release_map={'jessie':'Oldstable',\n",
    "             'stretch':'Stable',\n",
    "             'buster':'Testing'}\n",
    "type_map={'o':'official',\n",
    "          'c':'community'}\n",
    "debian_packages = debian_packages.replace({'archive': release_map})"
   ]
  },
  {
   "cell_type": "code",
   "execution_count": 16,
   "metadata": {},
   "outputs": [],
   "source": [
    "debian_packages.sort_values('date', inplace=True)"
   ]
  },
  {
   "cell_type": "code",
   "execution_count": 17,
   "metadata": {},
   "outputs": [
    {
     "data": {
      "text/plain": [
       "<matplotlib.collections.LineCollection at 0x7fece16aaeb8>"
      ]
     },
     "execution_count": 17,
     "metadata": {},
     "output_type": "execute_result"
    },
    {
     "data": {
      "image/png": "[encoded data removed]",
      "text/plain": [
       "<Figure size 648x216 with 1 Axes>"
      ]
     },
     "metadata": {},
     "output_type": "display_data"
    }
   ],
   "source": [
    "dff = (debian_packages\n",
    "            .drop('version', axis=1)\n",
    "            .rename(columns={'date':'latest',})\n",
    "            .groupby(['package','archive',])\n",
    "            .last()\n",
    "            .reset_index()\n",
    "            .groupby(['latest','archive'])\n",
    "            .count()\n",
    "            .loc[:,['package']]\n",
    "            .reset_index())\n",
    "\n",
    "dff=(dff.\n",
    "    pivot(index='latest', columns='archive', values='package').\n",
    "    fillna(0).\n",
    "    reset_index())\n",
    "dff['latest'] = pd.to_datetime(dff['latest'])\n",
    "\n",
    "dff.set_index('latest', inplace=True)\n",
    "for x in dff:\n",
    "    dff[x]=dff[x].cumsum()\n",
    "    maxx=dff[x].values.max()\n",
    "    dff[x]=dff[x]*100/maxx\n",
    "ax=dff.plot( color=[colors[r] for r in order])#, ax=axes[int(i/2)][j], label=type)    \n",
    "ax.hlines(90, pd.to_datetime('2013-05-01'), pd.to_datetime('2019-09-01'), colors='black', linestyles='dashed', alpha=1)\n",
    "\n",
    "ax.set_ylim(0,)\n",
    "ax.set_ylabel('proportion of \\npackage releases')\n",
    "ax.set_xlabel('first time seen in Debian')\n",
    "ax.figure.set_size_inches(9,3)\n",
    "plt.tick_params(axis='both', which='major', labelsize=16, width=1)\n",
    "plt.legend(bbox_to_anchor=(0.93, 1.28), ncol=3, prop={'size': 18})\n",
    "plt.yticks(pd.np.arange(0, 101, 20))\n",
    "ax.vlines(pd.to_datetime('2017-05-01'), 0,100, colors='orange', linestyles='dashed', alpha=1)\n",
    "ax.vlines(pd.to_datetime('2019-03-01'), 0,100, colors='orange', linestyles='dashed', alpha=1)\n"
   ]
  },
  {
   "cell_type": "markdown",
   "metadata": {},
   "source": [
    "# Let's check how many Dockerfiles make use of the command \"apt upgrade\""
   ]
  },
  {
   "cell_type": "code",
   "execution_count": 2,
   "metadata": {},
   "outputs": [],
   "source": [
    "commands = pd.read_csv('../../data/for_analysis/commands_all_images.csv')\n",
    "commands.dropna(inplace=True)"
   ]
  },
  {
   "cell_type": "code",
   "execution_count": 11,
   "metadata": {},
   "outputs": [
    {
     "name": "stdout",
     "output_type": "stream",
     "text": [
      "6507 which means a proportion of 6.2 of all images\n"
     ]
    }
   ],
   "source": [
    "s = (commands[commands.command.str.contains('apt upgrade')].image.unique().tolist()\n",
    "     + commands[commands.command.str.contains('apt-get upgrade')].image.unique().tolist()\n",
    "     + commands[commands.command.str.contains('apt-get -y upgrade')].image.unique().tolist()\n",
    "     + commands[commands.command.str.contains('apt -y upgrade')].image.unique().tolist())\n",
    "print(len(set(s)),'which means a proportion of', '{:.1f}'.format(len(set(s))*100/commands.image.unique().size),'of all images')"
   ]
  }
 ],
 "metadata": {
  "kernelspec": {
   "display_name": "Python 3",
   "language": "python",
   "name": "python3"
  },
  "language_info": {
   "codemirror_mode": {
    "name": "ipython",
    "version": 3
   },
   "file_extension": ".py",
   "mimetype": "text/x-python",
   "name": "python",
   "nbconvert_exporter": "python",
   "pygments_lexer": "ipython3",
   "version": "3.6.8"
  }
 },
 "nbformat": 4,
 "nbformat_minor": 2
}
