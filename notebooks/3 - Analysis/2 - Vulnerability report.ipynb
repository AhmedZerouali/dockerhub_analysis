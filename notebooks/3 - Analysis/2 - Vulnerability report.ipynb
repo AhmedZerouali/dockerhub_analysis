{
 "cells": [
  {
   "cell_type": "code",
   "execution_count": 1,
   "metadata": {},
   "outputs": [],
   "source": [
    "%matplotlib inline\n",
    "from imports import *\n",
    "font = {'family' : 'Times New Roman',\n",
    "        'weight' : 'bold',\n",
    "        'size'   : 16}\n",
    "plt.rc('font', **font)\n",
    "minorLocator   = MultipleLocator(2)"
   ]
  },
  {
   "cell_type": "markdown",
   "metadata": {},
   "source": [
    "# Load installed sources"
   ]
  },
  {
   "cell_type": "code",
   "execution_count": 2,
   "metadata": {},
   "outputs": [
    {
     "data": {
      "text/plain": [
       "(46272487, 6)"
      ]
     },
     "execution_count": 2,
     "metadata": {},
     "output_type": "execute_result"
    }
   ],
   "source": [
    "sources = pd.read_csv('../../data/for_analysis/installed_packages.csv',\n",
    "                      usecols=['image','source','source_version','release','last_updated','type'], dtype=object)\n",
    "sources.shape"
   ]
  },
  {
   "cell_type": "code",
   "execution_count": 3,
   "metadata": {},
   "outputs": [
    {
     "data": {
      "text/plain": [
       "(25953301, 6)"
      ]
     },
     "execution_count": 3,
     "metadata": {},
     "output_type": "execute_result"
    }
   ],
   "source": [
    "sources.drop_duplicates(inplace=True)\n",
    "sources.shape"
   ]
  },
  {
   "cell_type": "markdown",
   "metadata": {},
   "source": [
    "# Vulnerability report"
   ]
  },
  {
   "cell_type": "code",
   "execution_count": 4,
   "metadata": {},
   "outputs": [
    {
     "data": {
      "text/plain": [
       "(1222801, 10)"
      ]
     },
     "execution_count": 4,
     "metadata": {},
     "output_type": "execute_result"
    }
   ],
   "source": [
    "vuls = pd.read_csv('../../data/for_analysis/vb_lag_ideal.csv',\n",
    "                      usecols=['source',\n",
    "                               'source_version',\n",
    "                               'archive',\n",
    "                               'last_updated',\n",
    "                               'High','Low','Medium',\n",
    "                               'l_High','l_Low','l_Medium'])\n",
    "vuls.shape"
   ]
  },
  {
   "cell_type": "code",
   "execution_count": 5,
   "metadata": {},
   "outputs": [
    {
     "data": {
      "text/plain": [
       "(25953301, 12)"
      ]
     },
     "execution_count": 5,
     "metadata": {},
     "output_type": "execute_result"
    }
   ],
   "source": [
    "sources = (sources\n",
    "        .merge(vuls\n",
    "               .rename(columns={'archive':'release'}),\n",
    "               on = ['source','source_version','last_updated','release'],\n",
    "               how = 'left')\n",
    "       )\n",
    "sources.shape"
   ]
  },
  {
   "cell_type": "code",
   "execution_count": 6,
   "metadata": {},
   "outputs": [],
   "source": [
    "sources.replace({'type': type_map}, inplace=True)\n",
    "sources.replace({'release': release_map}, inplace=True)"
   ]
  },
  {
   "cell_type": "code",
   "execution_count": 7,
   "metadata": {},
   "outputs": [],
   "source": [
    "sources.drop(['source','source_version'], axis=1, inplace=True)"
   ]
  },
  {
   "cell_type": "code",
   "execution_count": 8,
   "metadata": {},
   "outputs": [],
   "source": [
    "sources.fillna(0, inplace=True)"
   ]
  },
  {
   "cell_type": "code",
   "execution_count": 9,
   "metadata": {},
   "outputs": [],
   "source": [
    "sources = sources.groupby(['image','release','type','last_updated']).agg(sum).reset_index()"
   ]
  },
  {
   "cell_type": "code",
   "execution_count": 10,
   "metadata": {},
   "outputs": [
    {
     "data": {
      "text/html": [
       "<div>\n",
       "<style scoped>\n",
       "    .dataframe tbody tr th:only-of-type {\n",
       "        vertical-align: middle;\n",
       "    }\n",
       "\n",
       "    .dataframe tbody tr th {\n",
       "        vertical-align: top;\n",
       "    }\n",
       "\n",
       "    .dataframe thead th {\n",
       "        text-align: right;\n",
       "    }\n",
       "</style>\n",
       "<table border=\"1\" class=\"dataframe\">\n",
       "  <thead>\n",
       "    <tr style=\"text-align: right;\">\n",
       "      <th></th>\n",
       "      <th>image</th>\n",
       "      <th>release</th>\n",
       "      <th>type</th>\n",
       "      <th>last_updated</th>\n",
       "      <th>High</th>\n",
       "      <th>Low</th>\n",
       "      <th>Medium</th>\n",
       "      <th>l_High</th>\n",
       "      <th>l_Low</th>\n",
       "      <th>l_Medium</th>\n",
       "    </tr>\n",
       "  </thead>\n",
       "  <tbody>\n",
       "    <tr>\n",
       "      <td>0</td>\n",
       "      <td>010309:mmmiddleware:0.9.25</td>\n",
       "      <td>Stable</td>\n",
       "      <td>community</td>\n",
       "      <td>2017-11-01</td>\n",
       "      <td>26.0</td>\n",
       "      <td>36.0</td>\n",
       "      <td>48.0</td>\n",
       "      <td>26.0</td>\n",
       "      <td>36.0</td>\n",
       "      <td>48.0</td>\n",
       "    </tr>\n",
       "    <tr>\n",
       "      <td>1</td>\n",
       "      <td>010309:mmmiddleware:0.9.26</td>\n",
       "      <td>Stable</td>\n",
       "      <td>community</td>\n",
       "      <td>2017-11-12</td>\n",
       "      <td>26.0</td>\n",
       "      <td>31.0</td>\n",
       "      <td>40.0</td>\n",
       "      <td>26.0</td>\n",
       "      <td>31.0</td>\n",
       "      <td>40.0</td>\n",
       "    </tr>\n",
       "  </tbody>\n",
       "</table>\n",
       "</div>"
      ],
      "text/plain": [
       "                        image release       type last_updated  High   Low  \\\n",
       "0  010309:mmmiddleware:0.9.25  Stable  community   2017-11-01  26.0  36.0   \n",
       "1  010309:mmmiddleware:0.9.26  Stable  community   2017-11-12  26.0  31.0   \n",
       "\n",
       "   Medium  l_High  l_Low  l_Medium  \n",
       "0    48.0    26.0   36.0      48.0  \n",
       "1    40.0    26.0   31.0      40.0  "
      ]
     },
     "execution_count": 10,
     "metadata": {},
     "output_type": "execute_result"
    }
   ],
   "source": [
    "sources.head(2)"
   ]
  },
  {
   "cell_type": "code",
   "execution_count": 11,
   "metadata": {},
   "outputs": [
    {
     "data": {
      "text/plain": [
       "(140498, 12)"
      ]
     },
     "execution_count": 11,
     "metadata": {},
     "output_type": "execute_result"
    }
   ],
   "source": [
    "image_vuls = (sources\n",
    "              .assign(cve= lambda d: d['High'] + d['Low'] + d['Medium'])\n",
    "              .assign(l_cve= lambda d: d['l_High'] + d['l_Low'] + d['l_Medium'])\n",
    "            )\n",
    "image_vuls.shape"
   ]
  },
  {
   "cell_type": "code",
   "execution_count": 12,
   "metadata": {},
   "outputs": [
    {
     "data": {
      "text/html": [
       "<div>\n",
       "<style scoped>\n",
       "    .dataframe tbody tr th:only-of-type {\n",
       "        vertical-align: middle;\n",
       "    }\n",
       "\n",
       "    .dataframe tbody tr th {\n",
       "        vertical-align: top;\n",
       "    }\n",
       "\n",
       "    .dataframe thead th {\n",
       "        text-align: right;\n",
       "    }\n",
       "</style>\n",
       "<table border=\"1\" class=\"dataframe\">\n",
       "  <thead>\n",
       "    <tr style=\"text-align: right;\">\n",
       "      <th></th>\n",
       "      <th>image</th>\n",
       "      <th>release</th>\n",
       "      <th>type</th>\n",
       "      <th>last_updated</th>\n",
       "      <th>High</th>\n",
       "      <th>Low</th>\n",
       "      <th>Medium</th>\n",
       "      <th>l_High</th>\n",
       "      <th>l_Low</th>\n",
       "      <th>l_Medium</th>\n",
       "      <th>cve</th>\n",
       "      <th>l_cve</th>\n",
       "    </tr>\n",
       "  </thead>\n",
       "  <tbody>\n",
       "    <tr>\n",
       "      <td>0</td>\n",
       "      <td>010309:mmmiddleware:0.9.25</td>\n",
       "      <td>Stable</td>\n",
       "      <td>community</td>\n",
       "      <td>2017-11-01</td>\n",
       "      <td>26.0</td>\n",
       "      <td>36.0</td>\n",
       "      <td>48.0</td>\n",
       "      <td>26.0</td>\n",
       "      <td>36.0</td>\n",
       "      <td>48.0</td>\n",
       "      <td>110.0</td>\n",
       "      <td>110.0</td>\n",
       "    </tr>\n",
       "    <tr>\n",
       "      <td>1</td>\n",
       "      <td>010309:mmmiddleware:0.9.26</td>\n",
       "      <td>Stable</td>\n",
       "      <td>community</td>\n",
       "      <td>2017-11-12</td>\n",
       "      <td>26.0</td>\n",
       "      <td>31.0</td>\n",
       "      <td>40.0</td>\n",
       "      <td>26.0</td>\n",
       "      <td>31.0</td>\n",
       "      <td>40.0</td>\n",
       "      <td>97.0</td>\n",
       "      <td>97.0</td>\n",
       "    </tr>\n",
       "  </tbody>\n",
       "</table>\n",
       "</div>"
      ],
      "text/plain": [
       "                        image release       type last_updated  High   Low  \\\n",
       "0  010309:mmmiddleware:0.9.25  Stable  community   2017-11-01  26.0  36.0   \n",
       "1  010309:mmmiddleware:0.9.26  Stable  community   2017-11-12  26.0  31.0   \n",
       "\n",
       "   Medium  l_High  l_Low  l_Medium    cve  l_cve  \n",
       "0    48.0    26.0   36.0      48.0  110.0  110.0  \n",
       "1    40.0    26.0   31.0      40.0   97.0   97.0  "
      ]
     },
     "execution_count": 12,
     "metadata": {},
     "output_type": "execute_result"
    }
   ],
   "source": [
    "image_vuls.head(2)"
   ]
  },
  {
   "cell_type": "code",
   "execution_count": 13,
   "metadata": {},
   "outputs": [
    {
     "name": "stdout",
     "output_type": "stream",
     "text": [
      "Oldstable official\n",
      "482.39286871961104 519.0 1424.0\n",
      "Oldstable community\n",
      "743.2558073115003 796.0 1858.0\n",
      "Stable official\n",
      "345.3784520348837 308.0 1480.0\n",
      "Stable community\n",
      "485.03522916832156 501.0 2157.0\n",
      "Testing official\n",
      "133.06612685560054 144.0 658.0\n",
      "Testing community\n",
      "211.59377007064867 174.0 1055.0\n"
     ]
    }
   ],
   "source": [
    "for x in ['Oldstable','Stable','Testing']:\n",
    "    for t in ['official', 'community']:\n",
    "        print(x, t)\n",
    "        print(image_vuls.query('type ==\"'+t+'\" and release==\"'+x+'\"').cve.mean(),\n",
    "              image_vuls.query('type ==\"'+t+'\" and release==\"'+x+'\"').cve.median(),\n",
    "              image_vuls.query('type ==\"'+t+'\" and release==\"'+x+'\"').cve.max())"
   ]
  },
  {
   "cell_type": "code",
   "execution_count": 14,
   "metadata": {},
   "outputs": [
    {
     "name": "stdout",
     "output_type": "stream",
     "text": [
      "official\n",
      "373.82068595927115 315.0 1480.0\n",
      "community\n",
      "581.935754147353 567.0 2157.0\n"
     ]
    }
   ],
   "source": [
    "for t in ['official', 'community']:\n",
    "    print(t)\n",
    "    print(image_vuls.query('type ==\"'+t+'\"').cve.mean(),\n",
    "          image_vuls.query('type ==\"'+t+'\"').cve.median(),\n",
    "          image_vuls.query('type ==\"'+t+'\"').cve.max())"
   ]
  },
  {
   "cell_type": "code",
   "execution_count": 17,
   "metadata": {},
   "outputs": [
    {
     "name": "stdout",
     "output_type": "stream",
     "text": [
      "568.1155318936925 556.0\n"
     ]
    }
   ],
   "source": [
    "print(image_vuls.cve.mean(),\n",
    "      image_vuls.cve.median())"
   ]
  },
  {
   "cell_type": "code",
   "execution_count": 39,
   "metadata": {},
   "outputs": [
    {
     "name": "stdout",
     "output_type": "stream",
     "text": [
      "Testing MannwhitneyuResult(statistic=361208133.5, pvalue=0.0)\n"
     ]
    }
   ],
   "source": [
    "# Mann-whitney u test\n",
    "print(x,scipy.stats.mannwhitneyu(image_vuls.query('type==\"official\"').cve, \n",
    "        image_vuls.query('type==\"community\"').cve,  alternative=\"less\"))"
   ]
  },
  {
   "cell_type": "code",
   "execution_count": 37,
   "metadata": {},
   "outputs": [
    {
     "name": "stdout",
     "output_type": "stream",
     "text": [
      "Testing MannwhitneyuResult(statistic=862589306.5, pvalue=0.0)\n"
     ]
    }
   ],
   "source": [
    "# Mann-whitney u test\n",
    "print(x,scipy.stats.mannwhitneyu(image_vuls.query('type==\"community\"').cve, \n",
    "        image_vuls.query('type==\"official\"').cve,  alternative=\"greater\"))"
   ]
  },
  {
   "cell_type": "code",
   "execution_count": 21,
   "metadata": {},
   "outputs": [
    {
     "name": "stdout",
     "output_type": "stream",
     "text": [
      "['Oldstable', 'Stable'] MannwhitneyuResult(statistic=1116813542.5, pvalue=0.0)\n",
      "['Oldstable', 'Testing'] MannwhitneyuResult(statistic=16809904.0, pvalue=0.0)\n",
      "['Stable', 'Testing'] MannwhitneyuResult(statistic=49918766.5, pvalue=0.0)\n"
     ]
    }
   ],
   "source": [
    "# Mann-whitney u test\n",
    "for x in [['Oldstable','Stable'], ['Oldstable','Testing'], ['Stable','Testing']]:\n",
    "    print(x,scipy.stats.mannwhitneyu(image_vuls.query('release==\"'+x[0]+'\"').cve, \n",
    "            image_vuls.query('release==\"'+x[1]+'\"').cve))"
   ]
  },
  {
   "cell_type": "code",
   "execution_count": 22,
   "metadata": {},
   "outputs": [
    {
     "name": "stdout",
     "output_type": "stream",
     "text": [
      "d=0.5043123393668616\n",
      "['Oldstable', 'Stable'] True\n",
      "d=0.8431599394049024\n",
      "['Oldstable', 'Testing'] True\n",
      "d=0.6804191522902148\n",
      "['Stable', 'Testing'] True\n"
     ]
    }
   ],
   "source": [
    "# Mann-whitney u test\n",
    "for x in [['Oldstable','Stable'], ['Oldstable','Testing'], ['Stable','Testing']]:\n",
    "    print(x,effect_size.cliffsDelta(image_vuls.query('release==\"'+x[0]+'\"').cve, \n",
    "            image_vuls.query('release==\"'+x[1]+'\"').cve))"
   ]
  },
  {
   "cell_type": "code",
   "execution_count": 20,
   "metadata": {},
   "outputs": [],
   "source": [
    "image_vuls['slug']=image_vuls['image'].apply(lambda x: x.split(':')[0]+':'+x.split(':')[1])"
   ]
  },
  {
   "cell_type": "code",
   "execution_count": 73,
   "metadata": {},
   "outputs": [
    {
     "data": {
      "text/html": [
       "<div>\n",
       "<style scoped>\n",
       "    .dataframe tbody tr th:only-of-type {\n",
       "        vertical-align: middle;\n",
       "    }\n",
       "\n",
       "    .dataframe tbody tr th {\n",
       "        vertical-align: top;\n",
       "    }\n",
       "\n",
       "    .dataframe thead th {\n",
       "        text-align: right;\n",
       "    }\n",
       "</style>\n",
       "<table border=\"1\" class=\"dataframe\">\n",
       "  <thead>\n",
       "    <tr style=\"text-align: right;\">\n",
       "      <th></th>\n",
       "      <th>image</th>\n",
       "      <th>cve</th>\n",
       "      <th>last_updated</th>\n",
       "      <th>date</th>\n",
       "    </tr>\n",
       "    <tr>\n",
       "      <th>slug</th>\n",
       "      <th></th>\n",
       "      <th></th>\n",
       "      <th></th>\n",
       "      <th></th>\n",
       "    </tr>\n",
       "  </thead>\n",
       "  <tbody>\n",
       "    <tr>\n",
       "      <td>library:gcc</td>\n",
       "      <td>library:gcc:7.1</td>\n",
       "      <td>1480.0</td>\n",
       "      <td>2017-07-11</td>\n",
       "      <td>27 days 15:43:14.767350</td>\n",
       "    </tr>\n",
       "    <tr>\n",
       "      <td>library:erlang</td>\n",
       "      <td>library:erlang:19.0.7-onbuild</td>\n",
       "      <td>1424.0</td>\n",
       "      <td>2016-09-15</td>\n",
       "      <td>37 days 14:55:14.767350</td>\n",
       "    </tr>\n",
       "    <tr>\n",
       "      <td>library:node</td>\n",
       "      <td>library:node:5-onbuild</td>\n",
       "      <td>1423.0</td>\n",
       "      <td>2016-09-16</td>\n",
       "      <td>37 days 14:07:14.767350</td>\n",
       "    </tr>\n",
       "    <tr>\n",
       "      <td>library:pypy</td>\n",
       "      <td>library:pypy:2-5.4.0</td>\n",
       "      <td>1399.0</td>\n",
       "      <td>2016-08-31</td>\n",
       "      <td>38 days 02:55:14.767350</td>\n",
       "    </tr>\n",
       "    <tr>\n",
       "      <td>library:rails</td>\n",
       "      <td>library:rails:5.0</td>\n",
       "      <td>1333.0</td>\n",
       "      <td>2017-01-06</td>\n",
       "      <td>33 days 20:31:14.767350</td>\n",
       "    </tr>\n",
       "  </tbody>\n",
       "</table>\n",
       "</div>"
      ],
      "text/plain": [
       "                                        image     cve last_updated  \\\n",
       "slug                                                                 \n",
       "library:gcc                   library:gcc:7.1  1480.0   2017-07-11   \n",
       "library:erlang  library:erlang:19.0.7-onbuild  1424.0   2016-09-15   \n",
       "library:node           library:node:5-onbuild  1423.0   2016-09-16   \n",
       "library:pypy             library:pypy:2-5.4.0  1399.0   2016-08-31   \n",
       "library:rails               library:rails:5.0  1333.0   2017-01-06   \n",
       "\n",
       "                                  date  \n",
       "slug                                    \n",
       "library:gcc    27 days 15:43:14.767350  \n",
       "library:erlang 37 days 14:55:14.767350  \n",
       "library:node   37 days 14:07:14.767350  \n",
       "library:pypy   38 days 02:55:14.767350  \n",
       "library:rails  33 days 20:31:14.767350  "
      ]
     },
     "execution_count": 73,
     "metadata": {},
     "output_type": "execute_result"
    }
   ],
   "source": [
    "img_off = (image_vuls.query('type==\"official\"')\n",
    "           .sort_values('cve',ascending=False)\n",
    "           .groupby('slug')\n",
    "           .first()\n",
    "           .sort_values('cve',ascending=False)[['image','cve','last_updated']]\n",
    "           .head(5))\n",
    "img_off.assign(date = lambda d: (pd.to_datetime('today') - d['last_updated'])/30)"
   ]
  },
  {
   "cell_type": "code",
   "execution_count": 74,
   "metadata": {},
   "outputs": [
    {
     "data": {
      "text/html": [
       "<div>\n",
       "<style scoped>\n",
       "    .dataframe tbody tr th:only-of-type {\n",
       "        vertical-align: middle;\n",
       "    }\n",
       "\n",
       "    .dataframe tbody tr th {\n",
       "        vertical-align: top;\n",
       "    }\n",
       "\n",
       "    .dataframe thead th {\n",
       "        text-align: right;\n",
       "    }\n",
       "</style>\n",
       "<table border=\"1\" class=\"dataframe\">\n",
       "  <thead>\n",
       "    <tr style=\"text-align: right;\">\n",
       "      <th></th>\n",
       "      <th>image</th>\n",
       "      <th>cve</th>\n",
       "      <th>last_updated</th>\n",
       "      <th>date</th>\n",
       "    </tr>\n",
       "    <tr>\n",
       "      <th>slug</th>\n",
       "      <th></th>\n",
       "      <th></th>\n",
       "      <th></th>\n",
       "      <th></th>\n",
       "    </tr>\n",
       "  </thead>\n",
       "  <tbody>\n",
       "    <tr>\n",
       "      <td>surround:ws-master</td>\n",
       "      <td>surround:ws-master:bafb71750c31fb43cd2ad9d24ea...</td>\n",
       "      <td>2157.0</td>\n",
       "      <td>2017-06-23</td>\n",
       "      <td>28 days 06:07:15.029600</td>\n",
       "    </tr>\n",
       "    <tr>\n",
       "      <td>rocker:ropensci</td>\n",
       "      <td>rocker:ropensci:3.4.1</td>\n",
       "      <td>2060.0</td>\n",
       "      <td>2017-09-08</td>\n",
       "      <td>25 days 16:31:15.029600</td>\n",
       "    </tr>\n",
       "    <tr>\n",
       "      <td>smartpension:sp-base</td>\n",
       "      <td>smartpension:sp-base:v8withcache</td>\n",
       "      <td>1981.0</td>\n",
       "      <td>2017-08-07</td>\n",
       "      <td>26 days 18:07:15.029600</td>\n",
       "    </tr>\n",
       "    <tr>\n",
       "      <td>aldryn:base-project</td>\n",
       "      <td>aldryn:base-project:3.23</td>\n",
       "      <td>1858.0</td>\n",
       "      <td>2017-03-15</td>\n",
       "      <td>31 days 14:07:15.029600</td>\n",
       "    </tr>\n",
       "    <tr>\n",
       "      <td>micheee:maven-jdk-nodejs-bower-grunt</td>\n",
       "      <td>micheee:maven-jdk-nodejs-bower-grunt:latest</td>\n",
       "      <td>1791.0</td>\n",
       "      <td>2016-09-14</td>\n",
       "      <td>37 days 15:43:15.029600</td>\n",
       "    </tr>\n",
       "  </tbody>\n",
       "</table>\n",
       "</div>"
      ],
      "text/plain": [
       "                                                                                  image  \\\n",
       "slug                                                                                      \n",
       "surround:ws-master                    surround:ws-master:bafb71750c31fb43cd2ad9d24ea...   \n",
       "rocker:ropensci                                                   rocker:ropensci:3.4.1   \n",
       "smartpension:sp-base                                   smartpension:sp-base:v8withcache   \n",
       "aldryn:base-project                                            aldryn:base-project:3.23   \n",
       "micheee:maven-jdk-nodejs-bower-grunt        micheee:maven-jdk-nodejs-bower-grunt:latest   \n",
       "\n",
       "                                         cve last_updated  \\\n",
       "slug                                                        \n",
       "surround:ws-master                    2157.0   2017-06-23   \n",
       "rocker:ropensci                       2060.0   2017-09-08   \n",
       "smartpension:sp-base                  1981.0   2017-08-07   \n",
       "aldryn:base-project                   1858.0   2017-03-15   \n",
       "micheee:maven-jdk-nodejs-bower-grunt  1791.0   2016-09-14   \n",
       "\n",
       "                                                        date  \n",
       "slug                                                          \n",
       "surround:ws-master                   28 days 06:07:15.029600  \n",
       "rocker:ropensci                      25 days 16:31:15.029600  \n",
       "smartpension:sp-base                 26 days 18:07:15.029600  \n",
       "aldryn:base-project                  31 days 14:07:15.029600  \n",
       "micheee:maven-jdk-nodejs-bower-grunt 37 days 15:43:15.029600  "
      ]
     },
     "execution_count": 74,
     "metadata": {},
     "output_type": "execute_result"
    }
   ],
   "source": [
    "img_com = (image_vuls.query('type==\"community\"')\n",
    "           .sort_values('cve',ascending=False)\n",
    "           .groupby('slug')\n",
    "           .first()\n",
    "           .sort_values('cve',ascending=False)[['image','cve','last_updated']]\n",
    "           .head(5))\n",
    "img_com.assign(date = lambda d: (pd.to_datetime('today') - d['last_updated'])/30)"
   ]
  },
  {
   "cell_type": "code",
   "execution_count": 60,
   "metadata": {},
   "outputs": [],
   "source": [
    "images_pkg = pd.read_csv('../../data/for_analysis/installed_packages.csv',\n",
    "                        usecols=['image','package'])"
   ]
  },
  {
   "cell_type": "code",
   "execution_count": 63,
   "metadata": {},
   "outputs": [
    {
     "data": {
      "text/html": [
       "<div>\n",
       "<style scoped>\n",
       "    .dataframe tbody tr th:only-of-type {\n",
       "        vertical-align: middle;\n",
       "    }\n",
       "\n",
       "    .dataframe tbody tr th {\n",
       "        vertical-align: top;\n",
       "    }\n",
       "\n",
       "    .dataframe thead th {\n",
       "        text-align: right;\n",
       "    }\n",
       "</style>\n",
       "<table border=\"1\" class=\"dataframe\">\n",
       "  <thead>\n",
       "    <tr style=\"text-align: right;\">\n",
       "      <th></th>\n",
       "      <th>package</th>\n",
       "    </tr>\n",
       "    <tr>\n",
       "      <th>image</th>\n",
       "      <th></th>\n",
       "    </tr>\n",
       "  </thead>\n",
       "  <tbody>\n",
       "    <tr>\n",
       "      <td>aldryn:base-project:3.23</td>\n",
       "      <td>563</td>\n",
       "    </tr>\n",
       "    <tr>\n",
       "      <td>library:erlang:19.0.7-onbuild</td>\n",
       "      <td>377</td>\n",
       "    </tr>\n",
       "    <tr>\n",
       "      <td>library:gcc:7.1</td>\n",
       "      <td>404</td>\n",
       "    </tr>\n",
       "    <tr>\n",
       "      <td>library:node:5-onbuild</td>\n",
       "      <td>375</td>\n",
       "    </tr>\n",
       "    <tr>\n",
       "      <td>library:pypy:2-5.4.0</td>\n",
       "      <td>354</td>\n",
       "    </tr>\n",
       "    <tr>\n",
       "      <td>library:rails:5.0</td>\n",
       "      <td>386</td>\n",
       "    </tr>\n",
       "    <tr>\n",
       "      <td>micheee:maven-jdk-nodejs-bower-grunt:latest</td>\n",
       "      <td>530</td>\n",
       "    </tr>\n",
       "    <tr>\n",
       "      <td>rocker:ropensci:3.4.1</td>\n",
       "      <td>790</td>\n",
       "    </tr>\n",
       "    <tr>\n",
       "      <td>smartpension:sp-base:v8withcache</td>\n",
       "      <td>710</td>\n",
       "    </tr>\n",
       "    <tr>\n",
       "      <td>surround:ws-master:bafb71750c31fb43cd2ad9d24ea15fe5990b5305-vlads-e137b982-5855-11e7-b286-3497f65aa61a</td>\n",
       "      <td>1257</td>\n",
       "    </tr>\n",
       "  </tbody>\n",
       "</table>\n",
       "</div>"
      ],
      "text/plain": [
       "                                                    package\n",
       "image                                                      \n",
       "aldryn:base-project:3.23                                563\n",
       "library:erlang:19.0.7-onbuild                           377\n",
       "library:gcc:7.1                                         404\n",
       "library:node:5-onbuild                                  375\n",
       "library:pypy:2-5.4.0                                    354\n",
       "library:rails:5.0                                       386\n",
       "micheee:maven-jdk-nodejs-bower-grunt:latest             530\n",
       "rocker:ropensci:3.4.1                                   790\n",
       "smartpension:sp-base:v8withcache                        710\n",
       "surround:ws-master:bafb71750c31fb43cd2ad9d24ea1...     1257"
      ]
     },
     "execution_count": 63,
     "metadata": {},
     "output_type": "execute_result"
    }
   ],
   "source": [
    "mask = images_pkg.image.isin(pd.concat([img_off, img_com]).image)\n",
    "images_pkg = images_pkg[mask]\n",
    "images_pkg.groupby('image').count()"
   ]
  },
  {
   "cell_type": "markdown",
   "metadata": {},
   "source": [
    "### continue the analysis"
   ]
  },
  {
   "cell_type": "code",
   "execution_count": 21,
   "metadata": {},
   "outputs": [
    {
     "name": "stderr",
     "output_type": "stream",
     "text": [
      "/usr/local/lib/python3.6/dist-packages/ipykernel_launcher.py:2: SettingWithCopyWarning: \n",
      "A value is trying to be set on a copy of a slice from a DataFrame.\n",
      "Try using .loc[row_indexer,col_indexer] = value instead\n",
      "\n",
      "See the caveats in the documentation: http://pandas.pydata.org/pandas-docs/stable/user_guide/indexing.html#returning-a-view-versus-a-copy\n",
      "  \n"
     ]
    }
   ],
   "source": [
    "image_vuls = image_vuls.query('last_updated!= \"None\"')\n",
    "image_vuls['last_updated'] = pd.to_datetime(image_vuls['last_updated'])"
   ]
  },
  {
   "cell_type": "code",
   "execution_count": 21,
   "metadata": {},
   "outputs": [
    {
     "data": {
      "image/png": "[encoded data removed]",
      "text/plain": [
       "<Figure size 864x216 with 2 Axes>"
      ]
     },
     "metadata": {
      "needs_background": "light"
     },
     "output_type": "display_data"
    }
   ],
   "source": [
    "fig, axes = plt.subplots(1, 2, sharex=True, sharey=True)\n",
    "fig.set_size_inches(12,3)\n",
    "for index, genre in enumerate(['official','community']):\n",
    "    size=[12,20,70]\n",
    "    df_=(image_vuls.\n",
    "         query('type==\"{}\"'.format(genre)).\n",
    "         groupby(pd.Grouper(key='last_updated', freq='1q'))['cve'].\n",
    "         describe()[['mean', '25%', '50%', '75%']] \n",
    "        )\n",
    "\n",
    "    df_tmp=df_\n",
    "    df_tmp['50%'].rename('median').plot(ax=axes[index], color=colors[genre])\n",
    "    ax=df_tmp['mean'].plot(ax=axes[index],style=':',color=colors[genre])\n",
    "    ax.fill_between(df_tmp.index, df_tmp['25%'], df_tmp['75%'], alpha=0.2, color=colors[genre])\n",
    "    \n",
    "    ax.set(\n",
    "        xlabel='',\n",
    "        ylabel='number of \\nvulnerabilties',\n",
    "        title=genre)\n",
    "    plt.yticks(pd.np.arange(0, 1500, 200))\n",
    "    ax.xaxis.set_minor_locator(minorLocator)\n",
    "    ax.legend(prop={'size': 16}, ncol=2) #handles=legend_elements, \n",
    "ax.legend('').remove() #handles=legend_elements, "
   ]
  },
  {
   "cell_type": "markdown",
   "metadata": {},
   "source": [
    "# Vulnerabilty Lag"
   ]
  },
  {
   "cell_type": "code",
   "execution_count": 22,
   "metadata": {},
   "outputs": [
    {
     "name": "stderr",
     "output_type": "stream",
     "text": [
      "/usr/local/lib/python3.6/dist-packages/ipykernel_launcher.py:2: SettingWithCopyWarning: \n",
      "A value is trying to be set on a copy of a slice from a DataFrame.\n",
      "Try using .loc[row_indexer,col_indexer] = value instead\n",
      "\n",
      "See the caveats in the documentation: http://pandas.pydata.org/pandas-docs/stable/user_guide/indexing.html#returning-a-view-versus-a-copy\n",
      "  \n"
     ]
    }
   ],
   "source": [
    "# Compute the lag\n",
    "image_vuls['cve_lag'] = image_vuls['cve'] - image_vuls['l_cve']"
   ]
  },
  {
   "cell_type": "code",
   "execution_count": 23,
   "metadata": {},
   "outputs": [
    {
     "data": {
      "image/png": "[encoded data removed]",
      "text/plain": [
       "<Figure size 864x216 with 2 Axes>"
      ]
     },
     "metadata": {
      "needs_background": "light"
     },
     "output_type": "display_data"
    }
   ],
   "source": [
    "fig, axes = plt.subplots(1, 2, sharex=True, sharey=True)\n",
    "fig.set_size_inches(12,3)\n",
    "for index, genre in enumerate(['official','community']):\n",
    "    size=[12,20,70]\n",
    "    df_=(image_vuls.\n",
    "         query('type==\"{}\"'.format(genre)).\n",
    "         groupby(pd.Grouper(key='last_updated', freq='1q'))['cve_lag'].\n",
    "         describe()[['mean', '25%', '50%', '75%']] \n",
    "        )\n",
    "\n",
    "    df_tmp=df_\n",
    "    df_tmp['50%'].rename('median').plot(ax=axes[index], color=colors[genre])\n",
    "    ax=df_tmp['mean'].plot(ax=axes[index],style=':',color=colors[genre])\n",
    "    ax.fill_between(df_tmp.index, df_tmp['25%'], df_tmp['75%'], alpha=0.2, color=colors[genre])\n",
    "    \n",
    "    ax.set(\n",
    "        xlabel='',\n",
    "        ylabel=r'$\\vulnlag(i)$',\n",
    "        title=genre)\n",
    "    ax.xaxis.set_minor_locator(minorLocator)\n",
    "    ax.legend(prop={'size': 16}, ncol=2) #handles=legend_elements, \n",
    "ax.legend('').remove() "
   ]
  },
  {
   "cell_type": "code",
   "execution_count": 28,
   "metadata": {},
   "outputs": [
    {
     "name": "stdout",
     "output_type": "stream",
     "text": [
      "['Stable', 'Testing'] MannwhitneyuResult(statistic=297017600.0, pvalue=0.0)\n"
     ]
    }
   ],
   "source": [
    "# Mann-whitney u test\n",
    "print(scipy.stats.mannwhitneyu(image_vuls.query('type==\"community\"').cve_lag, \n",
    "        image_vuls.query('type==\"official\"').cve_lag))"
   ]
  },
  {
   "cell_type": "code",
   "execution_count": 30,
   "metadata": {},
   "outputs": [
    {
     "name": "stdout",
     "output_type": "stream",
     "text": [
      "d=0.5145893933542466\n",
      "True\n"
     ]
    }
   ],
   "source": [
    "# Mann-whitney u test\n",
    "print(effect_size.cliffsDelta(image_vuls.query('type==\"official\"').cve_lag, \n",
    "        image_vuls.query('type==\"community\"').cve_lag))"
   ]
  },
  {
   "cell_type": "code",
   "execution_count": 24,
   "metadata": {},
   "outputs": [
    {
     "data": {
      "text/plain": [
       "8.0"
      ]
     },
     "execution_count": 24,
     "metadata": {},
     "output_type": "execute_result"
    }
   ],
   "source": [
    "image_vuls.cve_lag.median()"
   ]
  },
  {
   "cell_type": "markdown",
   "metadata": {},
   "source": [
    "## Considering Debian Release"
   ]
  },
  {
   "cell_type": "code",
   "execution_count": 26,
   "metadata": {},
   "outputs": [
    {
     "data": {
      "image/png": "[encoded data removed]",
      "text/plain": [
       "<Figure size 864x216 with 3 Axes>"
      ]
     },
     "metadata": {
      "needs_background": "light"
     },
     "output_type": "display_data"
    }
   ],
   "source": [
    "fig, axes = plt.subplots(1, 3, sharex=True, sharey=True)\n",
    "fig.set_size_inches(12,3)\n",
    "for index, genre in enumerate(['Oldstable','Stable','Testing']):\n",
    "    size=[12,20,70]\n",
    "    df_=(image_vuls.\n",
    "         query('release==\"{}\"'.format(genre)).\n",
    "         groupby(pd.Grouper(key='last_updated', freq='1Q'))['cve_lag'].\n",
    "         describe()[['mean', '25%', '50%', '75%']] \n",
    "        )\n",
    "\n",
    "    df_tmp=df_\n",
    "    df_tmp['50%'].rename('median').plot(ax=axes[index], color=colors[genre])\n",
    "    ax=df_tmp['mean'].plot(ax=axes[index],style=':',color=colors[genre])\n",
    "    ax.fill_between(df_tmp.index, df_tmp['25%'], df_tmp['75%'], alpha=0.2, color=colors[genre])\n",
    "    \n",
    "    ax.set(\n",
    "        xlabel='',\n",
    "        ylabel=r'$\\vulnlag(i)$',\n",
    "        title=genre,\n",
    "        xlim=date_period)\n",
    "    plt.yticks(pd.np.arange(0, 350, 50))\n",
    "    ax.xaxis.set_minor_locator(minorLocator)\n",
    "    if index==1:\n",
    "        ax.legend(loc='upper center', prop={'size': 16}, ncol=1) #handles=legend_elements,\n",
    "    else:\n",
    "        ax.legend('').remove()"
   ]
  },
  {
   "cell_type": "code",
   "execution_count": 31,
   "metadata": {},
   "outputs": [
    {
     "name": "stdout",
     "output_type": "stream",
     "text": [
      "['Oldstable', 'Stable'] MannwhitneyuResult(statistic=1522670195.0, pvalue=0.0)\n",
      "['Oldstable', 'Testing'] MannwhitneyuResult(statistic=61248772.0, pvalue=0.0)\n",
      "['Stable', 'Testing'] MannwhitneyuResult(statistic=140875728.0, pvalue=1.6009026112647537e-26)\n"
     ]
    }
   ],
   "source": [
    "# Mann-whitney u test\n",
    "for x in [['Oldstable','Stable'], ['Oldstable','Testing'], ['Stable','Testing']]:\n",
    "    print(x,scipy.stats.mannwhitneyu(image_vuls.query('release==\"'+x[0]+'\"').cve_lag, \n",
    "            image_vuls.query('release==\"'+x[1]+'\"').cve_lag))"
   ]
  },
  {
   "cell_type": "code",
   "execution_count": 33,
   "metadata": {},
   "outputs": [
    {
     "name": "stdout",
     "output_type": "stream",
     "text": [
      "d=0.32415220030490516\n",
      "['Oldstable', 'Stable'] True\n",
      "d=0.42851508002827066\n",
      "['Oldstable', 'Testing'] True\n",
      "d=0.09811103653827004\n",
      "['Stable', 'Testing'] False\n"
     ]
    }
   ],
   "source": [
    "# Mann-whitney u test\n",
    "for x in [['Oldstable','Stable'], ['Oldstable','Testing'], ['Stable','Testing']]:\n",
    "    print(x,effect_size.cliffsDelta(image_vuls.query('release==\"'+x[0]+'\"').cve_lag, \n",
    "            image_vuls.query('release==\"'+x[1]+'\"').cve_lag))"
   ]
  },
  {
   "cell_type": "code",
   "execution_count": 76,
   "metadata": {},
   "outputs": [],
   "source": [
    "image_vuls['Low'] = image_vuls['Low'] - image_vuls['l_Low']\n",
    "image_vuls['Medium'] = image_vuls['Medium'] - image_vuls['l_Medium']\n",
    "image_vuls['High'] = image_vuls['High'] - image_vuls['l_High']"
   ]
  },
  {
   "cell_type": "code",
   "execution_count": 98,
   "metadata": {},
   "outputs": [
    {
     "name": "stdout",
     "output_type": "stream",
     "text": [
      "Testing 2.0\n",
      "Stable 4.0\n",
      "Oldstable 21.0\n"
     ]
    }
   ],
   "source": [
    "for release in ['Testing','Stable','Oldstable']:\n",
    "    print(release, image_vuls.query('release ==\"{}\"'.format(release)).cve_lag.median())"
   ]
  },
  {
   "cell_type": "code",
   "execution_count": 90,
   "metadata": {},
   "outputs": [
    {
     "name": "stderr",
     "output_type": "stream",
     "text": [
      "/home/neglectos/.local/lib/python3.6/site-packages/pandas/plotting/_matplotlib/core.py:203: UserWarning: 'colors' is being deprecated. Please use 'color'instead of 'colors'\n",
      "  \"'colors' is being deprecated. Please use 'color'\"\n"
     ]
    },
    {
     "data": {
      "image/png": "[encoded data removed]",
      "text/plain": [
       "<Figure size 648x648 with 3 Axes>"
      ]
     },
     "metadata": {},
     "output_type": "display_data"
    }
   ],
   "source": [
    "fig, axes = plt.subplots(3, 1, sharex=True, sharey=True)\n",
    "fig.set_size_inches(9,9)\n",
    "for j, release in enumerate(['Testing','Stable','Oldstable']):\n",
    "    df_=(image_vuls.\n",
    "         query('release ==\"{}\"'.format(release)).\n",
    "         groupby(pd.Grouper(key='last_updated', freq='1Q'))[['Low','Medium','High']].\n",
    "         median()\n",
    "        )\n",
    "    color = colors[release]\n",
    "    \n",
    "    ax=df_.plot(ax=axes[j], colors=[colors[x] for x in ['Low','Medium','High']])\n",
    "\n",
    "    ax.set(\n",
    "        xlabel='',\n",
    "        ylabel='vulnerability\\n lag',\n",
    "        title=release.capitalize(),    \n",
    "        xlim=date_period)\n",
    "    ax.legend(loc='upper right',  prop={'size': 16, 'weight':'bold'})"
   ]
  },
  {
   "cell_type": "markdown",
   "metadata": {},
   "source": [
    "# Merge all lags"
   ]
  },
  {
   "cell_type": "code",
   "execution_count": 93,
   "metadata": {},
   "outputs": [],
   "source": [
    "(image_vuls[['image','release','type','last_updated','cve_lag']]\n",
    " .to_csv('../../data/for_analysis/image_lags.csv', index=False)\n",
    ")"
   ]
  },
  {
   "cell_type": "code",
   "execution_count": null,
   "metadata": {},
   "outputs": [],
   "source": []
  }
 ],
 "metadata": {
  "kernelspec": {
   "display_name": "Python 3",
   "language": "python",
   "name": "python3"
  },
  "language_info": {
   "codemirror_mode": {
    "name": "ipython",
    "version": 3
   },
   "file_extension": ".py",
   "mimetype": "text/x-python",
   "name": "python",
   "nbconvert_exporter": "python",
   "pygments_lexer": "ipython3",
   "version": "3.6.8"
  }
 },
 "nbformat": 4,
 "nbformat_minor": 2
}
