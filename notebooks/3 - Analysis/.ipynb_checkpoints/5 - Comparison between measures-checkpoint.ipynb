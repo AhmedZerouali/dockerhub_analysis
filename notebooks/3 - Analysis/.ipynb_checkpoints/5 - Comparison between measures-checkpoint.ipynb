{
 "cells": [
  {
   "cell_type": "code",
   "execution_count": 21,
   "metadata": {},
   "outputs": [],
   "source": [
    "%matplotlib inline\n",
    "from imports import *\n",
    "font = {'family' : 'Times New Roman',\n",
    "        'weight' : 'bold',\n",
    "        'size'   : 16}\n",
    "plt.rc('font', **font)"
   ]
  },
  {
   "cell_type": "markdown",
   "metadata": {},
   "source": [
    "# Load image lag"
   ]
  },
  {
   "cell_type": "code",
   "execution_count": 2,
   "metadata": {},
   "outputs": [
    {
     "data": {
      "text/plain": [
       "(140496, 10)"
      ]
     },
     "execution_count": 2,
     "metadata": {},
     "output_type": "execute_result"
    }
   ],
   "source": [
    "all_lags = pd.read_csv('../../data/for_analysis/image_lags.csv', dtype=object)\n",
    "all_lags.shape"
   ]
  },
  {
   "cell_type": "code",
   "execution_count": 3,
   "metadata": {},
   "outputs": [
    {
     "data": {
      "text/html": [
       "<div>\n",
       "<style scoped>\n",
       "    .dataframe tbody tr th:only-of-type {\n",
       "        vertical-align: middle;\n",
       "    }\n",
       "\n",
       "    .dataframe tbody tr th {\n",
       "        vertical-align: top;\n",
       "    }\n",
       "\n",
       "    .dataframe thead th {\n",
       "        text-align: right;\n",
       "    }\n",
       "</style>\n",
       "<table border=\"1\" class=\"dataframe\">\n",
       "  <thead>\n",
       "    <tr style=\"text-align: right;\">\n",
       "      <th></th>\n",
       "      <th>image</th>\n",
       "      <th>release</th>\n",
       "      <th>type</th>\n",
       "      <th>last_updated</th>\n",
       "      <th>cve_lag</th>\n",
       "      <th>bug_lag</th>\n",
       "      <th>vlag</th>\n",
       "      <th>tlag</th>\n",
       "      <th>outdated</th>\n",
       "      <th>packages</th>\n",
       "    </tr>\n",
       "  </thead>\n",
       "  <tbody>\n",
       "    <tr>\n",
       "      <td>0</td>\n",
       "      <td>010309:mmmiddleware:0.9.25</td>\n",
       "      <td>Stable</td>\n",
       "      <td>community</td>\n",
       "      <td>2017-11-01</td>\n",
       "      <td>0.0</td>\n",
       "      <td>0.0</td>\n",
       "      <td>0.0</td>\n",
       "      <td>0.0</td>\n",
       "      <td>0.0</td>\n",
       "      <td>82</td>\n",
       "    </tr>\n",
       "    <tr>\n",
       "      <td>1</td>\n",
       "      <td>010309:mmmiddleware:0.9.26</td>\n",
       "      <td>Stable</td>\n",
       "      <td>community</td>\n",
       "      <td>2017-11-12</td>\n",
       "      <td>0.0</td>\n",
       "      <td>0.0</td>\n",
       "      <td>0.0</td>\n",
       "      <td>0.0</td>\n",
       "      <td>0.0</td>\n",
       "      <td>82</td>\n",
       "    </tr>\n",
       "  </tbody>\n",
       "</table>\n",
       "</div>"
      ],
      "text/plain": [
       "                        image release       type last_updated cve_lag bug_lag  \\\n",
       "0  010309:mmmiddleware:0.9.25  Stable  community   2017-11-01     0.0     0.0   \n",
       "1  010309:mmmiddleware:0.9.26  Stable  community   2017-11-12     0.0     0.0   \n",
       "\n",
       "  vlag tlag outdated packages  \n",
       "0  0.0  0.0      0.0       82  \n",
       "1  0.0  0.0      0.0       82  "
      ]
     },
     "execution_count": 3,
     "metadata": {},
     "output_type": "execute_result"
    }
   ],
   "source": [
    "all_lags.head(2)"
   ]
  },
  {
   "cell_type": "code",
   "execution_count": 4,
   "metadata": {},
   "outputs": [],
   "source": [
    "all_lags.rename(columns={'outdated':'pkg',\n",
    "                         'vlag':'vers',\n",
    "                         'tlag':'time',\n",
    "                         'cve_lag':'vuln',\n",
    "                         'bug_lag':'bug'\n",
    "                        }, inplace=True)"
   ]
  },
  {
   "cell_type": "code",
   "execution_count": 5,
   "metadata": {},
   "outputs": [],
   "source": [
    "for x in ['vuln','bug','time','vers','pkg','packages']:\n",
    "    all_lags[x] = all_lags[x].apply(float)"
   ]
  },
  {
   "cell_type": "code",
   "execution_count": 22,
   "metadata": {},
   "outputs": [
    {
     "data": {
      "image/png": "[encoded data removed]",
      "text/plain": [
       "<Figure size 432x288 with 2 Axes>"
      ]
     },
     "metadata": {
      "needs_background": "light"
     },
     "output_type": "display_data"
    }
   ],
   "source": [
    "from matplotlib.colors import LinearSegmentedColormap, BoundaryNorm\n",
    "\n",
    "bounds = [0, 0.3, 0.5, 0.7, 1]\n",
    "labels = ['none', 'weak', 'moderate', 'strong', 'perfect']\n",
    "base = sns.color_palette('RdBu', n_colors=len(bounds) + 1)\n",
    "\n",
    "cmap = LinearSegmentedColormap.from_list('segmented', list(zip(bounds, base)), len(bounds))\n",
    "norm = BoundaryNorm(bounds, ncolors=len(bounds) - 1)\n",
    "\n",
    "corr = (all_lags\n",
    "    [['pkg', 'time', 'vers', 'vuln', 'bug']]\n",
    "    .corr(method=\"pearson\")\n",
    "    [['pkg', 'time', 'vers', 'vuln', 'bug']]\n",
    ")\n",
    "\n",
    "ax = sns.heatmap(\n",
    "    corr, \n",
    "    annot = True, \n",
    "    cmap=cmap, \n",
    "    cbar_kws={'ticks': bounds}, \n",
    "    norm=norm, \n",
    "    vmin=0, \n",
    "    vmax=1\n",
    ")\n",
    "ax.collections[-1].colorbar.set_ticklabels(['{} ({})'.format(a, b) for a,b in zip(bounds, labels)])\n",
    "for label in ax.get_yticklabels():\n",
    "    label.set_verticalalignment('center')"
   ]
  },
  {
   "cell_type": "code",
   "execution_count": 23,
   "metadata": {},
   "outputs": [
    {
     "data": {
      "image/png": "[encoded data removed]",
      "text/plain": [
       "<Figure size 432x288 with 2 Axes>"
      ]
     },
     "metadata": {
      "needs_background": "light"
     },
     "output_type": "display_data"
    }
   ],
   "source": [
    "corr = (all_lags\n",
    " [['pkg','time','vers','vuln','bug']]\n",
    " .corr(method=\"spearman\"))\n",
    "ax=sns.heatmap(corr, annot = True, cmap=\"YlGnBu\", vmin=0, vmax=1)"
   ]
  },
  {
   "cell_type": "code",
   "execution_count": 8,
   "metadata": {},
   "outputs": [
    {
     "name": "stdout",
     "output_type": "stream",
     "text": [
      "correlation with the number of packages\n",
      "vuln (0.18256705396190703, 0.0)\n",
      "bug (0.01704202027291113, 1.678137952857731e-10)\n",
      "time (0.165418945464823, 0.0)\n",
      "vers (0.1543593141295828, 0.0)\n",
      "pkg (0.21266599206798795, 0.0)\n"
     ]
    }
   ],
   "source": [
    "print('correlation with the number of packages')\n",
    "for i, col1 in enumerate(['vuln','bug','time','vers','pkg']):\n",
    "    print(col1, scipy.stats.pearsonr(all_lags[col1], all_lags['packages']))"
   ]
  },
  {
   "cell_type": "markdown",
   "metadata": {},
   "source": [
    "# PCA"
   ]
  },
  {
   "cell_type": "code",
   "execution_count": 9,
   "metadata": {},
   "outputs": [],
   "source": [
    "from sklearn.preprocessing import QuantileTransformer\n",
    "from sklearn.preprocessing import StandardScaler\n",
    "\n",
    "features = ['pkg', 'time', 'vers', 'vuln', 'bug']\n",
    "# Separating out the features\n",
    "x = all_lags.loc[:, features].values\n",
    "# Standardizing the features\n",
    "x = StandardScaler().fit_transform(x)\n",
    "\n",
    "#x = QuantileTransformer(output_distribution='normal').fit_transform(x)\n",
    "\n",
    "from sklearn.decomposition import PCA\n",
    "pca = PCA(n_components=5)\n",
    "principalComponents = pca.fit_transform(x)"
   ]
  },
  {
   "cell_type": "code",
   "execution_count": 10,
   "metadata": {},
   "outputs": [
    {
     "data": {
      "text/plain": [
       "array([0.76828754, 0.1045065 , 0.08515503, 0.03247034, 0.00958059])"
      ]
     },
     "execution_count": 10,
     "metadata": {},
     "output_type": "execute_result"
    }
   ],
   "source": [
    "pca.explained_variance_ratio_"
   ]
  },
  {
   "cell_type": "code",
   "execution_count": 11,
   "metadata": {},
   "outputs": [
    {
     "data": {
      "text/plain": [
       "array([[ 0.48899436,  0.3860418 ,  0.47612703,  0.46435453,  0.41174527],\n",
       "       [ 0.10559078, -0.89506602,  0.34955045,  0.05233007,  0.25056626],\n",
       "       [ 0.2436482 , -0.11445776,  0.18425882,  0.40642066, -0.85346699],\n",
       "       [ 0.38856896,  0.11662149,  0.43132475, -0.7842964 , -0.18507216],\n",
       "       [-0.73442823,  0.15207695,  0.65660123,  0.0365764 , -0.07088561]])"
      ]
     },
     "execution_count": 11,
     "metadata": {},
     "output_type": "execute_result"
    }
   ],
   "source": [
    "pca.components_"
   ]
  },
  {
   "cell_type": "code",
   "execution_count": 12,
   "metadata": {},
   "outputs": [
    {
     "name": "stdout",
     "output_type": "stream",
     "text": [
      "[0.21954945 0.17332565 0.21377226 0.20848662 0.18486603]\n",
      "[-0.77057558  6.53197196 -2.55093334 -0.381892   -1.82857105]\n",
      "[-1.82375402  0.85673856 -1.37921303 -3.04213746  6.38836595]\n",
      "[-11.82737344  -3.54975845 -13.12878639  23.87263882   5.63327945]\n",
      "[-18.38794445   3.80756405  16.439383     0.91576662  -1.77476922]\n"
     ]
    }
   ],
   "source": [
    "for y in pca.components_:\n",
    "    print(y/y.sum())"
   ]
  },
  {
   "cell_type": "code",
   "execution_count": 13,
   "metadata": {},
   "outputs": [],
   "source": [
    "df = pd.DataFrame(\n",
    "    index=['component 1', 'component 2', 'component 3', 'component 4', 'component 5'],\n",
    "    columns=features,\n",
    "    data=pca.components_\n",
    ")\n",
    "df['explained variance'] = pca.explained_variance_ratio_"
   ]
  },
  {
   "cell_type": "code",
   "execution_count": 14,
   "metadata": {},
   "outputs": [
    {
     "data": {
      "text/html": [
       "<div>\n",
       "<style scoped>\n",
       "    .dataframe tbody tr th:only-of-type {\n",
       "        vertical-align: middle;\n",
       "    }\n",
       "\n",
       "    .dataframe tbody tr th {\n",
       "        vertical-align: top;\n",
       "    }\n",
       "\n",
       "    .dataframe thead th {\n",
       "        text-align: right;\n",
       "    }\n",
       "</style>\n",
       "<table border=\"1\" class=\"dataframe\">\n",
       "  <thead>\n",
       "    <tr style=\"text-align: right;\">\n",
       "      <th></th>\n",
       "      <th>pkg</th>\n",
       "      <th>time</th>\n",
       "      <th>vers</th>\n",
       "      <th>vuln</th>\n",
       "      <th>bug</th>\n",
       "      <th>explained variance</th>\n",
       "    </tr>\n",
       "  </thead>\n",
       "  <tbody>\n",
       "    <tr>\n",
       "      <td>component 1</td>\n",
       "      <td>0.488994</td>\n",
       "      <td>0.386042</td>\n",
       "      <td>0.476127</td>\n",
       "      <td>0.464355</td>\n",
       "      <td>0.411745</td>\n",
       "      <td>0.768288</td>\n",
       "    </tr>\n",
       "    <tr>\n",
       "      <td>component 2</td>\n",
       "      <td>0.105591</td>\n",
       "      <td>-0.895066</td>\n",
       "      <td>0.349550</td>\n",
       "      <td>0.052330</td>\n",
       "      <td>0.250566</td>\n",
       "      <td>0.104506</td>\n",
       "    </tr>\n",
       "    <tr>\n",
       "      <td>component 3</td>\n",
       "      <td>0.243648</td>\n",
       "      <td>-0.114458</td>\n",
       "      <td>0.184259</td>\n",
       "      <td>0.406421</td>\n",
       "      <td>-0.853467</td>\n",
       "      <td>0.085155</td>\n",
       "    </tr>\n",
       "    <tr>\n",
       "      <td>component 4</td>\n",
       "      <td>0.388569</td>\n",
       "      <td>0.116621</td>\n",
       "      <td>0.431325</td>\n",
       "      <td>-0.784296</td>\n",
       "      <td>-0.185072</td>\n",
       "      <td>0.032470</td>\n",
       "    </tr>\n",
       "    <tr>\n",
       "      <td>component 5</td>\n",
       "      <td>-0.734428</td>\n",
       "      <td>0.152077</td>\n",
       "      <td>0.656601</td>\n",
       "      <td>0.036576</td>\n",
       "      <td>-0.070886</td>\n",
       "      <td>0.009581</td>\n",
       "    </tr>\n",
       "  </tbody>\n",
       "</table>\n",
       "</div>"
      ],
      "text/plain": [
       "                  pkg      time      vers      vuln       bug  \\\n",
       "component 1  0.488994  0.386042  0.476127  0.464355  0.411745   \n",
       "component 2  0.105591 -0.895066  0.349550  0.052330  0.250566   \n",
       "component 3  0.243648 -0.114458  0.184259  0.406421 -0.853467   \n",
       "component 4  0.388569  0.116621  0.431325 -0.784296 -0.185072   \n",
       "component 5 -0.734428  0.152077  0.656601  0.036576 -0.070886   \n",
       "\n",
       "             explained variance  \n",
       "component 1            0.768288  \n",
       "component 2            0.104506  \n",
       "component 3            0.085155  \n",
       "component 4            0.032470  \n",
       "component 5            0.009581  "
      ]
     },
     "execution_count": 14,
     "metadata": {},
     "output_type": "execute_result"
    }
   ],
   "source": [
    "df"
   ]
  },
  {
   "cell_type": "code",
   "execution_count": 15,
   "metadata": {},
   "outputs": [
    {
     "name": "stdout",
     "output_type": "stream",
     "text": [
      "\\begin{tabular}{lrrrrrr}\n",
      "\\toprule\n",
      "{} &   pkg &  time &  vers &  vuln &   bug &  explained variance \\\\\n",
      "\\midrule\n",
      "\\textbf{component 1} &  0.49 &  0.39 &  0.48 &  0.46 &  0.41 &                0.77 \\\\\n",
      "\\textbf{component 2} &  0.11 & -0.90 &  0.35 &  0.05 &  0.25 &                0.10 \\\\\n",
      "\\textbf{component 3} &  0.24 & -0.11 &  0.18 &  0.41 & -0.85 &                0.09 \\\\\n",
      "\\textbf{component 4} &  0.39 &  0.12 &  0.43 & -0.78 & -0.19 &                0.03 \\\\\n",
      "\\textbf{component 5} & -0.73 &  0.15 &  0.66 &  0.04 & -0.07 &                0.01 \\\\\n",
      "\\bottomrule\n",
      "\\end{tabular}\n",
      "\n"
     ]
    }
   ],
   "source": [
    "print(df.to_latex(\n",
    "    columns=['pkg', 'time', 'vers', 'vuln', 'bug', 'explained variance'],\n",
    "    float_format='{:0.2f}'.format,\n",
    "    bold_rows=True,\n",
    "))"
   ]
  },
  {
   "cell_type": "code",
   "execution_count": 16,
   "metadata": {},
   "outputs": [
    {
     "data": {
      "image/png": "[encoded data removed]",
      "text/plain": [
       "<Figure size 432x288 with 2 Axes>"
      ]
     },
     "metadata": {
      "needs_background": "light"
     },
     "output_type": "display_data"
    }
   ],
   "source": [
    "ax = sns.heatmap(\n",
    "    df, \n",
    "    annot = True, \n",
    "    cmap=sns.color_palette('bwr'), \n",
    "    vmin=-1, \n",
    "    vmax=1\n",
    ")"
   ]
  },
  {
   "cell_type": "code",
   "execution_count": 18,
   "metadata": {},
   "outputs": [],
   "source": [
    "from sklearn.linear_model import LinearRegression\n",
    "scores = dict()\n",
    "coef = dict()\n",
    "\n",
    "Z = all_lags[features]\n",
    "Z = (Z - Z.mean()) / Z.std()\n",
    "\n",
    "for feature in features:\n",
    "    remaining = [x for x in features if x != feature]\n",
    "    X, y = Z[remaining], Z[feature]\n",
    "    reg = LinearRegression()\n",
    "    reg.fit(X, y)\n",
    "    scores[feature] = reg.score(X, y)\n",
    "    coef[feature] = list(zip(remaining, reg.coef_))"
   ]
  },
  {
   "cell_type": "code",
   "execution_count": 19,
   "metadata": {},
   "outputs": [
    {
     "data": {
      "text/plain": [
       "{'pkg': 0.9194389731127094,\n",
       " 'time': 0.5390273020920764,\n",
       " 'vers': 0.9049291371646415,\n",
       " 'vuln': 0.7655918443687322,\n",
       " 'bug': 0.5435724480604166}"
      ]
     },
     "execution_count": 19,
     "metadata": {},
     "output_type": "execute_result"
    }
   ],
   "source": [
    "scores"
   ]
  },
  {
   "cell_type": "code",
   "execution_count": 20,
   "metadata": {},
   "outputs": [
    {
     "data": {
      "text/plain": [
       "{'pkg': [('time', 0.18123721776933496),\n",
       "  ('vers', 0.708753979135347),\n",
       "  ('vuln', 0.17204893742890826),\n",
       "  ('bug', -0.020824531358822562)],\n",
       " 'time': [('pkg', 1.0370449889296762),\n",
       "  ('vers', -0.8269354946335014),\n",
       "  ('vuln', 0.2763486445800097),\n",
       "  ('bug', 0.23803604350166296)],\n",
       " 'vers': [('pkg', 0.8364075650205526),\n",
       "  ('time', -0.1705469138209484),\n",
       "  ('vuln', 0.12491090250445142),\n",
       "  ('bug', 0.15344484441234685)],\n",
       " 'vuln': [('pkg', 0.500610228782781),\n",
       "  ('time', 0.14052540721207613),\n",
       "  ('vers', 0.30798220822948585),\n",
       "  ('bug', -0.023470179928672952)],\n",
       " 'bug': [('pkg', -0.11798372284518478),\n",
       "  ('time', 0.23568903126333995),\n",
       "  ('vers', 0.7366763338856228),\n",
       "  ('vuln', -0.04569993198221095)]}"
      ]
     },
     "execution_count": 20,
     "metadata": {},
     "output_type": "execute_result"
    }
   ],
   "source": [
    "coef"
   ]
  },
  {
   "cell_type": "code",
   "execution_count": null,
   "metadata": {},
   "outputs": [],
   "source": []
  }
 ],
 "metadata": {
  "kernelspec": {
   "display_name": "Python 3",
   "language": "python",
   "name": "python3"
  },
  "language_info": {
   "codemirror_mode": {
    "name": "ipython",
    "version": 3
   },
   "file_extension": ".py",
   "mimetype": "text/x-python",
   "name": "python",
   "nbconvert_exporter": "python",
   "pygments_lexer": "ipython3",
   "version": "3.6.8"
  }
 },
 "nbformat": 4,
 "nbformat_minor": 4
}
