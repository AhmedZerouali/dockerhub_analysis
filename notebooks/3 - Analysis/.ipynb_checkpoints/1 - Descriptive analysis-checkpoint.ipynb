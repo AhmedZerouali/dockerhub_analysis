{
 "cells": [
  {
   "cell_type": "code",
   "execution_count": 2,
   "metadata": {},
   "outputs": [],
   "source": [
    "%matplotlib inline\n",
    "from imports import *\n",
    "font = {'family' : 'Times New Roman',\n",
    "        'weight' : 'bold',\n",
    "        'size'   : 16}\n",
    "plt.rc('font', **font)"
   ]
  },
  {
   "cell_type": "markdown",
   "metadata": {},
   "source": [
    "# All images and tags"
   ]
  },
  {
   "cell_type": "code",
   "execution_count": null,
   "metadata": {},
   "outputs": [],
   "source": [
    "df = pd.read_csv('../../data/prepared_data/compact.csv.gz')"
   ]
  },
  {
   "cell_type": "code",
   "execution_count": null,
   "metadata": {},
   "outputs": [],
   "source": [
    "df.query('kind==\"official\"')[['image','hash']].image.size"
   ]
  },
  {
   "cell_type": "code",
   "execution_count": 6,
   "metadata": {},
   "outputs": [
    {
     "data": {
      "text/plain": [
       "(12427, 1)"
      ]
     },
     "execution_count": 6,
     "metadata": {},
     "output_type": "execute_result"
    }
   ],
   "source": [
    "df.query('kind==\"official\"')[['image','hash']].set_index('image').drop_duplicates().shape"
   ]
  },
  {
   "cell_type": "code",
   "execution_count": 7,
   "metadata": {},
   "outputs": [
    {
     "data": {
      "text/plain": [
       "5718715"
      ]
     },
     "execution_count": 7,
     "metadata": {},
     "output_type": "execute_result"
    }
   ],
   "source": [
    "df.query('kind==\"community\"')[['image','hash']].image.size"
   ]
  },
  {
   "cell_type": "code",
   "execution_count": 8,
   "metadata": {},
   "outputs": [
    {
     "data": {
      "text/plain": [
       "(4381972, 1)"
      ]
     },
     "execution_count": 8,
     "metadata": {},
     "output_type": "execute_result"
    }
   ],
   "source": [
    "df.query('kind==\"community\"')[['image','hash']].set_index('image').drop_duplicates().shape"
   ]
  },
  {
   "cell_type": "markdown",
   "metadata": {},
   "source": [
    "# Load images"
   ]
  },
  {
   "cell_type": "code",
   "execution_count": 2,
   "metadata": {},
   "outputs": [
    {
     "data": {
      "text/plain": [
       "(140498, 4)"
      ]
     },
     "execution_count": 2,
     "metadata": {},
     "output_type": "execute_result"
    }
   ],
   "source": [
    "images = pd.read_csv('../../data/for_analysis/installed_packages.csv',\n",
    "                    usecols = ['image','last_updated','type','release'])\n",
    "images.drop_duplicates(inplace=True)\n",
    "images.shape"
   ]
  },
  {
   "cell_type": "code",
   "execution_count": 3,
   "metadata": {},
   "outputs": [],
   "source": [
    "images['slug'] = images['image'].apply(lambda x: '/'.join(x.split(':')[0:2]))"
   ]
  },
  {
   "cell_type": "code",
   "execution_count": 4,
   "metadata": {},
   "outputs": [],
   "source": [
    "images.replace({'type': type_map}, inplace=True)\n",
    "images.replace({'release': release_map}, inplace=True)"
   ]
  },
  {
   "cell_type": "code",
   "execution_count": 4,
   "metadata": {},
   "outputs": [
    {
     "data": {
      "text/plain": [
       "14007"
      ]
     },
     "execution_count": 4,
     "metadata": {},
     "output_type": "execute_result"
    }
   ],
   "source": [
    "images.slug.unique().size"
   ]
  },
  {
   "cell_type": "code",
   "execution_count": 34,
   "metadata": {},
   "outputs": [
    {
     "data": {
      "text/plain": [
       "(9330, 131168)"
      ]
     },
     "execution_count": 34,
     "metadata": {},
     "output_type": "execute_result"
    }
   ],
   "source": [
    "print(images.query('type == \"o\"').image.unique().size, images.query('type == \"c\"').image.unique().size)"
   ]
  },
  {
   "cell_type": "markdown",
   "metadata": {},
   "source": [
    "# Load popularity"
   ]
  },
  {
   "cell_type": "code",
   "execution_count": null,
   "metadata": {},
   "outputs": [],
   "source": [
    "pop = pd.concat([pd.read_csv('../../data/images_tags/'+file+'.zip', usecols=['slug','popularity']) \n",
    "                        for file in ['official_images','community_images']])\n",
    "pop.shape"
   ]
  },
  {
   "cell_type": "code",
   "execution_count": null,
   "metadata": {},
   "outputs": [],
   "source": [
    "pop.popularity.describe().apply(lambda x: format(x, 'f'))"
   ]
  },
  {
   "cell_type": "code",
   "execution_count": null,
   "metadata": {},
   "outputs": [],
   "source": [
    "mask = pop.slug.isin(images.slug)\n",
    "pop = pop[mask]"
   ]
  },
  {
   "cell_type": "code",
   "execution_count": null,
   "metadata": {},
   "outputs": [],
   "source": [
    "images = (images\n",
    "          .merge(pop,\n",
    "                on = 'slug',\n",
    "                how = 'left')\n",
    "         )\n",
    "images.shape"
   ]
  },
  {
   "cell_type": "code",
   "execution_count": null,
   "metadata": {},
   "outputs": [],
   "source": [
    "images.popularity.describe().apply(lambda x: format(x, 'f'))"
   ]
  },
  {
   "cell_type": "markdown",
   "metadata": {},
   "source": [
    "### Let's check when images were last updated"
   ]
  },
  {
   "cell_type": "code",
   "execution_count": 5,
   "metadata": {},
   "outputs": [],
   "source": [
    "images = images.query('last_updated != \"None\"')\n",
    "images['last_updated'] = pd.to_datetime(images['last_updated'])"
   ]
  },
  {
   "cell_type": "code",
   "execution_count": 22,
   "metadata": {},
   "outputs": [],
   "source": [
    "df_tmp=(images.\n",
    "        groupby(['release','last_updated','type']).\n",
    "        count().\n",
    "        reset_index()\n",
    "       )\n",
    "\n",
    "df_tmp = (df_tmp\n",
    "          .pivot_table(index=['last_updated','type'], columns='release', values='image')\n",
    "#          .fillna(method='ffill')\n",
    "          .fillna(0)\n",
    "          .reset_index())"
   ]
  },
  {
   "cell_type": "code",
   "execution_count": 95,
   "metadata": {},
   "outputs": [
    {
     "data": {
      "image/png": "[encoded data removed]",
      "text/plain": [
       "<Figure size 720x180 with 2 Axes>"
      ]
     },
     "metadata": {
      "needs_background": "light"
     },
     "output_type": "display_data"
    }
   ],
   "source": [
    "fig, axes = plt.subplots(1, 2, sharex=True, sharey=False)\n",
    "fig.set_size_inches(10,2.5)\n",
    "for j, genre in enumerate(['official','community']):\n",
    "    df_=(df_tmp\n",
    "         .query('type ==\"{}\"'.format(genre))\n",
    "         .groupby(pd.Grouper(key='last_updated', freq='1M'))[['Oldstable','Stable','Testing']]\n",
    "         .agg(sum)\n",
    "         .cumsum()\n",
    "        )   \n",
    "    df_ = df_/len(images.query('type ==\"'+genre+'\"'))\n",
    "    \n",
    "    ax=df_.plot(ax=axes[j], linewidth=2, colors=[colors[x] for x in ['Oldstable','Stable','Testing']])\n",
    "    print(df_.tail(1))\n",
    "    if j==0:\n",
    "        ax.set_ylabel('proportion of images')\n",
    "        ax.legend(loc='upper left',  prop={'size': 16, 'weight':'bold'})\n",
    "    ax.set(\n",
    "        xlabel='',\n",
    "        title=genre,\n",
    "        xlim=date_period,\n",
    "    )\n",
    "    \n",
    "    minorLocator   = MultipleLocator(3)\n",
    "    ax.xaxis.set_minor_locator(minorLocator)\n",
    "ax.legend('').remove()    \n"
   ]
  },
  {
   "cell_type": "code",
   "execution_count": 104,
   "metadata": {},
   "outputs": [
    {
     "name": "stdout",
     "output_type": "stream",
     "text": [
      "year\n",
      "2016     2.132905\n",
      "2017    18.531618\n",
      "2018    42.047160\n",
      "2019    37.288317\n",
      "Name: image, dtype: float64\n",
      "year\n",
      "2016     1.161124\n",
      "2017    14.850647\n",
      "2018    43.339737\n",
      "2019    40.648491\n",
      "Name: image, dtype: float64\n"
     ]
    }
   ],
   "source": [
    "for j, genre in enumerate(['official','community']):\n",
    "    df_=(df_tmp\n",
    "         .groupby(pd.Grouper(key='last_updated', freq='1M'))[['Oldstable','Stable','Testing']]\n",
    "         .agg(sum)\n",
    "         .cumsum()\n",
    "        )  \n",
    "    # Compute R²\n",
    "\n",
    "    for x in ['Oldstable','Stable','Testing']:\n",
    "        print(genre,x)\n",
    "        slope, intercept, r_value, p_value, std_err = scipy.stats.linregress(df_.reset_index().index,\n",
    "                               df_[x].values)\n",
    "        print (\"r-squared:\", r_value**2)\n",
    "\n",
    "        df_test = df_.query(x+'>0')\n",
    "        slope, intercept, r_value, p_value, std_err = scipy.stats.linregress(df_test.reset_index().index,\n",
    "                               np.log(df_test[x].values))\n",
    "        print (\"r-squared:\", r_value**2)\n",
    "    break"
   ]
  },
  {
   "cell_type": "markdown",
   "metadata": {},
   "source": [
    "# Load packages"
   ]
  },
  {
   "cell_type": "code",
   "execution_count": 2,
   "metadata": {},
   "outputs": [
    {
     "name": "stderr",
     "output_type": "stream",
     "text": [
      "/usr/local/lib/python3.6/dist-packages/IPython/core/interactiveshell.py:3020: DtypeWarning: Columns (1) have mixed types. Specify dtype option on import or set low_memory=False.\n",
      "  interactivity=interactivity, compiler=compiler, result=result)\n"
     ]
    },
    {
     "data": {
      "text/plain": [
       "(46272487, 5)"
      ]
     },
     "execution_count": 2,
     "metadata": {},
     "output_type": "execute_result"
    }
   ],
   "source": [
    "packages = pd.read_csv('../../data/for_analysis/installed_packages.csv',\n",
    "                      usecols=['image','package','type','version','release'])\n",
    "packages.shape"
   ]
  },
  {
   "cell_type": "code",
   "execution_count": 3,
   "metadata": {},
   "outputs": [
    {
     "data": {
      "text/plain": [
       "array(['stretch', 'buster', 'jessie'], dtype=object)"
      ]
     },
     "execution_count": 3,
     "metadata": {},
     "output_type": "execute_result"
    }
   ],
   "source": [
    "packages.release.unique()"
   ]
  },
  {
   "cell_type": "code",
   "execution_count": 5,
   "metadata": {},
   "outputs": [
    {
     "data": {
      "text/plain": [
       "('number of images', 140498)"
      ]
     },
     "execution_count": 5,
     "metadata": {},
     "output_type": "execute_result"
    }
   ],
   "source": [
    "'number of images', packages.image.unique().size"
   ]
  },
  {
   "cell_type": "code",
   "execution_count": 6,
   "metadata": {},
   "outputs": [
    {
     "data": {
      "text/html": [
       "<div>\n",
       "<style scoped>\n",
       "    .dataframe tbody tr th:only-of-type {\n",
       "        vertical-align: middle;\n",
       "    }\n",
       "\n",
       "    .dataframe tbody tr th {\n",
       "        vertical-align: top;\n",
       "    }\n",
       "\n",
       "    .dataframe thead th {\n",
       "        text-align: right;\n",
       "    }\n",
       "</style>\n",
       "<table border=\"1\" class=\"dataframe\">\n",
       "  <thead>\n",
       "    <tr style=\"text-align: right;\">\n",
       "      <th></th>\n",
       "      <th>image</th>\n",
       "    </tr>\n",
       "    <tr>\n",
       "      <th>type</th>\n",
       "      <th></th>\n",
       "    </tr>\n",
       "  </thead>\n",
       "  <tbody>\n",
       "    <tr>\n",
       "      <th>c</th>\n",
       "      <td>131168</td>\n",
       "    </tr>\n",
       "    <tr>\n",
       "      <th>o</th>\n",
       "      <td>9330</td>\n",
       "    </tr>\n",
       "  </tbody>\n",
       "</table>\n",
       "</div>"
      ],
      "text/plain": [
       "       image\n",
       "type        \n",
       "c     131168\n",
       "o       9330"
      ]
     },
     "execution_count": 6,
     "metadata": {},
     "output_type": "execute_result"
    }
   ],
   "source": [
    "packages[['image','type']].drop_duplicates().groupby('type').count()"
   ]
  },
  {
   "cell_type": "code",
   "execution_count": 8,
   "metadata": {},
   "outputs": [
    {
     "data": {
      "text/html": [
       "<div>\n",
       "<style scoped>\n",
       "    .dataframe tbody tr th:only-of-type {\n",
       "        vertical-align: middle;\n",
       "    }\n",
       "\n",
       "    .dataframe tbody tr th {\n",
       "        vertical-align: top;\n",
       "    }\n",
       "\n",
       "    .dataframe thead th {\n",
       "        text-align: right;\n",
       "    }\n",
       "</style>\n",
       "<table border=\"1\" class=\"dataframe\">\n",
       "  <thead>\n",
       "    <tr style=\"text-align: right;\">\n",
       "      <th></th>\n",
       "      <th></th>\n",
       "      <th>image</th>\n",
       "    </tr>\n",
       "    <tr>\n",
       "      <th>type</th>\n",
       "      <th>release</th>\n",
       "      <th></th>\n",
       "    </tr>\n",
       "  </thead>\n",
       "  <tbody>\n",
       "    <tr>\n",
       "      <th rowspan=\"3\" valign=\"top\">c</th>\n",
       "      <th>buster</th>\n",
       "      <td>3114</td>\n",
       "    </tr>\n",
       "    <tr>\n",
       "      <th>jessie</th>\n",
       "      <td>52520</td>\n",
       "    </tr>\n",
       "    <tr>\n",
       "      <th>stretch</th>\n",
       "      <td>75534</td>\n",
       "    </tr>\n",
       "    <tr>\n",
       "      <th rowspan=\"3\" valign=\"top\">o</th>\n",
       "      <th>buster</th>\n",
       "      <td>741</td>\n",
       "    </tr>\n",
       "    <tr>\n",
       "      <th>jessie</th>\n",
       "      <td>3085</td>\n",
       "    </tr>\n",
       "    <tr>\n",
       "      <th>stretch</th>\n",
       "      <td>5504</td>\n",
       "    </tr>\n",
       "  </tbody>\n",
       "</table>\n",
       "</div>"
      ],
      "text/plain": [
       "              image\n",
       "type release       \n",
       "c    buster    3114\n",
       "     jessie   52520\n",
       "     stretch  75534\n",
       "o    buster     741\n",
       "     jessie    3085\n",
       "     stretch   5504"
      ]
     },
     "execution_count": 8,
     "metadata": {},
     "output_type": "execute_result"
    }
   ],
   "source": [
    "packages[['image','type','release']].drop_duplicates().groupby(['type','release']).count()"
   ]
  },
  {
   "cell_type": "code",
   "execution_count": 9,
   "metadata": {},
   "outputs": [
    {
     "data": {
      "text/html": [
       "<div>\n",
       "<style scoped>\n",
       "    .dataframe tbody tr th:only-of-type {\n",
       "        vertical-align: middle;\n",
       "    }\n",
       "\n",
       "    .dataframe tbody tr th {\n",
       "        vertical-align: top;\n",
       "    }\n",
       "\n",
       "    .dataframe thead th {\n",
       "        text-align: right;\n",
       "    }\n",
       "</style>\n",
       "<table border=\"1\" class=\"dataframe\">\n",
       "  <thead>\n",
       "    <tr style=\"text-align: right;\">\n",
       "      <th></th>\n",
       "      <th>image</th>\n",
       "    </tr>\n",
       "    <tr>\n",
       "      <th>release</th>\n",
       "      <th></th>\n",
       "    </tr>\n",
       "  </thead>\n",
       "  <tbody>\n",
       "    <tr>\n",
       "      <th>buster</th>\n",
       "      <td>3855</td>\n",
       "    </tr>\n",
       "    <tr>\n",
       "      <th>jessie</th>\n",
       "      <td>55605</td>\n",
       "    </tr>\n",
       "    <tr>\n",
       "      <th>stretch</th>\n",
       "      <td>81038</td>\n",
       "    </tr>\n",
       "  </tbody>\n",
       "</table>\n",
       "</div>"
      ],
      "text/plain": [
       "         image\n",
       "release       \n",
       "buster    3855\n",
       "jessie   55605\n",
       "stretch  81038"
      ]
     },
     "execution_count": 9,
     "metadata": {},
     "output_type": "execute_result"
    }
   ],
   "source": [
    "packages[['image','release']].drop_duplicates().groupby('release').count()"
   ]
  },
  {
   "cell_type": "code",
   "execution_count": 6,
   "metadata": {},
   "outputs": [
    {
     "data": {
      "text/plain": [
       "((2042387, 5), (44230100, 5))"
      ]
     },
     "execution_count": 6,
     "metadata": {},
     "output_type": "execute_result"
    }
   ],
   "source": [
    "packages.query('type == \"o\"').shape, packages.query('type == \"c\"').shape"
   ]
  },
  {
   "cell_type": "code",
   "execution_count": 15,
   "metadata": {},
   "outputs": [
    {
     "data": {
      "text/plain": [
       "185.0"
      ]
     },
     "execution_count": 15,
     "metadata": {},
     "output_type": "execute_result"
    }
   ],
   "source": [
    "packages.query('type == \"o\"').groupby('image').count()[['package']].package.median()"
   ]
  },
  {
   "cell_type": "code",
   "execution_count": 14,
   "metadata": {},
   "outputs": [
    {
     "data": {
      "text/plain": [
       "377.0"
      ]
     },
     "execution_count": 14,
     "metadata": {},
     "output_type": "execute_result"
    }
   ],
   "source": [
    "packages.query('type == \"c\"').groupby('image').count()[['package']].package.median()"
   ]
  },
  {
   "cell_type": "markdown",
   "metadata": {},
   "source": [
    "# Vulnerabilities"
   ]
  },
  {
   "cell_type": "code",
   "execution_count": 4,
   "metadata": {},
   "outputs": [],
   "source": [
    "# From DEBIAN SECURITY TRACKER\n",
    "import json as js\n",
    "import codecs\n",
    "vulnerabilities=js.load(codecs.open('../../data/prepared_data/vuls_extracted_20190830.json', 'r', 'utf-8'))"
   ]
  },
  {
   "cell_type": "code",
   "execution_count": 7,
   "metadata": {},
   "outputs": [
    {
     "data": {
      "text/plain": [
       "29111"
      ]
     },
     "execution_count": 7,
     "metadata": {},
     "output_type": "execute_result"
    }
   ],
   "source": [
    "sum([len(vulnerabilities[x]) for x in vulnerabilities])"
   ]
  },
  {
   "cell_type": "code",
   "execution_count": 9,
   "metadata": {},
   "outputs": [
    {
     "data": {
      "text/plain": [
       "(63601, 7)"
      ]
     },
     "execution_count": 9,
     "metadata": {},
     "output_type": "execute_result"
    }
   ],
   "source": [
    "vuls = pd.read_csv('../../data/for_analysis/vulnerabilities.csv')\n",
    "vuls = vuls.drop('archive', axis=1).drop_duplicates()\n",
    "vuls.shape"
   ]
  },
  {
   "cell_type": "code",
   "execution_count": 10,
   "metadata": {},
   "outputs": [],
   "source": [
    "urgency_map={'low**':'Low',\n",
    "            'low*':'Low',\n",
    "            'low':'Low',\n",
    "            'medium**':'Medium',\n",
    "            'medium**':'Medium',\n",
    "            'medium':'Medium',\n",
    "            'high**':'High',\n",
    "            'high*':'High',\n",
    "            'high':'High',\n",
    "            'unimportant': pd.np.nan,\n",
    "            'not yet assigned': pd.np.nan,\n",
    "            'end-of-life': pd.np.nan,\n",
    "           }\n",
    "\n",
    "vuls = vuls.query('status != \"undetermined\"').copy()\n",
    "vuls = (vuls\n",
    "        .replace({'urgency': urgency_map})\n",
    "        .dropna(subset=['urgency'])\n",
    "        .drop_duplicates()\n",
    "       )"
   ]
  },
  {
   "cell_type": "code",
   "execution_count": 11,
   "metadata": {},
   "outputs": [
    {
     "data": {
      "text/plain": [
       "5119"
      ]
     },
     "execution_count": 11,
     "metadata": {},
     "output_type": "execute_result"
    }
   ],
   "source": [
    "vuls.cve.unique().size"
   ]
  },
  {
   "cell_type": "code",
   "execution_count": 12,
   "metadata": {},
   "outputs": [],
   "source": [
    "vuls = vuls[['urgency','status','cve']].drop_duplicates()"
   ]
  },
  {
   "cell_type": "code",
   "execution_count": 21,
   "metadata": {},
   "outputs": [
    {
     "data": {
      "text/plain": [
       "<matplotlib.legend.Legend at 0x7f5a5b6d17b8>"
      ]
     },
     "execution_count": 21,
     "metadata": {},
     "output_type": "execute_result"
    },
    {
     "data": {
      "image/png": "[encoded data removed]",
      "text/plain": [
       "<Figure size 648x216 with 1 Axes>"
      ]
     },
     "metadata": {
      "needs_background": "light"
     },
     "output_type": "display_data"
    }
   ],
   "source": [
    "df_tmp=vuls.groupby(['urgency','status']).count().reset_index()\n",
    "df_tmp['cve']=df_tmp['cve']*100.0/len(vuls)\n",
    "df_tmp=df_tmp.sort_values('urgency', ascending=False)\n",
    "\n",
    "ax = sns.barplot(x=\"urgency\", \n",
    "                 y=\"cve\", \n",
    "                 hue=\"status\", \n",
    "                 order=['Low','Medium','High'],\n",
    "                 hue_order=['resolved', 'open'],\n",
    "                 data=df_tmp, \n",
    "                 palette=flatui, \n",
    "                 linewidth=1)\n",
    "ax.figure.set_size_inches(9,3)\n",
    "ax.set_xlabel(\"vulnerability severity \")\n",
    "ax.set_ylabel('proportion of \\nvulnerability reports')\n",
    "for patch in ax.patches:\n",
    "    patch.set_edgecolor('black')\n",
    "plt.yticks(np.arange(0, 60, 10))\n",
    "\n",
    "ax.legend(loc='upper left', fontsize=18, title='status')\n",
    "#ax.figure.savefig('../../figures/all_vuls.pdf', bbox_inches='tight', facecolor='white')"
   ]
  },
  {
   "cell_type": "code",
   "execution_count": 14,
   "metadata": {},
   "outputs": [
    {
     "data": {
      "text/plain": [
       "status\n",
       "open        26.645716\n",
       "resolved    73.354284\n",
       "Name: cve, dtype: float64"
      ]
     },
     "execution_count": 14,
     "metadata": {},
     "output_type": "execute_result"
    }
   ],
   "source": [
    "vuls.groupby(['status']).count().cve*100.0/len(vuls)"
   ]
  },
  {
   "cell_type": "code",
   "execution_count": 15,
   "metadata": {},
   "outputs": [
    {
     "data": {
      "text/plain": [
       "status\n",
       "open        1611\n",
       "resolved    4435\n",
       "Name: cve, dtype: int64"
      ]
     },
     "execution_count": 15,
     "metadata": {},
     "output_type": "execute_result"
    }
   ],
   "source": [
    "vuls.groupby(['status']).count().cve"
   ]
  },
  {
   "cell_type": "code",
   "execution_count": 16,
   "metadata": {},
   "outputs": [
    {
     "data": {
      "text/plain": [
       "urgency\n",
       "High      19.798214\n",
       "Low       21.055243\n",
       "Medium    59.146543\n",
       "Name: cve, dtype: float64"
      ]
     },
     "execution_count": 16,
     "metadata": {},
     "output_type": "execute_result"
    }
   ],
   "source": [
    "vuls.groupby(['urgency']).count().cve*100.0/len(vuls)"
   ]
  },
  {
   "cell_type": "markdown",
   "metadata": {},
   "source": [
    "# Bugs"
   ]
  },
  {
   "cell_type": "code",
   "execution_count": 6,
   "metadata": {},
   "outputs": [
    {
     "data": {
      "text/plain": [
       "(371639, 10)"
      ]
     },
     "execution_count": 6,
     "metadata": {},
     "output_type": "execute_result"
    }
   ],
   "source": [
    "bugs = pd.read_csv('../../data/for_analysis/bugs.csv')\n",
    "bugs.drop_duplicates(inplace=True)\n",
    "bugs= bugs.fillna('undefined')\n",
    "bugs.shape"
   ]
  },
  {
   "cell_type": "code",
   "execution_count": 7,
   "metadata": {},
   "outputs": [
    {
     "data": {
      "text/plain": [
       "45953"
      ]
     },
     "execution_count": 7,
     "metadata": {},
     "output_type": "execute_result"
    }
   ],
   "source": [
    "bugs.debianbug.unique().size"
   ]
  },
  {
   "cell_type": "code",
   "execution_count": 8,
   "metadata": {},
   "outputs": [],
   "source": [
    "def split_forwarded(status, fixed_in):\n",
    "    if status == 'forwarded':\n",
    "        if fixed_in == 'undefined':\n",
    "            return 'open'\n",
    "        else:\n",
    "            return 'resolved'\n",
    "    elif status == \"pending\":\n",
    "        return 'open'\n",
    "    else:\n",
    "        return 'resolved'\n",
    "bugs['status'] = bugs.apply(lambda d: split_forwarded(d['status'],d['fixed_in']), axis=1)"
   ]
  },
  {
   "cell_type": "code",
   "execution_count": 9,
   "metadata": {},
   "outputs": [],
   "source": [
    "bugs = bugs[['debianbug','status','severity']].drop_duplicates()"
   ]
  },
  {
   "cell_type": "code",
   "execution_count": 10,
   "metadata": {},
   "outputs": [
    {
     "data": {
      "text/plain": [
       "<matplotlib.legend.Legend at 0x7f498b9d0d30>"
      ]
     },
     "execution_count": 10,
     "metadata": {},
     "output_type": "execute_result"
    },
    {
     "data": {
      "image/png": "[encoded data removed]",
      "text/plain": [
       "<Figure size 576x198 with 1 Axes>"
      ]
     },
     "metadata": {
      "needs_background": "light"
     },
     "output_type": "display_data"
    }
   ],
   "source": [
    "df_tmp=bugs.groupby(['severity','status']).count().reset_index()\n",
    "df_tmp['debianbug']=df_tmp['debianbug']*100.0/len(bugs)\n",
    "df_tmp=df_tmp.sort_values('severity', ascending=False)\n",
    "\n",
    "ax = sns.barplot(x=\"severity\", \n",
    "                 y=\"debianbug\", \n",
    "                 hue=\"status\", \n",
    "                 hue_order = ['open','resolved'],\n",
    "                 order=['minor', 'normal', 'important', 'serious','grave','critical'],\n",
    "                 data=df_tmp, \n",
    "                 palette=flatui, \n",
    "                 linewidth=1)\n",
    "ax.figure.set_size_inches(8,2.75)\n",
    "ax.set_xlabel(\"bug urgency\")\n",
    "ax.set_ylabel('proportion of \\nbug reports')\n",
    "for patch in ax.patches:\n",
    "    patch.set_edgecolor('black')\n",
    "plt.yticks(np.arange(0, 60, 10))\n",
    "\n",
    "ax.legend(loc='upper right', fontsize=17, title=\"status\")"
   ]
  },
  {
   "cell_type": "code",
   "execution_count": 12,
   "metadata": {},
   "outputs": [
    {
     "data": {
      "text/plain": [
       "status\n",
       "open        55.45231\n",
       "resolved    44.54769\n",
       "Name: debianbug, dtype: float64"
      ]
     },
     "execution_count": 12,
     "metadata": {},
     "output_type": "execute_result"
    }
   ],
   "source": [
    "bugs.groupby(['status']).count().debianbug*100.0/len(bugs)"
   ]
  },
  {
   "cell_type": "code",
   "execution_count": 13,
   "metadata": {},
   "outputs": [
    {
     "data": {
      "text/plain": [
       "status\n",
       "open        25482\n",
       "resolved    20471\n",
       "Name: debianbug, dtype: int64"
      ]
     },
     "execution_count": 13,
     "metadata": {},
     "output_type": "execute_result"
    }
   ],
   "source": [
    "bugs.groupby(['status']).count().debianbug"
   ]
  },
  {
   "cell_type": "code",
   "execution_count": 14,
   "metadata": {},
   "outputs": [
    {
     "data": {
      "text/plain": [
       "severity\n",
       "critical      0.217614\n",
       "grave         2.008574\n",
       "important    24.575109\n",
       "minor        11.163580\n",
       "normal       56.777577\n",
       "serious       5.257546\n",
       "Name: debianbug, dtype: float64"
      ]
     },
     "execution_count": 14,
     "metadata": {},
     "output_type": "execute_result"
    }
   ],
   "source": [
    "bugs.groupby(['severity']).count().debianbug*100.0/len(bugs)"
   ]
  },
  {
   "cell_type": "code",
   "execution_count": 15,
   "metadata": {},
   "outputs": [],
   "source": [
    "severity_map={'minor':'Lower',\n",
    "            'normal':'Lower',\n",
    "            'important':'Higher',\n",
    "            'grave':'Higher',\n",
    "            'serious':'Higher',\n",
    "            'critical':'Higher',\n",
    "           }\n",
    "\n",
    "bugs = (bugs\n",
    "        .replace({'severity': severity_map})\n",
    "        .drop_duplicates()\n",
    "       )"
   ]
  },
  {
   "cell_type": "code",
   "execution_count": 27,
   "metadata": {},
   "outputs": [
    {
     "data": {
      "text/plain": [
       "Text(0.18, 1.15, 'Status:')"
      ]
     },
     "execution_count": 27,
     "metadata": {},
     "output_type": "execute_result"
    },
    {
     "data": {
      "image/png": "[encoded data removed]",
      "text/plain": [
       "<Figure size 864x216 with 1 Axes>"
      ]
     },
     "metadata": {
      "needs_background": "light"
     },
     "output_type": "display_data"
    }
   ],
   "source": [
    "df_tmp=bugs.groupby(['severity','status']).count().reset_index()\n",
    "df_tmp['debianbug']=df_tmp['debianbug']*100.0/len(bugs)\n",
    "df_tmp=df_tmp.sort_values('severity', ascending=False)\n",
    "\n",
    "ax = sns.barplot(x=\"severity\", \n",
    "                 y=\"debianbug\", \n",
    "                 hue=\"status\", \n",
    "                 hue_order = ['open','resolved'],\n",
    "                 data=df_tmp, \n",
    "                 palette=flatui, \n",
    "                 linewidth=1)\n",
    "ax.figure.set_size_inches(12,3)\n",
    "ax.set_xlabel(\"Severity\")\n",
    "ax.set_ylabel('Package \\n vulnerabilities \\%')\n",
    "for patch in ax.patches:\n",
    "    patch.set_edgecolor('black')\n",
    "ax.legend(loc='upper right', bbox_to_anchor=(1, 1.3), ncol=3, fontsize=20, fancybox=True, shadow=True)\n",
    "ax.text(0.18, 1.15, 'Status:', transform=ax.transAxes, fontsize=20,\n",
    "        verticalalignment='top', color='black')"
   ]
  },
  {
   "cell_type": "code",
   "execution_count": null,
   "metadata": {},
   "outputs": [],
   "source": []
  }
 ],
 "metadata": {
  "kernelspec": {
   "display_name": "Python 3",
   "language": "python",
   "name": "python3"
  },
  "language_info": {
   "codemirror_mode": {
    "name": "ipython",
    "version": 3
   },
   "file_extension": ".py",
   "mimetype": "text/x-python",
   "name": "python",
   "nbconvert_exporter": "python",
   "pygments_lexer": "ipython3",
   "version": "3.6.8"
  }
 },
 "nbformat": 4,
 "nbformat_minor": 2
}
